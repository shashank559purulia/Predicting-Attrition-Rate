{
  "nbformat": 4,
  "nbformat_minor": 0,
  "metadata": {
    "colab": {
      "name": "ola.ipynb",
      "provenance": [],
      "collapsed_sections": [],
      "authorship_tag": "ABX9TyOws7jdmL6/O2sOY7VyvsEQ",
      "include_colab_link": true
    },
    "kernelspec": {
      "name": "python3",
      "display_name": "Python 3"
    },
    "language_info": {
      "name": "python"
    }
  },
  "cells": [
    {
      "cell_type": "markdown",
      "metadata": {
        "id": "view-in-github",
        "colab_type": "text"
      },
      "source": [
        "<a href=\"https://colab.research.google.com/github/shashank559purulia/Predicting-Attrition-Rate/blob/main/ola.ipynb\" target=\"_parent\"><img src=\"https://colab.research.google.com/assets/colab-badge.svg\" alt=\"Open In Colab\"/></a>"
      ]
    },
    {
      "cell_type": "code",
      "execution_count": 1,
      "metadata": {
        "colab": {
          "base_uri": "https://localhost:8080/"
        },
        "id": "cSMwf87GAjQB",
        "outputId": "b85b8e42-2117-43c8-fb45-937db7ff790f"
      },
      "outputs": [
        {
          "output_type": "stream",
          "name": "stdout",
          "text": [
            "/usr/local/lib/python3.7/dist-packages/gdown/cli.py:131: FutureWarning: Option `--id` was deprecated in version 4.3.1 and will be removed in 5.0. You don't need to pass it anymore to use a file ID.\n",
            "  category=FutureWarning,\n",
            "Downloading...\n",
            "From: https://drive.google.com/uc?id=1zTxoojk8DBEgrDhqmjKNBSWSS2Mm4cIt\n",
            "To: /content/olla.csv\n",
            "100% 1.14M/1.14M [00:00<00:00, 114MB/s]\n"
          ]
        }
      ],
      "source": [
        "! gdown --id 1zTxoojk8DBEgrDhqmjKNBSWSS2Mm4cIt"
      ]
    },
    {
      "cell_type": "code",
      "source": [
        "import pandas as pd\n",
        "import numpy as np\n",
        "import matplotlib.pyplot as plt\n",
        "import seaborn as sns"
      ],
      "metadata": {
        "id": "FRfghJ0JA4K6"
      },
      "execution_count": 2,
      "outputs": []
    },
    {
      "cell_type": "code",
      "source": [
        "ola=pd.read_csv('olla.csv')\n",
        "ola.head()"
      ],
      "metadata": {
        "colab": {
          "base_uri": "https://localhost:8080/",
          "height": 285
        },
        "id": "nysA6AFABGWY",
        "outputId": "7f0808c9-5b3a-4193-df59-90a8138ce739"
      },
      "execution_count": 3,
      "outputs": [
        {
          "output_type": "execute_result",
          "data": {
            "text/plain": [
              "   Unnamed: 0     MMM-YY  Driver_ID   Age  Gender City  Education_Level  \\\n",
              "0           0   1/1/2019          1  28.0     0.0  C23                2   \n",
              "1           1   2/1/2019          1  28.0     0.0  C23                2   \n",
              "2           2   3/1/2019          1  28.0     0.0  C23                2   \n",
              "3           3  11/1/2020          2  31.0     0.0   C7                2   \n",
              "4           4  12/1/2020          2  31.0     0.0   C7                2   \n",
              "\n",
              "   Income Dateofjoining LastWorkingDate  Joining Designation  Grade  \\\n",
              "0   57387      24/12/18             NaN                    1      1   \n",
              "1   57387      24/12/18             NaN                    1      1   \n",
              "2   57387      24/12/18       3/11/2019                    1      1   \n",
              "3   67016     11/6/2020             NaN                    2      2   \n",
              "4   67016     11/6/2020             NaN                    2      2   \n",
              "\n",
              "   Total Business Value  Quarterly Rating  \n",
              "0               2381060                 2  \n",
              "1               -665480                 2  \n",
              "2                     0                 2  \n",
              "3                     0                 1  \n",
              "4                     0                 1  "
            ],
            "text/html": [
              "\n",
              "  <div id=\"df-71c8c264-365e-429e-b0bb-9cc32a62034c\">\n",
              "    <div class=\"colab-df-container\">\n",
              "      <div>\n",
              "<style scoped>\n",
              "    .dataframe tbody tr th:only-of-type {\n",
              "        vertical-align: middle;\n",
              "    }\n",
              "\n",
              "    .dataframe tbody tr th {\n",
              "        vertical-align: top;\n",
              "    }\n",
              "\n",
              "    .dataframe thead th {\n",
              "        text-align: right;\n",
              "    }\n",
              "</style>\n",
              "<table border=\"1\" class=\"dataframe\">\n",
              "  <thead>\n",
              "    <tr style=\"text-align: right;\">\n",
              "      <th></th>\n",
              "      <th>Unnamed: 0</th>\n",
              "      <th>MMM-YY</th>\n",
              "      <th>Driver_ID</th>\n",
              "      <th>Age</th>\n",
              "      <th>Gender</th>\n",
              "      <th>City</th>\n",
              "      <th>Education_Level</th>\n",
              "      <th>Income</th>\n",
              "      <th>Dateofjoining</th>\n",
              "      <th>LastWorkingDate</th>\n",
              "      <th>Joining Designation</th>\n",
              "      <th>Grade</th>\n",
              "      <th>Total Business Value</th>\n",
              "      <th>Quarterly Rating</th>\n",
              "    </tr>\n",
              "  </thead>\n",
              "  <tbody>\n",
              "    <tr>\n",
              "      <th>0</th>\n",
              "      <td>0</td>\n",
              "      <td>1/1/2019</td>\n",
              "      <td>1</td>\n",
              "      <td>28.0</td>\n",
              "      <td>0.0</td>\n",
              "      <td>C23</td>\n",
              "      <td>2</td>\n",
              "      <td>57387</td>\n",
              "      <td>24/12/18</td>\n",
              "      <td>NaN</td>\n",
              "      <td>1</td>\n",
              "      <td>1</td>\n",
              "      <td>2381060</td>\n",
              "      <td>2</td>\n",
              "    </tr>\n",
              "    <tr>\n",
              "      <th>1</th>\n",
              "      <td>1</td>\n",
              "      <td>2/1/2019</td>\n",
              "      <td>1</td>\n",
              "      <td>28.0</td>\n",
              "      <td>0.0</td>\n",
              "      <td>C23</td>\n",
              "      <td>2</td>\n",
              "      <td>57387</td>\n",
              "      <td>24/12/18</td>\n",
              "      <td>NaN</td>\n",
              "      <td>1</td>\n",
              "      <td>1</td>\n",
              "      <td>-665480</td>\n",
              "      <td>2</td>\n",
              "    </tr>\n",
              "    <tr>\n",
              "      <th>2</th>\n",
              "      <td>2</td>\n",
              "      <td>3/1/2019</td>\n",
              "      <td>1</td>\n",
              "      <td>28.0</td>\n",
              "      <td>0.0</td>\n",
              "      <td>C23</td>\n",
              "      <td>2</td>\n",
              "      <td>57387</td>\n",
              "      <td>24/12/18</td>\n",
              "      <td>3/11/2019</td>\n",
              "      <td>1</td>\n",
              "      <td>1</td>\n",
              "      <td>0</td>\n",
              "      <td>2</td>\n",
              "    </tr>\n",
              "    <tr>\n",
              "      <th>3</th>\n",
              "      <td>3</td>\n",
              "      <td>11/1/2020</td>\n",
              "      <td>2</td>\n",
              "      <td>31.0</td>\n",
              "      <td>0.0</td>\n",
              "      <td>C7</td>\n",
              "      <td>2</td>\n",
              "      <td>67016</td>\n",
              "      <td>11/6/2020</td>\n",
              "      <td>NaN</td>\n",
              "      <td>2</td>\n",
              "      <td>2</td>\n",
              "      <td>0</td>\n",
              "      <td>1</td>\n",
              "    </tr>\n",
              "    <tr>\n",
              "      <th>4</th>\n",
              "      <td>4</td>\n",
              "      <td>12/1/2020</td>\n",
              "      <td>2</td>\n",
              "      <td>31.0</td>\n",
              "      <td>0.0</td>\n",
              "      <td>C7</td>\n",
              "      <td>2</td>\n",
              "      <td>67016</td>\n",
              "      <td>11/6/2020</td>\n",
              "      <td>NaN</td>\n",
              "      <td>2</td>\n",
              "      <td>2</td>\n",
              "      <td>0</td>\n",
              "      <td>1</td>\n",
              "    </tr>\n",
              "  </tbody>\n",
              "</table>\n",
              "</div>\n",
              "      <button class=\"colab-df-convert\" onclick=\"convertToInteractive('df-71c8c264-365e-429e-b0bb-9cc32a62034c')\"\n",
              "              title=\"Convert this dataframe to an interactive table.\"\n",
              "              style=\"display:none;\">\n",
              "        \n",
              "  <svg xmlns=\"http://www.w3.org/2000/svg\" height=\"24px\"viewBox=\"0 0 24 24\"\n",
              "       width=\"24px\">\n",
              "    <path d=\"M0 0h24v24H0V0z\" fill=\"none\"/>\n",
              "    <path d=\"M18.56 5.44l.94 2.06.94-2.06 2.06-.94-2.06-.94-.94-2.06-.94 2.06-2.06.94zm-11 1L8.5 8.5l.94-2.06 2.06-.94-2.06-.94L8.5 2.5l-.94 2.06-2.06.94zm10 10l.94 2.06.94-2.06 2.06-.94-2.06-.94-.94-2.06-.94 2.06-2.06.94z\"/><path d=\"M17.41 7.96l-1.37-1.37c-.4-.4-.92-.59-1.43-.59-.52 0-1.04.2-1.43.59L10.3 9.45l-7.72 7.72c-.78.78-.78 2.05 0 2.83L4 21.41c.39.39.9.59 1.41.59.51 0 1.02-.2 1.41-.59l7.78-7.78 2.81-2.81c.8-.78.8-2.07 0-2.86zM5.41 20L4 18.59l7.72-7.72 1.47 1.35L5.41 20z\"/>\n",
              "  </svg>\n",
              "      </button>\n",
              "      \n",
              "  <style>\n",
              "    .colab-df-container {\n",
              "      display:flex;\n",
              "      flex-wrap:wrap;\n",
              "      gap: 12px;\n",
              "    }\n",
              "\n",
              "    .colab-df-convert {\n",
              "      background-color: #E8F0FE;\n",
              "      border: none;\n",
              "      border-radius: 50%;\n",
              "      cursor: pointer;\n",
              "      display: none;\n",
              "      fill: #1967D2;\n",
              "      height: 32px;\n",
              "      padding: 0 0 0 0;\n",
              "      width: 32px;\n",
              "    }\n",
              "\n",
              "    .colab-df-convert:hover {\n",
              "      background-color: #E2EBFA;\n",
              "      box-shadow: 0px 1px 2px rgba(60, 64, 67, 0.3), 0px 1px 3px 1px rgba(60, 64, 67, 0.15);\n",
              "      fill: #174EA6;\n",
              "    }\n",
              "\n",
              "    [theme=dark] .colab-df-convert {\n",
              "      background-color: #3B4455;\n",
              "      fill: #D2E3FC;\n",
              "    }\n",
              "\n",
              "    [theme=dark] .colab-df-convert:hover {\n",
              "      background-color: #434B5C;\n",
              "      box-shadow: 0px 1px 3px 1px rgba(0, 0, 0, 0.15);\n",
              "      filter: drop-shadow(0px 1px 2px rgba(0, 0, 0, 0.3));\n",
              "      fill: #FFFFFF;\n",
              "    }\n",
              "  </style>\n",
              "\n",
              "      <script>\n",
              "        const buttonEl =\n",
              "          document.querySelector('#df-71c8c264-365e-429e-b0bb-9cc32a62034c button.colab-df-convert');\n",
              "        buttonEl.style.display =\n",
              "          google.colab.kernel.accessAllowed ? 'block' : 'none';\n",
              "\n",
              "        async function convertToInteractive(key) {\n",
              "          const element = document.querySelector('#df-71c8c264-365e-429e-b0bb-9cc32a62034c');\n",
              "          const dataTable =\n",
              "            await google.colab.kernel.invokeFunction('convertToInteractive',\n",
              "                                                     [key], {});\n",
              "          if (!dataTable) return;\n",
              "\n",
              "          const docLinkHtml = 'Like what you see? Visit the ' +\n",
              "            '<a target=\"_blank\" href=https://colab.research.google.com/notebooks/data_table.ipynb>data table notebook</a>'\n",
              "            + ' to learn more about interactive tables.';\n",
              "          element.innerHTML = '';\n",
              "          dataTable['output_type'] = 'display_data';\n",
              "          await google.colab.output.renderOutput(dataTable, element);\n",
              "          const docLink = document.createElement('div');\n",
              "          docLink.innerHTML = docLinkHtml;\n",
              "          element.appendChild(docLink);\n",
              "        }\n",
              "      </script>\n",
              "    </div>\n",
              "  </div>\n",
              "  "
            ]
          },
          "metadata": {},
          "execution_count": 3
        }
      ]
    },
    {
      "cell_type": "code",
      "source": [
        "ola=ola.iloc[:,1:]\n",
        "ola.head()"
      ],
      "metadata": {
        "colab": {
          "base_uri": "https://localhost:8080/",
          "height": 268
        },
        "id": "IEg75mouBNZF",
        "outputId": "3292f800-3ea7-4ba7-cf42-ebc45577a8d0"
      },
      "execution_count": 4,
      "outputs": [
        {
          "output_type": "execute_result",
          "data": {
            "text/plain": [
              "      MMM-YY  Driver_ID   Age  Gender City  Education_Level  Income  \\\n",
              "0   1/1/2019          1  28.0     0.0  C23                2   57387   \n",
              "1   2/1/2019          1  28.0     0.0  C23                2   57387   \n",
              "2   3/1/2019          1  28.0     0.0  C23                2   57387   \n",
              "3  11/1/2020          2  31.0     0.0   C7                2   67016   \n",
              "4  12/1/2020          2  31.0     0.0   C7                2   67016   \n",
              "\n",
              "  Dateofjoining LastWorkingDate  Joining Designation  Grade  \\\n",
              "0      24/12/18             NaN                    1      1   \n",
              "1      24/12/18             NaN                    1      1   \n",
              "2      24/12/18       3/11/2019                    1      1   \n",
              "3     11/6/2020             NaN                    2      2   \n",
              "4     11/6/2020             NaN                    2      2   \n",
              "\n",
              "   Total Business Value  Quarterly Rating  \n",
              "0               2381060                 2  \n",
              "1               -665480                 2  \n",
              "2                     0                 2  \n",
              "3                     0                 1  \n",
              "4                     0                 1  "
            ],
            "text/html": [
              "\n",
              "  <div id=\"df-253dde56-53e2-4322-a64f-315c785fea50\">\n",
              "    <div class=\"colab-df-container\">\n",
              "      <div>\n",
              "<style scoped>\n",
              "    .dataframe tbody tr th:only-of-type {\n",
              "        vertical-align: middle;\n",
              "    }\n",
              "\n",
              "    .dataframe tbody tr th {\n",
              "        vertical-align: top;\n",
              "    }\n",
              "\n",
              "    .dataframe thead th {\n",
              "        text-align: right;\n",
              "    }\n",
              "</style>\n",
              "<table border=\"1\" class=\"dataframe\">\n",
              "  <thead>\n",
              "    <tr style=\"text-align: right;\">\n",
              "      <th></th>\n",
              "      <th>MMM-YY</th>\n",
              "      <th>Driver_ID</th>\n",
              "      <th>Age</th>\n",
              "      <th>Gender</th>\n",
              "      <th>City</th>\n",
              "      <th>Education_Level</th>\n",
              "      <th>Income</th>\n",
              "      <th>Dateofjoining</th>\n",
              "      <th>LastWorkingDate</th>\n",
              "      <th>Joining Designation</th>\n",
              "      <th>Grade</th>\n",
              "      <th>Total Business Value</th>\n",
              "      <th>Quarterly Rating</th>\n",
              "    </tr>\n",
              "  </thead>\n",
              "  <tbody>\n",
              "    <tr>\n",
              "      <th>0</th>\n",
              "      <td>1/1/2019</td>\n",
              "      <td>1</td>\n",
              "      <td>28.0</td>\n",
              "      <td>0.0</td>\n",
              "      <td>C23</td>\n",
              "      <td>2</td>\n",
              "      <td>57387</td>\n",
              "      <td>24/12/18</td>\n",
              "      <td>NaN</td>\n",
              "      <td>1</td>\n",
              "      <td>1</td>\n",
              "      <td>2381060</td>\n",
              "      <td>2</td>\n",
              "    </tr>\n",
              "    <tr>\n",
              "      <th>1</th>\n",
              "      <td>2/1/2019</td>\n",
              "      <td>1</td>\n",
              "      <td>28.0</td>\n",
              "      <td>0.0</td>\n",
              "      <td>C23</td>\n",
              "      <td>2</td>\n",
              "      <td>57387</td>\n",
              "      <td>24/12/18</td>\n",
              "      <td>NaN</td>\n",
              "      <td>1</td>\n",
              "      <td>1</td>\n",
              "      <td>-665480</td>\n",
              "      <td>2</td>\n",
              "    </tr>\n",
              "    <tr>\n",
              "      <th>2</th>\n",
              "      <td>3/1/2019</td>\n",
              "      <td>1</td>\n",
              "      <td>28.0</td>\n",
              "      <td>0.0</td>\n",
              "      <td>C23</td>\n",
              "      <td>2</td>\n",
              "      <td>57387</td>\n",
              "      <td>24/12/18</td>\n",
              "      <td>3/11/2019</td>\n",
              "      <td>1</td>\n",
              "      <td>1</td>\n",
              "      <td>0</td>\n",
              "      <td>2</td>\n",
              "    </tr>\n",
              "    <tr>\n",
              "      <th>3</th>\n",
              "      <td>11/1/2020</td>\n",
              "      <td>2</td>\n",
              "      <td>31.0</td>\n",
              "      <td>0.0</td>\n",
              "      <td>C7</td>\n",
              "      <td>2</td>\n",
              "      <td>67016</td>\n",
              "      <td>11/6/2020</td>\n",
              "      <td>NaN</td>\n",
              "      <td>2</td>\n",
              "      <td>2</td>\n",
              "      <td>0</td>\n",
              "      <td>1</td>\n",
              "    </tr>\n",
              "    <tr>\n",
              "      <th>4</th>\n",
              "      <td>12/1/2020</td>\n",
              "      <td>2</td>\n",
              "      <td>31.0</td>\n",
              "      <td>0.0</td>\n",
              "      <td>C7</td>\n",
              "      <td>2</td>\n",
              "      <td>67016</td>\n",
              "      <td>11/6/2020</td>\n",
              "      <td>NaN</td>\n",
              "      <td>2</td>\n",
              "      <td>2</td>\n",
              "      <td>0</td>\n",
              "      <td>1</td>\n",
              "    </tr>\n",
              "  </tbody>\n",
              "</table>\n",
              "</div>\n",
              "      <button class=\"colab-df-convert\" onclick=\"convertToInteractive('df-253dde56-53e2-4322-a64f-315c785fea50')\"\n",
              "              title=\"Convert this dataframe to an interactive table.\"\n",
              "              style=\"display:none;\">\n",
              "        \n",
              "  <svg xmlns=\"http://www.w3.org/2000/svg\" height=\"24px\"viewBox=\"0 0 24 24\"\n",
              "       width=\"24px\">\n",
              "    <path d=\"M0 0h24v24H0V0z\" fill=\"none\"/>\n",
              "    <path d=\"M18.56 5.44l.94 2.06.94-2.06 2.06-.94-2.06-.94-.94-2.06-.94 2.06-2.06.94zm-11 1L8.5 8.5l.94-2.06 2.06-.94-2.06-.94L8.5 2.5l-.94 2.06-2.06.94zm10 10l.94 2.06.94-2.06 2.06-.94-2.06-.94-.94-2.06-.94 2.06-2.06.94z\"/><path d=\"M17.41 7.96l-1.37-1.37c-.4-.4-.92-.59-1.43-.59-.52 0-1.04.2-1.43.59L10.3 9.45l-7.72 7.72c-.78.78-.78 2.05 0 2.83L4 21.41c.39.39.9.59 1.41.59.51 0 1.02-.2 1.41-.59l7.78-7.78 2.81-2.81c.8-.78.8-2.07 0-2.86zM5.41 20L4 18.59l7.72-7.72 1.47 1.35L5.41 20z\"/>\n",
              "  </svg>\n",
              "      </button>\n",
              "      \n",
              "  <style>\n",
              "    .colab-df-container {\n",
              "      display:flex;\n",
              "      flex-wrap:wrap;\n",
              "      gap: 12px;\n",
              "    }\n",
              "\n",
              "    .colab-df-convert {\n",
              "      background-color: #E8F0FE;\n",
              "      border: none;\n",
              "      border-radius: 50%;\n",
              "      cursor: pointer;\n",
              "      display: none;\n",
              "      fill: #1967D2;\n",
              "      height: 32px;\n",
              "      padding: 0 0 0 0;\n",
              "      width: 32px;\n",
              "    }\n",
              "\n",
              "    .colab-df-convert:hover {\n",
              "      background-color: #E2EBFA;\n",
              "      box-shadow: 0px 1px 2px rgba(60, 64, 67, 0.3), 0px 1px 3px 1px rgba(60, 64, 67, 0.15);\n",
              "      fill: #174EA6;\n",
              "    }\n",
              "\n",
              "    [theme=dark] .colab-df-convert {\n",
              "      background-color: #3B4455;\n",
              "      fill: #D2E3FC;\n",
              "    }\n",
              "\n",
              "    [theme=dark] .colab-df-convert:hover {\n",
              "      background-color: #434B5C;\n",
              "      box-shadow: 0px 1px 3px 1px rgba(0, 0, 0, 0.15);\n",
              "      filter: drop-shadow(0px 1px 2px rgba(0, 0, 0, 0.3));\n",
              "      fill: #FFFFFF;\n",
              "    }\n",
              "  </style>\n",
              "\n",
              "      <script>\n",
              "        const buttonEl =\n",
              "          document.querySelector('#df-253dde56-53e2-4322-a64f-315c785fea50 button.colab-df-convert');\n",
              "        buttonEl.style.display =\n",
              "          google.colab.kernel.accessAllowed ? 'block' : 'none';\n",
              "\n",
              "        async function convertToInteractive(key) {\n",
              "          const element = document.querySelector('#df-253dde56-53e2-4322-a64f-315c785fea50');\n",
              "          const dataTable =\n",
              "            await google.colab.kernel.invokeFunction('convertToInteractive',\n",
              "                                                     [key], {});\n",
              "          if (!dataTable) return;\n",
              "\n",
              "          const docLinkHtml = 'Like what you see? Visit the ' +\n",
              "            '<a target=\"_blank\" href=https://colab.research.google.com/notebooks/data_table.ipynb>data table notebook</a>'\n",
              "            + ' to learn more about interactive tables.';\n",
              "          element.innerHTML = '';\n",
              "          dataTable['output_type'] = 'display_data';\n",
              "          await google.colab.output.renderOutput(dataTable, element);\n",
              "          const docLink = document.createElement('div');\n",
              "          docLink.innerHTML = docLinkHtml;\n",
              "          element.appendChild(docLink);\n",
              "        }\n",
              "      </script>\n",
              "    </div>\n",
              "  </div>\n",
              "  "
            ]
          },
          "metadata": {},
          "execution_count": 4
        }
      ]
    },
    {
      "cell_type": "code",
      "source": [
        "ola.info()"
      ],
      "metadata": {
        "colab": {
          "base_uri": "https://localhost:8080/"
        },
        "id": "gR61dM8GBSAQ",
        "outputId": "b260ffeb-ed29-43bf-a69f-e69de2a00f85"
      },
      "execution_count": 5,
      "outputs": [
        {
          "output_type": "stream",
          "name": "stdout",
          "text": [
            "<class 'pandas.core.frame.DataFrame'>\n",
            "RangeIndex: 19104 entries, 0 to 19103\n",
            "Data columns (total 13 columns):\n",
            " #   Column                Non-Null Count  Dtype  \n",
            "---  ------                --------------  -----  \n",
            " 0   MMM-YY                19104 non-null  object \n",
            " 1   Driver_ID             19104 non-null  int64  \n",
            " 2   Age                   19043 non-null  float64\n",
            " 3   Gender                19052 non-null  float64\n",
            " 4   City                  19104 non-null  object \n",
            " 5   Education_Level       19104 non-null  int64  \n",
            " 6   Income                19104 non-null  int64  \n",
            " 7   Dateofjoining         19104 non-null  object \n",
            " 8   LastWorkingDate       1616 non-null   object \n",
            " 9   Joining Designation   19104 non-null  int64  \n",
            " 10  Grade                 19104 non-null  int64  \n",
            " 11  Total Business Value  19104 non-null  int64  \n",
            " 12  Quarterly Rating      19104 non-null  int64  \n",
            "dtypes: float64(2), int64(7), object(4)\n",
            "memory usage: 1.9+ MB\n"
          ]
        }
      ]
    },
    {
      "cell_type": "code",
      "source": [
        "(ola.isnull().sum()/ola.shape[0])*100"
      ],
      "metadata": {
        "colab": {
          "base_uri": "https://localhost:8080/"
        },
        "id": "ImExbtQrBVJX",
        "outputId": "7af2cf21-28a4-47a6-b779-d2e2ab7df6a3"
      },
      "execution_count": 6,
      "outputs": [
        {
          "output_type": "execute_result",
          "data": {
            "text/plain": [
              "MMM-YY                   0.000000\n",
              "Driver_ID                0.000000\n",
              "Age                      0.319305\n",
              "Gender                   0.272194\n",
              "City                     0.000000\n",
              "Education_Level          0.000000\n",
              "Income                   0.000000\n",
              "Dateofjoining            0.000000\n",
              "LastWorkingDate         91.541039\n",
              "Joining Designation      0.000000\n",
              "Grade                    0.000000\n",
              "Total Business Value     0.000000\n",
              "Quarterly Rating         0.000000\n",
              "dtype: float64"
            ]
          },
          "metadata": {},
          "execution_count": 6
        }
      ]
    },
    {
      "cell_type": "code",
      "source": [
        "ola.columns"
      ],
      "metadata": {
        "colab": {
          "base_uri": "https://localhost:8080/"
        },
        "id": "BZo4-XkiBbE3",
        "outputId": "924eac61-0a0b-4295-b5ac-ebeb57d5c99a"
      },
      "execution_count": 7,
      "outputs": [
        {
          "output_type": "execute_result",
          "data": {
            "text/plain": [
              "Index(['MMM-YY', 'Driver_ID', 'Age', 'Gender', 'City', 'Education_Level',\n",
              "       'Income', 'Dateofjoining', 'LastWorkingDate', 'Joining Designation',\n",
              "       'Grade', 'Total Business Value', 'Quarterly Rating'],\n",
              "      dtype='object')"
            ]
          },
          "metadata": {},
          "execution_count": 7
        }
      ]
    },
    {
      "cell_type": "code",
      "source": [
        "sns.boxplot(ola['Age'])\n",
        "plt.show()"
      ],
      "metadata": {
        "colab": {
          "base_uri": "https://localhost:8080/",
          "height": 334
        },
        "id": "BHgufHtGovjO",
        "outputId": "0323b4f8-d428-4344-aa7c-a946f03dcb4c"
      },
      "execution_count": 8,
      "outputs": [
        {
          "output_type": "stream",
          "name": "stderr",
          "text": [
            "/usr/local/lib/python3.7/dist-packages/seaborn/_decorators.py:43: FutureWarning: Pass the following variable as a keyword arg: x. From version 0.12, the only valid positional argument will be `data`, and passing other arguments without an explicit keyword will result in an error or misinterpretation.\n",
            "  FutureWarning\n"
          ]
        },
        {
          "output_type": "display_data",
          "data": {
            "text/plain": [
              "<Figure size 432x288 with 1 Axes>"
            ],
            "image/png": "[encoded data removed]"
          },
          "metadata": {
            "needs_background": "light"
          }
        }
      ]
    },
    {
      "cell_type": "code",
      "source": [
        "ola['Age'].fillna(ola['Age'].median(),inplace=True)"
      ],
      "metadata": {
        "id": "P2ca3kwyp7gX"
      },
      "execution_count": 9,
      "outputs": []
    },
    {
      "cell_type": "code",
      "source": [
        "ola['Gender'].value_counts(normalize=True)"
      ],
      "metadata": {
        "id": "xMQRoiwUrqFk",
        "colab": {
          "base_uri": "https://localhost:8080/"
        },
        "outputId": "f7883916-a1f5-4b70-953a-e0cadb7766cf"
      },
      "execution_count": 10,
      "outputs": [
        {
          "output_type": "execute_result",
          "data": {
            "text/plain": [
              "0.0    0.581251\n",
              "1.0    0.418749\n",
              "Name: Gender, dtype: float64"
            ]
          },
          "metadata": {},
          "execution_count": 10
        }
      ]
    },
    {
      "cell_type": "code",
      "source": [
        "ola['Gender'].fillna(0,inplace=True)\n",
        "ola['Gender'].value_counts(normalize=True)"
      ],
      "metadata": {
        "colab": {
          "base_uri": "https://localhost:8080/"
        },
        "id": "Tw5Nfr-_XkwG",
        "outputId": "af68c387-b2c1-46f8-acf9-80a600f8a47b"
      },
      "execution_count": 11,
      "outputs": [
        {
          "output_type": "execute_result",
          "data": {
            "text/plain": [
              "0.0    0.582391\n",
              "1.0    0.417609\n",
              "Name: Gender, dtype: float64"
            ]
          },
          "metadata": {},
          "execution_count": 11
        }
      ]
    },
    {
      "cell_type": "code",
      "source": [
        "ola.isnull().sum()"
      ],
      "metadata": {
        "colab": {
          "base_uri": "https://localhost:8080/"
        },
        "id": "4qaazeoYYPeA",
        "outputId": "e796a9dc-c846-41f4-8f11-c7010b1f8721"
      },
      "execution_count": 12,
      "outputs": [
        {
          "output_type": "execute_result",
          "data": {
            "text/plain": [
              "MMM-YY                      0\n",
              "Driver_ID                   0\n",
              "Age                         0\n",
              "Gender                      0\n",
              "City                        0\n",
              "Education_Level             0\n",
              "Income                      0\n",
              "Dateofjoining               0\n",
              "LastWorkingDate         17488\n",
              "Joining Designation         0\n",
              "Grade                       0\n",
              "Total Business Value        0\n",
              "Quarterly Rating            0\n",
              "dtype: int64"
            ]
          },
          "metadata": {},
          "execution_count": 12
        }
      ]
    },
    {
      "cell_type": "code",
      "source": [
        "cols=['MMM-YY','Dateofjoining','LastWorkingDate']\n",
        "for i in cols:\n",
        "    ola[i]=pd.to_datetime(ola[i])\n",
        "ola.info()"
      ],
      "metadata": {
        "colab": {
          "base_uri": "https://localhost:8080/"
        },
        "id": "s-65axBZYVHF",
        "outputId": "226c9a15-eb23-416c-eec0-0bdf5f2d0dc7"
      },
      "execution_count": 13,
      "outputs": [
        {
          "output_type": "stream",
          "name": "stdout",
          "text": [
            "<class 'pandas.core.frame.DataFrame'>\n",
            "RangeIndex: 19104 entries, 0 to 19103\n",
            "Data columns (total 13 columns):\n",
            " #   Column                Non-Null Count  Dtype         \n",
            "---  ------                --------------  -----         \n",
            " 0   MMM-YY                19104 non-null  datetime64[ns]\n",
            " 1   Driver_ID             19104 non-null  int64         \n",
            " 2   Age                   19104 non-null  float64       \n",
            " 3   Gender                19104 non-null  float64       \n",
            " 4   City                  19104 non-null  object        \n",
            " 5   Education_Level       19104 non-null  int64         \n",
            " 6   Income                19104 non-null  int64         \n",
            " 7   Dateofjoining         19104 non-null  datetime64[ns]\n",
            " 8   LastWorkingDate       1616 non-null   datetime64[ns]\n",
            " 9   Joining Designation   19104 non-null  int64         \n",
            " 10  Grade                 19104 non-null  int64         \n",
            " 11  Total Business Value  19104 non-null  int64         \n",
            " 12  Quarterly Rating      19104 non-null  int64         \n",
            "dtypes: datetime64[ns](3), float64(2), int64(7), object(1)\n",
            "memory usage: 1.9+ MB\n"
          ]
        }
      ]
    },
    {
      "cell_type": "code",
      "source": [
        "ola.info()"
      ],
      "metadata": {
        "colab": {
          "base_uri": "https://localhost:8080/"
        },
        "id": "vTioCuOOYWu_",
        "outputId": "25953f5a-3a2d-4955-df86-9e5f9060eeaf"
      },
      "execution_count": 14,
      "outputs": [
        {
          "output_type": "stream",
          "name": "stdout",
          "text": [
            "<class 'pandas.core.frame.DataFrame'>\n",
            "RangeIndex: 19104 entries, 0 to 19103\n",
            "Data columns (total 13 columns):\n",
            " #   Column                Non-Null Count  Dtype         \n",
            "---  ------                --------------  -----         \n",
            " 0   MMM-YY                19104 non-null  datetime64[ns]\n",
            " 1   Driver_ID             19104 non-null  int64         \n",
            " 2   Age                   19104 non-null  float64       \n",
            " 3   Gender                19104 non-null  float64       \n",
            " 4   City                  19104 non-null  object        \n",
            " 5   Education_Level       19104 non-null  int64         \n",
            " 6   Income                19104 non-null  int64         \n",
            " 7   Dateofjoining         19104 non-null  datetime64[ns]\n",
            " 8   LastWorkingDate       1616 non-null   datetime64[ns]\n",
            " 9   Joining Designation   19104 non-null  int64         \n",
            " 10  Grade                 19104 non-null  int64         \n",
            " 11  Total Business Value  19104 non-null  int64         \n",
            " 12  Quarterly Rating      19104 non-null  int64         \n",
            "dtypes: datetime64[ns](3), float64(2), int64(7), object(1)\n",
            "memory usage: 1.9+ MB\n"
          ]
        }
      ]
    },
    {
      "cell_type": "code",
      "source": [
        "ola.nunique()"
      ],
      "metadata": {
        "colab": {
          "base_uri": "https://localhost:8080/"
        },
        "id": "_MVEkub_Ybal",
        "outputId": "60eb18cb-225e-4ad7-c7f6-bd7a99a8743e"
      },
      "execution_count": 15,
      "outputs": [
        {
          "output_type": "execute_result",
          "data": {
            "text/plain": [
              "MMM-YY                     24\n",
              "Driver_ID                2381\n",
              "Age                        36\n",
              "Gender                      2\n",
              "City                       29\n",
              "Education_Level             3\n",
              "Income                   2383\n",
              "Dateofjoining             869\n",
              "LastWorkingDate           493\n",
              "Joining Designation         5\n",
              "Grade                       5\n",
              "Total Business Value    10181\n",
              "Quarterly Rating            4\n",
              "dtype: int64"
            ]
          },
          "metadata": {},
          "execution_count": 15
        }
      ]
    },
    {
      "cell_type": "code",
      "source": [
        "ola.drop_duplicates(inplace=True)\n",
        "ola.shape"
      ],
      "metadata": {
        "colab": {
          "base_uri": "https://localhost:8080/"
        },
        "id": "0_zNxbMfYjBn",
        "outputId": "e9c08936-b34d-42ac-a675-3865b5407bf3"
      },
      "execution_count": 16,
      "outputs": [
        {
          "output_type": "execute_result",
          "data": {
            "text/plain": [
              "(19104, 13)"
            ]
          },
          "metadata": {},
          "execution_count": 16
        }
      ]
    },
    {
      "cell_type": "code",
      "source": [
        "ola.columns"
      ],
      "metadata": {
        "colab": {
          "base_uri": "https://localhost:8080/"
        },
        "id": "eZCQYRYqZcxV",
        "outputId": "50b3f745-ea28-4230-a1fa-838b042d9edf"
      },
      "execution_count": 17,
      "outputs": [
        {
          "output_type": "execute_result",
          "data": {
            "text/plain": [
              "Index(['MMM-YY', 'Driver_ID', 'Age', 'Gender', 'City', 'Education_Level',\n",
              "       'Income', 'Dateofjoining', 'LastWorkingDate', 'Joining Designation',\n",
              "       'Grade', 'Total Business Value', 'Quarterly Rating'],\n",
              "      dtype='object')"
            ]
          },
          "metadata": {},
          "execution_count": 17
        }
      ]
    },
    {
      "cell_type": "code",
      "source": [
        "#last 3 months average income for the drivers\n",
        "ola['row_num']=ola.groupby('Driver_ID')['MMM-YY'].rank(method='first',ascending=False)\n",
        "ola[['MMM-YY','Driver_ID','Income','row_num']]"
      ],
      "metadata": {
        "colab": {
          "base_uri": "https://localhost:8080/",
          "height": 424
        },
        "id": "EM3qmHvCYk-B",
        "outputId": "a02af39d-31b3-481b-e3ea-d640c06e26fe"
      },
      "execution_count": 18,
      "outputs": [
        {
          "output_type": "execute_result",
          "data": {
            "text/plain": [
              "          MMM-YY  Driver_ID  Income  row_num\n",
              "0     2019-01-01          1   57387      3.0\n",
              "1     2019-02-01          1   57387      2.0\n",
              "2     2019-03-01          1   57387      1.0\n",
              "3     2020-11-01          2   67016      2.0\n",
              "4     2020-12-01          2   67016      1.0\n",
              "...          ...        ...     ...      ...\n",
              "19099 2020-08-01       2788   70254      5.0\n",
              "19100 2020-09-01       2788   70254      4.0\n",
              "19101 2020-10-01       2788   70254      3.0\n",
              "19102 2020-11-01       2788   70254      2.0\n",
              "19103 2020-12-01       2788   70254      1.0\n",
              "\n",
              "[19104 rows x 4 columns]"
            ],
            "text/html": [
              "\n",
              "  <div id=\"df-d9c3e772-6694-48d4-a46e-db5cc02c7ca2\">\n",
              "    <div class=\"colab-df-container\">\n",
              "      <div>\n",
              "<style scoped>\n",
              "    .dataframe tbody tr th:only-of-type {\n",
              "        vertical-align: middle;\n",
              "    }\n",
              "\n",
              "    .dataframe tbody tr th {\n",
              "        vertical-align: top;\n",
              "    }\n",
              "\n",
              "    .dataframe thead th {\n",
              "        text-align: right;\n",
              "    }\n",
              "</style>\n",
              "<table border=\"1\" class=\"dataframe\">\n",
              "  <thead>\n",
              "    <tr style=\"text-align: right;\">\n",
              "      <th></th>\n",
              "      <th>MMM-YY</th>\n",
              "      <th>Driver_ID</th>\n",
              "      <th>Income</th>\n",
              "      <th>row_num</th>\n",
              "    </tr>\n",
              "  </thead>\n",
              "  <tbody>\n",
              "    <tr>\n",
              "      <th>0</th>\n",
              "      <td>2019-01-01</td>\n",
              "      <td>1</td>\n",
              "      <td>57387</td>\n",
              "      <td>3.0</td>\n",
              "    </tr>\n",
              "    <tr>\n",
              "      <th>1</th>\n",
              "      <td>2019-02-01</td>\n",
              "      <td>1</td>\n",
              "      <td>57387</td>\n",
              "      <td>2.0</td>\n",
              "    </tr>\n",
              "    <tr>\n",
              "      <th>2</th>\n",
              "      <td>2019-03-01</td>\n",
              "      <td>1</td>\n",
              "      <td>57387</td>\n",
              "      <td>1.0</td>\n",
              "    </tr>\n",
              "    <tr>\n",
              "      <th>3</th>\n",
              "      <td>2020-11-01</td>\n",
              "      <td>2</td>\n",
              "      <td>67016</td>\n",
              "      <td>2.0</td>\n",
              "    </tr>\n",
              "    <tr>\n",
              "      <th>4</th>\n",
              "      <td>2020-12-01</td>\n",
              "      <td>2</td>\n",
              "      <td>67016</td>\n",
              "      <td>1.0</td>\n",
              "    </tr>\n",
              "    <tr>\n",
              "      <th>...</th>\n",
              "      <td>...</td>\n",
              "      <td>...</td>\n",
              "      <td>...</td>\n",
              "      <td>...</td>\n",
              "    </tr>\n",
              "    <tr>\n",
              "      <th>19099</th>\n",
              "      <td>2020-08-01</td>\n",
              "      <td>2788</td>\n",
              "      <td>70254</td>\n",
              "      <td>5.0</td>\n",
              "    </tr>\n",
              "    <tr>\n",
              "      <th>19100</th>\n",
              "      <td>2020-09-01</td>\n",
              "      <td>2788</td>\n",
              "      <td>70254</td>\n",
              "      <td>4.0</td>\n",
              "    </tr>\n",
              "    <tr>\n",
              "      <th>19101</th>\n",
              "      <td>2020-10-01</td>\n",
              "      <td>2788</td>\n",
              "      <td>70254</td>\n",
              "      <td>3.0</td>\n",
              "    </tr>\n",
              "    <tr>\n",
              "      <th>19102</th>\n",
              "      <td>2020-11-01</td>\n",
              "      <td>2788</td>\n",
              "      <td>70254</td>\n",
              "      <td>2.0</td>\n",
              "    </tr>\n",
              "    <tr>\n",
              "      <th>19103</th>\n",
              "      <td>2020-12-01</td>\n",
              "      <td>2788</td>\n",
              "      <td>70254</td>\n",
              "      <td>1.0</td>\n",
              "    </tr>\n",
              "  </tbody>\n",
              "</table>\n",
              "<p>19104 rows × 4 columns</p>\n",
              "</div>\n",
              "      <button class=\"colab-df-convert\" onclick=\"convertToInteractive('df-d9c3e772-6694-48d4-a46e-db5cc02c7ca2')\"\n",
              "              title=\"Convert this dataframe to an interactive table.\"\n",
              "              style=\"display:none;\">\n",
              "        \n",
              "  <svg xmlns=\"http://www.w3.org/2000/svg\" height=\"24px\"viewBox=\"0 0 24 24\"\n",
              "       width=\"24px\">\n",
              "    <path d=\"M0 0h24v24H0V0z\" fill=\"none\"/>\n",
              "    <path d=\"M18.56 5.44l.94 2.06.94-2.06 2.06-.94-2.06-.94-.94-2.06-.94 2.06-2.06.94zm-11 1L8.5 8.5l.94-2.06 2.06-.94-2.06-.94L8.5 2.5l-.94 2.06-2.06.94zm10 10l.94 2.06.94-2.06 2.06-.94-2.06-.94-.94-2.06-.94 2.06-2.06.94z\"/><path d=\"M17.41 7.96l-1.37-1.37c-.4-.4-.92-.59-1.43-.59-.52 0-1.04.2-1.43.59L10.3 9.45l-7.72 7.72c-.78.78-.78 2.05 0 2.83L4 21.41c.39.39.9.59 1.41.59.51 0 1.02-.2 1.41-.59l7.78-7.78 2.81-2.81c.8-.78.8-2.07 0-2.86zM5.41 20L4 18.59l7.72-7.72 1.47 1.35L5.41 20z\"/>\n",
              "  </svg>\n",
              "      </button>\n",
              "      \n",
              "  <style>\n",
              "    .colab-df-container {\n",
              "      display:flex;\n",
              "      flex-wrap:wrap;\n",
              "      gap: 12px;\n",
              "    }\n",
              "\n",
              "    .colab-df-convert {\n",
              "      background-color: #E8F0FE;\n",
              "      border: none;\n",
              "      border-radius: 50%;\n",
              "      cursor: pointer;\n",
              "      display: none;\n",
              "      fill: #1967D2;\n",
              "      height: 32px;\n",
              "      padding: 0 0 0 0;\n",
              "      width: 32px;\n",
              "    }\n",
              "\n",
              "    .colab-df-convert:hover {\n",
              "      background-color: #E2EBFA;\n",
              "      box-shadow: 0px 1px 2px rgba(60, 64, 67, 0.3), 0px 1px 3px 1px rgba(60, 64, 67, 0.15);\n",
              "      fill: #174EA6;\n",
              "    }\n",
              "\n",
              "    [theme=dark] .colab-df-convert {\n",
              "      background-color: #3B4455;\n",
              "      fill: #D2E3FC;\n",
              "    }\n",
              "\n",
              "    [theme=dark] .colab-df-convert:hover {\n",
              "      background-color: #434B5C;\n",
              "      box-shadow: 0px 1px 3px 1px rgba(0, 0, 0, 0.15);\n",
              "      filter: drop-shadow(0px 1px 2px rgba(0, 0, 0, 0.3));\n",
              "      fill: #FFFFFF;\n",
              "    }\n",
              "  </style>\n",
              "\n",
              "      <script>\n",
              "        const buttonEl =\n",
              "          document.querySelector('#df-d9c3e772-6694-48d4-a46e-db5cc02c7ca2 button.colab-df-convert');\n",
              "        buttonEl.style.display =\n",
              "          google.colab.kernel.accessAllowed ? 'block' : 'none';\n",
              "\n",
              "        async function convertToInteractive(key) {\n",
              "          const element = document.querySelector('#df-d9c3e772-6694-48d4-a46e-db5cc02c7ca2');\n",
              "          const dataTable =\n",
              "            await google.colab.kernel.invokeFunction('convertToInteractive',\n",
              "                                                     [key], {});\n",
              "          if (!dataTable) return;\n",
              "\n",
              "          const docLinkHtml = 'Like what you see? Visit the ' +\n",
              "            '<a target=\"_blank\" href=https://colab.research.google.com/notebooks/data_table.ipynb>data table notebook</a>'\n",
              "            + ' to learn more about interactive tables.';\n",
              "          element.innerHTML = '';\n",
              "          dataTable['output_type'] = 'display_data';\n",
              "          await google.colab.output.renderOutput(dataTable, element);\n",
              "          const docLink = document.createElement('div');\n",
              "          docLink.innerHTML = docLinkHtml;\n",
              "          element.appendChild(docLink);\n",
              "        }\n",
              "      </script>\n",
              "    </div>\n",
              "  </div>\n",
              "  "
            ]
          },
          "metadata": {},
          "execution_count": 18
        }
      ]
    },
    {
      "cell_type": "code",
      "source": [
        "df=ola[ola['row_num']<=3]\n",
        "df"
      ],
      "metadata": {
        "colab": {
          "base_uri": "https://localhost:8080/",
          "height": 676
        },
        "id": "fDheF1BIaLax",
        "outputId": "acfdcbbb-3672-45a8-9f3b-6bdb2df5608c"
      },
      "execution_count": 19,
      "outputs": [
        {
          "output_type": "execute_result",
          "data": {
            "text/plain": [
              "          MMM-YY  Driver_ID   Age  Gender City  Education_Level  Income  \\\n",
              "0     2019-01-01          1  28.0     0.0  C23                2   57387   \n",
              "1     2019-02-01          1  28.0     0.0  C23                2   57387   \n",
              "2     2019-03-01          1  28.0     0.0  C23                2   57387   \n",
              "3     2020-11-01          2  31.0     0.0   C7                2   67016   \n",
              "4     2020-12-01          2  31.0     0.0   C7                2   67016   \n",
              "...          ...        ...   ...     ...  ...              ...     ...   \n",
              "19095 2019-05-01       2787  28.0     1.0  C20                2   69498   \n",
              "19096 2019-06-01       2787  28.0     1.0  C20                2   69498   \n",
              "19101 2020-10-01       2788  30.0     0.0  C27                2   70254   \n",
              "19102 2020-11-01       2788  30.0     0.0  C27                2   70254   \n",
              "19103 2020-12-01       2788  30.0     0.0  C27                2   70254   \n",
              "\n",
              "      Dateofjoining LastWorkingDate  Joining Designation  Grade  \\\n",
              "0        2018-12-24             NaT                    1      1   \n",
              "1        2018-12-24             NaT                    1      1   \n",
              "2        2018-12-24      2019-03-11                    1      1   \n",
              "3        2020-11-06             NaT                    2      2   \n",
              "4        2020-11-06             NaT                    2      2   \n",
              "...             ...             ...                  ...    ...   \n",
              "19095    2018-07-21             NaT                    1      1   \n",
              "19096    2018-07-21      2019-06-20                    1      1   \n",
              "19101    2020-06-08             NaT                    2      2   \n",
              "19102    2020-06-08             NaT                    2      2   \n",
              "19103    2020-06-08             NaT                    2      2   \n",
              "\n",
              "       Total Business Value  Quarterly Rating  row_num  \n",
              "0                   2381060                 2      3.0  \n",
              "1                   -665480                 2      2.0  \n",
              "2                         0                 2      1.0  \n",
              "3                         0                 1      2.0  \n",
              "4                         0                 1      1.0  \n",
              "...                     ...               ...      ...  \n",
              "19095                     0                 1      2.0  \n",
              "19096                     0                 1      1.0  \n",
              "19101                     0                 2      3.0  \n",
              "19102                200420                 2      2.0  \n",
              "19103                411480                 2      1.0  \n",
              "\n",
              "[6578 rows x 14 columns]"
            ],
            "text/html": [
              "\n",
              "  <div id=\"df-0b6ef942-72f1-4729-aabd-f890f658ae25\">\n",
              "    <div class=\"colab-df-container\">\n",
              "      <div>\n",
              "<style scoped>\n",
              "    .dataframe tbody tr th:only-of-type {\n",
              "        vertical-align: middle;\n",
              "    }\n",
              "\n",
              "    .dataframe tbody tr th {\n",
              "        vertical-align: top;\n",
              "    }\n",
              "\n",
              "    .dataframe thead th {\n",
              "        text-align: right;\n",
              "    }\n",
              "</style>\n",
              "<table border=\"1\" class=\"dataframe\">\n",
              "  <thead>\n",
              "    <tr style=\"text-align: right;\">\n",
              "      <th></th>\n",
              "      <th>MMM-YY</th>\n",
              "      <th>Driver_ID</th>\n",
              "      <th>Age</th>\n",
              "      <th>Gender</th>\n",
              "      <th>City</th>\n",
              "      <th>Education_Level</th>\n",
              "      <th>Income</th>\n",
              "      <th>Dateofjoining</th>\n",
              "      <th>LastWorkingDate</th>\n",
              "      <th>Joining Designation</th>\n",
              "      <th>Grade</th>\n",
              "      <th>Total Business Value</th>\n",
              "      <th>Quarterly Rating</th>\n",
              "      <th>row_num</th>\n",
              "    </tr>\n",
              "  </thead>\n",
              "  <tbody>\n",
              "    <tr>\n",
              "      <th>0</th>\n",
              "      <td>2019-01-01</td>\n",
              "      <td>1</td>\n",
              "      <td>28.0</td>\n",
              "      <td>0.0</td>\n",
              "      <td>C23</td>\n",
              "      <td>2</td>\n",
              "      <td>57387</td>\n",
              "      <td>2018-12-24</td>\n",
              "      <td>NaT</td>\n",
              "      <td>1</td>\n",
              "      <td>1</td>\n",
              "      <td>2381060</td>\n",
              "      <td>2</td>\n",
              "      <td>3.0</td>\n",
              "    </tr>\n",
              "    <tr>\n",
              "      <th>1</th>\n",
              "      <td>2019-02-01</td>\n",
              "      <td>1</td>\n",
              "      <td>28.0</td>\n",
              "      <td>0.0</td>\n",
              "      <td>C23</td>\n",
              "      <td>2</td>\n",
              "      <td>57387</td>\n",
              "      <td>2018-12-24</td>\n",
              "      <td>NaT</td>\n",
              "      <td>1</td>\n",
              "      <td>1</td>\n",
              "      <td>-665480</td>\n",
              "      <td>2</td>\n",
              "      <td>2.0</td>\n",
              "    </tr>\n",
              "    <tr>\n",
              "      <th>2</th>\n",
              "      <td>2019-03-01</td>\n",
              "      <td>1</td>\n",
              "      <td>28.0</td>\n",
              "      <td>0.0</td>\n",
              "      <td>C23</td>\n",
              "      <td>2</td>\n",
              "      <td>57387</td>\n",
              "      <td>2018-12-24</td>\n",
              "      <td>2019-03-11</td>\n",
              "      <td>1</td>\n",
              "      <td>1</td>\n",
              "      <td>0</td>\n",
              "      <td>2</td>\n",
              "      <td>1.0</td>\n",
              "    </tr>\n",
              "    <tr>\n",
              "      <th>3</th>\n",
              "      <td>2020-11-01</td>\n",
              "      <td>2</td>\n",
              "      <td>31.0</td>\n",
              "      <td>0.0</td>\n",
              "      <td>C7</td>\n",
              "      <td>2</td>\n",
              "      <td>67016</td>\n",
              "      <td>2020-11-06</td>\n",
              "      <td>NaT</td>\n",
              "      <td>2</td>\n",
              "      <td>2</td>\n",
              "      <td>0</td>\n",
              "      <td>1</td>\n",
              "      <td>2.0</td>\n",
              "    </tr>\n",
              "    <tr>\n",
              "      <th>4</th>\n",
              "      <td>2020-12-01</td>\n",
              "      <td>2</td>\n",
              "      <td>31.0</td>\n",
              "      <td>0.0</td>\n",
              "      <td>C7</td>\n",
              "      <td>2</td>\n",
              "      <td>67016</td>\n",
              "      <td>2020-11-06</td>\n",
              "      <td>NaT</td>\n",
              "      <td>2</td>\n",
              "      <td>2</td>\n",
              "      <td>0</td>\n",
              "      <td>1</td>\n",
              "      <td>1.0</td>\n",
              "    </tr>\n",
              "    <tr>\n",
              "      <th>...</th>\n",
              "      <td>...</td>\n",
              "      <td>...</td>\n",
              "      <td>...</td>\n",
              "      <td>...</td>\n",
              "      <td>...</td>\n",
              "      <td>...</td>\n",
              "      <td>...</td>\n",
              "      <td>...</td>\n",
              "      <td>...</td>\n",
              "      <td>...</td>\n",
              "      <td>...</td>\n",
              "      <td>...</td>\n",
              "      <td>...</td>\n",
              "      <td>...</td>\n",
              "    </tr>\n",
              "    <tr>\n",
              "      <th>19095</th>\n",
              "      <td>2019-05-01</td>\n",
              "      <td>2787</td>\n",
              "      <td>28.0</td>\n",
              "      <td>1.0</td>\n",
              "      <td>C20</td>\n",
              "      <td>2</td>\n",
              "      <td>69498</td>\n",
              "      <td>2018-07-21</td>\n",
              "      <td>NaT</td>\n",
              "      <td>1</td>\n",
              "      <td>1</td>\n",
              "      <td>0</td>\n",
              "      <td>1</td>\n",
              "      <td>2.0</td>\n",
              "    </tr>\n",
              "    <tr>\n",
              "      <th>19096</th>\n",
              "      <td>2019-06-01</td>\n",
              "      <td>2787</td>\n",
              "      <td>28.0</td>\n",
              "      <td>1.0</td>\n",
              "      <td>C20</td>\n",
              "      <td>2</td>\n",
              "      <td>69498</td>\n",
              "      <td>2018-07-21</td>\n",
              "      <td>2019-06-20</td>\n",
              "      <td>1</td>\n",
              "      <td>1</td>\n",
              "      <td>0</td>\n",
              "      <td>1</td>\n",
              "      <td>1.0</td>\n",
              "    </tr>\n",
              "    <tr>\n",
              "      <th>19101</th>\n",
              "      <td>2020-10-01</td>\n",
              "      <td>2788</td>\n",
              "      <td>30.0</td>\n",
              "      <td>0.0</td>\n",
              "      <td>C27</td>\n",
              "      <td>2</td>\n",
              "      <td>70254</td>\n",
              "      <td>2020-06-08</td>\n",
              "      <td>NaT</td>\n",
              "      <td>2</td>\n",
              "      <td>2</td>\n",
              "      <td>0</td>\n",
              "      <td>2</td>\n",
              "      <td>3.0</td>\n",
              "    </tr>\n",
              "    <tr>\n",
              "      <th>19102</th>\n",
              "      <td>2020-11-01</td>\n",
              "      <td>2788</td>\n",
              "      <td>30.0</td>\n",
              "      <td>0.0</td>\n",
              "      <td>C27</td>\n",
              "      <td>2</td>\n",
              "      <td>70254</td>\n",
              "      <td>2020-06-08</td>\n",
              "      <td>NaT</td>\n",
              "      <td>2</td>\n",
              "      <td>2</td>\n",
              "      <td>200420</td>\n",
              "      <td>2</td>\n",
              "      <td>2.0</td>\n",
              "    </tr>\n",
              "    <tr>\n",
              "      <th>19103</th>\n",
              "      <td>2020-12-01</td>\n",
              "      <td>2788</td>\n",
              "      <td>30.0</td>\n",
              "      <td>0.0</td>\n",
              "      <td>C27</td>\n",
              "      <td>2</td>\n",
              "      <td>70254</td>\n",
              "      <td>2020-06-08</td>\n",
              "      <td>NaT</td>\n",
              "      <td>2</td>\n",
              "      <td>2</td>\n",
              "      <td>411480</td>\n",
              "      <td>2</td>\n",
              "      <td>1.0</td>\n",
              "    </tr>\n",
              "  </tbody>\n",
              "</table>\n",
              "<p>6578 rows × 14 columns</p>\n",
              "</div>\n",
              "      <button class=\"colab-df-convert\" onclick=\"convertToInteractive('df-0b6ef942-72f1-4729-aabd-f890f658ae25')\"\n",
              "              title=\"Convert this dataframe to an interactive table.\"\n",
              "              style=\"display:none;\">\n",
              "        \n",
              "  <svg xmlns=\"http://www.w3.org/2000/svg\" height=\"24px\"viewBox=\"0 0 24 24\"\n",
              "       width=\"24px\">\n",
              "    <path d=\"M0 0h24v24H0V0z\" fill=\"none\"/>\n",
              "    <path d=\"M18.56 5.44l.94 2.06.94-2.06 2.06-.94-2.06-.94-.94-2.06-.94 2.06-2.06.94zm-11 1L8.5 8.5l.94-2.06 2.06-.94-2.06-.94L8.5 2.5l-.94 2.06-2.06.94zm10 10l.94 2.06.94-2.06 2.06-.94-2.06-.94-.94-2.06-.94 2.06-2.06.94z\"/><path d=\"M17.41 7.96l-1.37-1.37c-.4-.4-.92-.59-1.43-.59-.52 0-1.04.2-1.43.59L10.3 9.45l-7.72 7.72c-.78.78-.78 2.05 0 2.83L4 21.41c.39.39.9.59 1.41.59.51 0 1.02-.2 1.41-.59l7.78-7.78 2.81-2.81c.8-.78.8-2.07 0-2.86zM5.41 20L4 18.59l7.72-7.72 1.47 1.35L5.41 20z\"/>\n",
              "  </svg>\n",
              "      </button>\n",
              "      \n",
              "  <style>\n",
              "    .colab-df-container {\n",
              "      display:flex;\n",
              "      flex-wrap:wrap;\n",
              "      gap: 12px;\n",
              "    }\n",
              "\n",
              "    .colab-df-convert {\n",
              "      background-color: #E8F0FE;\n",
              "      border: none;\n",
              "      border-radius: 50%;\n",
              "      cursor: pointer;\n",
              "      display: none;\n",
              "      fill: #1967D2;\n",
              "      height: 32px;\n",
              "      padding: 0 0 0 0;\n",
              "      width: 32px;\n",
              "    }\n",
              "\n",
              "    .colab-df-convert:hover {\n",
              "      background-color: #E2EBFA;\n",
              "      box-shadow: 0px 1px 2px rgba(60, 64, 67, 0.3), 0px 1px 3px 1px rgba(60, 64, 67, 0.15);\n",
              "      fill: #174EA6;\n",
              "    }\n",
              "\n",
              "    [theme=dark] .colab-df-convert {\n",
              "      background-color: #3B4455;\n",
              "      fill: #D2E3FC;\n",
              "    }\n",
              "\n",
              "    [theme=dark] .colab-df-convert:hover {\n",
              "      background-color: #434B5C;\n",
              "      box-shadow: 0px 1px 3px 1px rgba(0, 0, 0, 0.15);\n",
              "      filter: drop-shadow(0px 1px 2px rgba(0, 0, 0, 0.3));\n",
              "      fill: #FFFFFF;\n",
              "    }\n",
              "  </style>\n",
              "\n",
              "      <script>\n",
              "        const buttonEl =\n",
              "          document.querySelector('#df-0b6ef942-72f1-4729-aabd-f890f658ae25 button.colab-df-convert');\n",
              "        buttonEl.style.display =\n",
              "          google.colab.kernel.accessAllowed ? 'block' : 'none';\n",
              "\n",
              "        async function convertToInteractive(key) {\n",
              "          const element = document.querySelector('#df-0b6ef942-72f1-4729-aabd-f890f658ae25');\n",
              "          const dataTable =\n",
              "            await google.colab.kernel.invokeFunction('convertToInteractive',\n",
              "                                                     [key], {});\n",
              "          if (!dataTable) return;\n",
              "\n",
              "          const docLinkHtml = 'Like what you see? Visit the ' +\n",
              "            '<a target=\"_blank\" href=https://colab.research.google.com/notebooks/data_table.ipynb>data table notebook</a>'\n",
              "            + ' to learn more about interactive tables.';\n",
              "          element.innerHTML = '';\n",
              "          dataTable['output_type'] = 'display_data';\n",
              "          await google.colab.output.renderOutput(dataTable, element);\n",
              "          const docLink = document.createElement('div');\n",
              "          docLink.innerHTML = docLinkHtml;\n",
              "          element.appendChild(docLink);\n",
              "        }\n",
              "      </script>\n",
              "    </div>\n",
              "  </div>\n",
              "  "
            ]
          },
          "metadata": {},
          "execution_count": 19
        }
      ]
    },
    {
      "cell_type": "code",
      "source": [
        "df1=df.groupby('Driver_ID')['Income'].mean().reset_index(name='avg_inc')\n",
        "df1"
      ],
      "metadata": {
        "colab": {
          "base_uri": "https://localhost:8080/",
          "height": 424
        },
        "id": "fA3h4A2paYWK",
        "outputId": "1c056209-f3ee-48b9-bd2f-a2e8fd1b530d"
      },
      "execution_count": 20,
      "outputs": [
        {
          "output_type": "execute_result",
          "data": {
            "text/plain": [
              "      Driver_ID  avg_inc\n",
              "0             1  57387.0\n",
              "1             2  67016.0\n",
              "2             4  65603.0\n",
              "3             5  46368.0\n",
              "4             6  78728.0\n",
              "...         ...      ...\n",
              "2376       2784  82815.0\n",
              "2377       2785  12105.0\n",
              "2378       2786  35370.0\n",
              "2379       2787  69498.0\n",
              "2380       2788  70254.0\n",
              "\n",
              "[2381 rows x 2 columns]"
            ],
            "text/html": [
              "\n",
              "  <div id=\"df-86dcd30b-dec7-49a8-8796-d477763f2c48\">\n",
              "    <div class=\"colab-df-container\">\n",
              "      <div>\n",
              "<style scoped>\n",
              "    .dataframe tbody tr th:only-of-type {\n",
              "        vertical-align: middle;\n",
              "    }\n",
              "\n",
              "    .dataframe tbody tr th {\n",
              "        vertical-align: top;\n",
              "    }\n",
              "\n",
              "    .dataframe thead th {\n",
              "        text-align: right;\n",
              "    }\n",
              "</style>\n",
              "<table border=\"1\" class=\"dataframe\">\n",
              "  <thead>\n",
              "    <tr style=\"text-align: right;\">\n",
              "      <th></th>\n",
              "      <th>Driver_ID</th>\n",
              "      <th>avg_inc</th>\n",
              "    </tr>\n",
              "  </thead>\n",
              "  <tbody>\n",
              "    <tr>\n",
              "      <th>0</th>\n",
              "      <td>1</td>\n",
              "      <td>57387.0</td>\n",
              "    </tr>\n",
              "    <tr>\n",
              "      <th>1</th>\n",
              "      <td>2</td>\n",
              "      <td>67016.0</td>\n",
              "    </tr>\n",
              "    <tr>\n",
              "      <th>2</th>\n",
              "      <td>4</td>\n",
              "      <td>65603.0</td>\n",
              "    </tr>\n",
              "    <tr>\n",
              "      <th>3</th>\n",
              "      <td>5</td>\n",
              "      <td>46368.0</td>\n",
              "    </tr>\n",
              "    <tr>\n",
              "      <th>4</th>\n",
              "      <td>6</td>\n",
              "      <td>78728.0</td>\n",
              "    </tr>\n",
              "    <tr>\n",
              "      <th>...</th>\n",
              "      <td>...</td>\n",
              "      <td>...</td>\n",
              "    </tr>\n",
              "    <tr>\n",
              "      <th>2376</th>\n",
              "      <td>2784</td>\n",
              "      <td>82815.0</td>\n",
              "    </tr>\n",
              "    <tr>\n",
              "      <th>2377</th>\n",
              "      <td>2785</td>\n",
              "      <td>12105.0</td>\n",
              "    </tr>\n",
              "    <tr>\n",
              "      <th>2378</th>\n",
              "      <td>2786</td>\n",
              "      <td>35370.0</td>\n",
              "    </tr>\n",
              "    <tr>\n",
              "      <th>2379</th>\n",
              "      <td>2787</td>\n",
              "      <td>69498.0</td>\n",
              "    </tr>\n",
              "    <tr>\n",
              "      <th>2380</th>\n",
              "      <td>2788</td>\n",
              "      <td>70254.0</td>\n",
              "    </tr>\n",
              "  </tbody>\n",
              "</table>\n",
              "<p>2381 rows × 2 columns</p>\n",
              "</div>\n",
              "      <button class=\"colab-df-convert\" onclick=\"convertToInteractive('df-86dcd30b-dec7-49a8-8796-d477763f2c48')\"\n",
              "              title=\"Convert this dataframe to an interactive table.\"\n",
              "              style=\"display:none;\">\n",
              "        \n",
              "  <svg xmlns=\"http://www.w3.org/2000/svg\" height=\"24px\"viewBox=\"0 0 24 24\"\n",
              "       width=\"24px\">\n",
              "    <path d=\"M0 0h24v24H0V0z\" fill=\"none\"/>\n",
              "    <path d=\"M18.56 5.44l.94 2.06.94-2.06 2.06-.94-2.06-.94-.94-2.06-.94 2.06-2.06.94zm-11 1L8.5 8.5l.94-2.06 2.06-.94-2.06-.94L8.5 2.5l-.94 2.06-2.06.94zm10 10l.94 2.06.94-2.06 2.06-.94-2.06-.94-.94-2.06-.94 2.06-2.06.94z\"/><path d=\"M17.41 7.96l-1.37-1.37c-.4-.4-.92-.59-1.43-.59-.52 0-1.04.2-1.43.59L10.3 9.45l-7.72 7.72c-.78.78-.78 2.05 0 2.83L4 21.41c.39.39.9.59 1.41.59.51 0 1.02-.2 1.41-.59l7.78-7.78 2.81-2.81c.8-.78.8-2.07 0-2.86zM5.41 20L4 18.59l7.72-7.72 1.47 1.35L5.41 20z\"/>\n",
              "  </svg>\n",
              "      </button>\n",
              "      \n",
              "  <style>\n",
              "    .colab-df-container {\n",
              "      display:flex;\n",
              "      flex-wrap:wrap;\n",
              "      gap: 12px;\n",
              "    }\n",
              "\n",
              "    .colab-df-convert {\n",
              "      background-color: #E8F0FE;\n",
              "      border: none;\n",
              "      border-radius: 50%;\n",
              "      cursor: pointer;\n",
              "      display: none;\n",
              "      fill: #1967D2;\n",
              "      height: 32px;\n",
              "      padding: 0 0 0 0;\n",
              "      width: 32px;\n",
              "    }\n",
              "\n",
              "    .colab-df-convert:hover {\n",
              "      background-color: #E2EBFA;\n",
              "      box-shadow: 0px 1px 2px rgba(60, 64, 67, 0.3), 0px 1px 3px 1px rgba(60, 64, 67, 0.15);\n",
              "      fill: #174EA6;\n",
              "    }\n",
              "\n",
              "    [theme=dark] .colab-df-convert {\n",
              "      background-color: #3B4455;\n",
              "      fill: #D2E3FC;\n",
              "    }\n",
              "\n",
              "    [theme=dark] .colab-df-convert:hover {\n",
              "      background-color: #434B5C;\n",
              "      box-shadow: 0px 1px 3px 1px rgba(0, 0, 0, 0.15);\n",
              "      filter: drop-shadow(0px 1px 2px rgba(0, 0, 0, 0.3));\n",
              "      fill: #FFFFFF;\n",
              "    }\n",
              "  </style>\n",
              "\n",
              "      <script>\n",
              "        const buttonEl =\n",
              "          document.querySelector('#df-86dcd30b-dec7-49a8-8796-d477763f2c48 button.colab-df-convert');\n",
              "        buttonEl.style.display =\n",
              "          google.colab.kernel.accessAllowed ? 'block' : 'none';\n",
              "\n",
              "        async function convertToInteractive(key) {\n",
              "          const element = document.querySelector('#df-86dcd30b-dec7-49a8-8796-d477763f2c48');\n",
              "          const dataTable =\n",
              "            await google.colab.kernel.invokeFunction('convertToInteractive',\n",
              "                                                     [key], {});\n",
              "          if (!dataTable) return;\n",
              "\n",
              "          const docLinkHtml = 'Like what you see? Visit the ' +\n",
              "            '<a target=\"_blank\" href=https://colab.research.google.com/notebooks/data_table.ipynb>data table notebook</a>'\n",
              "            + ' to learn more about interactive tables.';\n",
              "          element.innerHTML = '';\n",
              "          dataTable['output_type'] = 'display_data';\n",
              "          await google.colab.output.renderOutput(dataTable, element);\n",
              "          const docLink = document.createElement('div');\n",
              "          docLink.innerHTML = docLinkHtml;\n",
              "          element.appendChild(docLink);\n",
              "        }\n",
              "      </script>\n",
              "    </div>\n",
              "  </div>\n",
              "  "
            ]
          },
          "metadata": {},
          "execution_count": 20
        }
      ]
    },
    {
      "cell_type": "code",
      "source": [
        "ola=pd.merge(ola,df1,on='Driver_ID',how='inner')\n",
        "ola[['Driver_ID','Income','avg_inc']]"
      ],
      "metadata": {
        "colab": {
          "base_uri": "https://localhost:8080/",
          "height": 424
        },
        "id": "pxvs-WkffFbj",
        "outputId": "0c306689-d133-41e8-eaf8-8be6de48483f"
      },
      "execution_count": 21,
      "outputs": [
        {
          "output_type": "execute_result",
          "data": {
            "text/plain": [
              "       Driver_ID  Income  avg_inc\n",
              "0              1   57387  57387.0\n",
              "1              1   57387  57387.0\n",
              "2              1   57387  57387.0\n",
              "3              2   67016  67016.0\n",
              "4              2   67016  67016.0\n",
              "...          ...     ...      ...\n",
              "19099       2788   70254  70254.0\n",
              "19100       2788   70254  70254.0\n",
              "19101       2788   70254  70254.0\n",
              "19102       2788   70254  70254.0\n",
              "19103       2788   70254  70254.0\n",
              "\n",
              "[19104 rows x 3 columns]"
            ],
            "text/html": [
              "\n",
              "  <div id=\"df-98e479f9-6dd9-4d43-9062-d9cf8415171a\">\n",
              "    <div class=\"colab-df-container\">\n",
              "      <div>\n",
              "<style scoped>\n",
              "    .dataframe tbody tr th:only-of-type {\n",
              "        vertical-align: middle;\n",
              "    }\n",
              "\n",
              "    .dataframe tbody tr th {\n",
              "        vertical-align: top;\n",
              "    }\n",
              "\n",
              "    .dataframe thead th {\n",
              "        text-align: right;\n",
              "    }\n",
              "</style>\n",
              "<table border=\"1\" class=\"dataframe\">\n",
              "  <thead>\n",
              "    <tr style=\"text-align: right;\">\n",
              "      <th></th>\n",
              "      <th>Driver_ID</th>\n",
              "      <th>Income</th>\n",
              "      <th>avg_inc</th>\n",
              "    </tr>\n",
              "  </thead>\n",
              "  <tbody>\n",
              "    <tr>\n",
              "      <th>0</th>\n",
              "      <td>1</td>\n",
              "      <td>57387</td>\n",
              "      <td>57387.0</td>\n",
              "    </tr>\n",
              "    <tr>\n",
              "      <th>1</th>\n",
              "      <td>1</td>\n",
              "      <td>57387</td>\n",
              "      <td>57387.0</td>\n",
              "    </tr>\n",
              "    <tr>\n",
              "      <th>2</th>\n",
              "      <td>1</td>\n",
              "      <td>57387</td>\n",
              "      <td>57387.0</td>\n",
              "    </tr>\n",
              "    <tr>\n",
              "      <th>3</th>\n",
              "      <td>2</td>\n",
              "      <td>67016</td>\n",
              "      <td>67016.0</td>\n",
              "    </tr>\n",
              "    <tr>\n",
              "      <th>4</th>\n",
              "      <td>2</td>\n",
              "      <td>67016</td>\n",
              "      <td>67016.0</td>\n",
              "    </tr>\n",
              "    <tr>\n",
              "      <th>...</th>\n",
              "      <td>...</td>\n",
              "      <td>...</td>\n",
              "      <td>...</td>\n",
              "    </tr>\n",
              "    <tr>\n",
              "      <th>19099</th>\n",
              "      <td>2788</td>\n",
              "      <td>70254</td>\n",
              "      <td>70254.0</td>\n",
              "    </tr>\n",
              "    <tr>\n",
              "      <th>19100</th>\n",
              "      <td>2788</td>\n",
              "      <td>70254</td>\n",
              "      <td>70254.0</td>\n",
              "    </tr>\n",
              "    <tr>\n",
              "      <th>19101</th>\n",
              "      <td>2788</td>\n",
              "      <td>70254</td>\n",
              "      <td>70254.0</td>\n",
              "    </tr>\n",
              "    <tr>\n",
              "      <th>19102</th>\n",
              "      <td>2788</td>\n",
              "      <td>70254</td>\n",
              "      <td>70254.0</td>\n",
              "    </tr>\n",
              "    <tr>\n",
              "      <th>19103</th>\n",
              "      <td>2788</td>\n",
              "      <td>70254</td>\n",
              "      <td>70254.0</td>\n",
              "    </tr>\n",
              "  </tbody>\n",
              "</table>\n",
              "<p>19104 rows × 3 columns</p>\n",
              "</div>\n",
              "      <button class=\"colab-df-convert\" onclick=\"convertToInteractive('df-98e479f9-6dd9-4d43-9062-d9cf8415171a')\"\n",
              "              title=\"Convert this dataframe to an interactive table.\"\n",
              "              style=\"display:none;\">\n",
              "        \n",
              "  <svg xmlns=\"http://www.w3.org/2000/svg\" height=\"24px\"viewBox=\"0 0 24 24\"\n",
              "       width=\"24px\">\n",
              "    <path d=\"M0 0h24v24H0V0z\" fill=\"none\"/>\n",
              "    <path d=\"M18.56 5.44l.94 2.06.94-2.06 2.06-.94-2.06-.94-.94-2.06-.94 2.06-2.06.94zm-11 1L8.5 8.5l.94-2.06 2.06-.94-2.06-.94L8.5 2.5l-.94 2.06-2.06.94zm10 10l.94 2.06.94-2.06 2.06-.94-2.06-.94-.94-2.06-.94 2.06-2.06.94z\"/><path d=\"M17.41 7.96l-1.37-1.37c-.4-.4-.92-.59-1.43-.59-.52 0-1.04.2-1.43.59L10.3 9.45l-7.72 7.72c-.78.78-.78 2.05 0 2.83L4 21.41c.39.39.9.59 1.41.59.51 0 1.02-.2 1.41-.59l7.78-7.78 2.81-2.81c.8-.78.8-2.07 0-2.86zM5.41 20L4 18.59l7.72-7.72 1.47 1.35L5.41 20z\"/>\n",
              "  </svg>\n",
              "      </button>\n",
              "      \n",
              "  <style>\n",
              "    .colab-df-container {\n",
              "      display:flex;\n",
              "      flex-wrap:wrap;\n",
              "      gap: 12px;\n",
              "    }\n",
              "\n",
              "    .colab-df-convert {\n",
              "      background-color: #E8F0FE;\n",
              "      border: none;\n",
              "      border-radius: 50%;\n",
              "      cursor: pointer;\n",
              "      display: none;\n",
              "      fill: #1967D2;\n",
              "      height: 32px;\n",
              "      padding: 0 0 0 0;\n",
              "      width: 32px;\n",
              "    }\n",
              "\n",
              "    .colab-df-convert:hover {\n",
              "      background-color: #E2EBFA;\n",
              "      box-shadow: 0px 1px 2px rgba(60, 64, 67, 0.3), 0px 1px 3px 1px rgba(60, 64, 67, 0.15);\n",
              "      fill: #174EA6;\n",
              "    }\n",
              "\n",
              "    [theme=dark] .colab-df-convert {\n",
              "      background-color: #3B4455;\n",
              "      fill: #D2E3FC;\n",
              "    }\n",
              "\n",
              "    [theme=dark] .colab-df-convert:hover {\n",
              "      background-color: #434B5C;\n",
              "      box-shadow: 0px 1px 3px 1px rgba(0, 0, 0, 0.15);\n",
              "      filter: drop-shadow(0px 1px 2px rgba(0, 0, 0, 0.3));\n",
              "      fill: #FFFFFF;\n",
              "    }\n",
              "  </style>\n",
              "\n",
              "      <script>\n",
              "        const buttonEl =\n",
              "          document.querySelector('#df-98e479f9-6dd9-4d43-9062-d9cf8415171a button.colab-df-convert');\n",
              "        buttonEl.style.display =\n",
              "          google.colab.kernel.accessAllowed ? 'block' : 'none';\n",
              "\n",
              "        async function convertToInteractive(key) {\n",
              "          const element = document.querySelector('#df-98e479f9-6dd9-4d43-9062-d9cf8415171a');\n",
              "          const dataTable =\n",
              "            await google.colab.kernel.invokeFunction('convertToInteractive',\n",
              "                                                     [key], {});\n",
              "          if (!dataTable) return;\n",
              "\n",
              "          const docLinkHtml = 'Like what you see? Visit the ' +\n",
              "            '<a target=\"_blank\" href=https://colab.research.google.com/notebooks/data_table.ipynb>data table notebook</a>'\n",
              "            + ' to learn more about interactive tables.';\n",
              "          element.innerHTML = '';\n",
              "          dataTable['output_type'] = 'display_data';\n",
              "          await google.colab.output.renderOutput(dataTable, element);\n",
              "          const docLink = document.createElement('div');\n",
              "          docLink.innerHTML = docLinkHtml;\n",
              "          element.appendChild(docLink);\n",
              "        }\n",
              "      </script>\n",
              "    </div>\n",
              "  </div>\n",
              "  "
            ]
          },
          "metadata": {},
          "execution_count": 21
        }
      ]
    },
    {
      "cell_type": "code",
      "source": [
        "#last 3 months average grade for the drivers\n",
        "df2=df.groupby('Driver_ID')['Grade'].mean().reset_index(name='avg_grade')\n",
        "ola=pd.merge(ola,df2,on='Driver_ID',how='inner')\n",
        "ola[['Driver_ID','Income','avg_inc','Grade','avg_grade']]"
      ],
      "metadata": {
        "colab": {
          "base_uri": "https://localhost:8080/",
          "height": 424
        },
        "id": "nXkbuKjVeuea",
        "outputId": "61630d5e-6d19-4a5b-fa8a-8a98f645d6e3"
      },
      "execution_count": 22,
      "outputs": [
        {
          "output_type": "execute_result",
          "data": {
            "text/plain": [
              "       Driver_ID  Income  avg_inc  Grade  avg_grade\n",
              "0              1   57387  57387.0      1        1.0\n",
              "1              1   57387  57387.0      1        1.0\n",
              "2              1   57387  57387.0      1        1.0\n",
              "3              2   67016  67016.0      2        2.0\n",
              "4              2   67016  67016.0      2        2.0\n",
              "...          ...     ...      ...    ...        ...\n",
              "19099       2788   70254  70254.0      2        2.0\n",
              "19100       2788   70254  70254.0      2        2.0\n",
              "19101       2788   70254  70254.0      2        2.0\n",
              "19102       2788   70254  70254.0      2        2.0\n",
              "19103       2788   70254  70254.0      2        2.0\n",
              "\n",
              "[19104 rows x 5 columns]"
            ],
            "text/html": [
              "\n",
              "  <div id=\"df-f99bced3-7d67-4d1e-84bb-e27adecf9b21\">\n",
              "    <div class=\"colab-df-container\">\n",
              "      <div>\n",
              "<style scoped>\n",
              "    .dataframe tbody tr th:only-of-type {\n",
              "        vertical-align: middle;\n",
              "    }\n",
              "\n",
              "    .dataframe tbody tr th {\n",
              "        vertical-align: top;\n",
              "    }\n",
              "\n",
              "    .dataframe thead th {\n",
              "        text-align: right;\n",
              "    }\n",
              "</style>\n",
              "<table border=\"1\" class=\"dataframe\">\n",
              "  <thead>\n",
              "    <tr style=\"text-align: right;\">\n",
              "      <th></th>\n",
              "      <th>Driver_ID</th>\n",
              "      <th>Income</th>\n",
              "      <th>avg_inc</th>\n",
              "      <th>Grade</th>\n",
              "      <th>avg_grade</th>\n",
              "    </tr>\n",
              "  </thead>\n",
              "  <tbody>\n",
              "    <tr>\n",
              "      <th>0</th>\n",
              "      <td>1</td>\n",
              "      <td>57387</td>\n",
              "      <td>57387.0</td>\n",
              "      <td>1</td>\n",
              "      <td>1.0</td>\n",
              "    </tr>\n",
              "    <tr>\n",
              "      <th>1</th>\n",
              "      <td>1</td>\n",
              "      <td>57387</td>\n",
              "      <td>57387.0</td>\n",
              "      <td>1</td>\n",
              "      <td>1.0</td>\n",
              "    </tr>\n",
              "    <tr>\n",
              "      <th>2</th>\n",
              "      <td>1</td>\n",
              "      <td>57387</td>\n",
              "      <td>57387.0</td>\n",
              "      <td>1</td>\n",
              "      <td>1.0</td>\n",
              "    </tr>\n",
              "    <tr>\n",
              "      <th>3</th>\n",
              "      <td>2</td>\n",
              "      <td>67016</td>\n",
              "      <td>67016.0</td>\n",
              "      <td>2</td>\n",
              "      <td>2.0</td>\n",
              "    </tr>\n",
              "    <tr>\n",
              "      <th>4</th>\n",
              "      <td>2</td>\n",
              "      <td>67016</td>\n",
              "      <td>67016.0</td>\n",
              "      <td>2</td>\n",
              "      <td>2.0</td>\n",
              "    </tr>\n",
              "    <tr>\n",
              "      <th>...</th>\n",
              "      <td>...</td>\n",
              "      <td>...</td>\n",
              "      <td>...</td>\n",
              "      <td>...</td>\n",
              "      <td>...</td>\n",
              "    </tr>\n",
              "    <tr>\n",
              "      <th>19099</th>\n",
              "      <td>2788</td>\n",
              "      <td>70254</td>\n",
              "      <td>70254.0</td>\n",
              "      <td>2</td>\n",
              "      <td>2.0</td>\n",
              "    </tr>\n",
              "    <tr>\n",
              "      <th>19100</th>\n",
              "      <td>2788</td>\n",
              "      <td>70254</td>\n",
              "      <td>70254.0</td>\n",
              "      <td>2</td>\n",
              "      <td>2.0</td>\n",
              "    </tr>\n",
              "    <tr>\n",
              "      <th>19101</th>\n",
              "      <td>2788</td>\n",
              "      <td>70254</td>\n",
              "      <td>70254.0</td>\n",
              "      <td>2</td>\n",
              "      <td>2.0</td>\n",
              "    </tr>\n",
              "    <tr>\n",
              "      <th>19102</th>\n",
              "      <td>2788</td>\n",
              "      <td>70254</td>\n",
              "      <td>70254.0</td>\n",
              "      <td>2</td>\n",
              "      <td>2.0</td>\n",
              "    </tr>\n",
              "    <tr>\n",
              "      <th>19103</th>\n",
              "      <td>2788</td>\n",
              "      <td>70254</td>\n",
              "      <td>70254.0</td>\n",
              "      <td>2</td>\n",
              "      <td>2.0</td>\n",
              "    </tr>\n",
              "  </tbody>\n",
              "</table>\n",
              "<p>19104 rows × 5 columns</p>\n",
              "</div>\n",
              "      <button class=\"colab-df-convert\" onclick=\"convertToInteractive('df-f99bced3-7d67-4d1e-84bb-e27adecf9b21')\"\n",
              "              title=\"Convert this dataframe to an interactive table.\"\n",
              "              style=\"display:none;\">\n",
              "        \n",
              "  <svg xmlns=\"http://www.w3.org/2000/svg\" height=\"24px\"viewBox=\"0 0 24 24\"\n",
              "       width=\"24px\">\n",
              "    <path d=\"M0 0h24v24H0V0z\" fill=\"none\"/>\n",
              "    <path d=\"M18.56 5.44l.94 2.06.94-2.06 2.06-.94-2.06-.94-.94-2.06-.94 2.06-2.06.94zm-11 1L8.5 8.5l.94-2.06 2.06-.94-2.06-.94L8.5 2.5l-.94 2.06-2.06.94zm10 10l.94 2.06.94-2.06 2.06-.94-2.06-.94-.94-2.06-.94 2.06-2.06.94z\"/><path d=\"M17.41 7.96l-1.37-1.37c-.4-.4-.92-.59-1.43-.59-.52 0-1.04.2-1.43.59L10.3 9.45l-7.72 7.72c-.78.78-.78 2.05 0 2.83L4 21.41c.39.39.9.59 1.41.59.51 0 1.02-.2 1.41-.59l7.78-7.78 2.81-2.81c.8-.78.8-2.07 0-2.86zM5.41 20L4 18.59l7.72-7.72 1.47 1.35L5.41 20z\"/>\n",
              "  </svg>\n",
              "      </button>\n",
              "      \n",
              "  <style>\n",
              "    .colab-df-container {\n",
              "      display:flex;\n",
              "      flex-wrap:wrap;\n",
              "      gap: 12px;\n",
              "    }\n",
              "\n",
              "    .colab-df-convert {\n",
              "      background-color: #E8F0FE;\n",
              "      border: none;\n",
              "      border-radius: 50%;\n",
              "      cursor: pointer;\n",
              "      display: none;\n",
              "      fill: #1967D2;\n",
              "      height: 32px;\n",
              "      padding: 0 0 0 0;\n",
              "      width: 32px;\n",
              "    }\n",
              "\n",
              "    .colab-df-convert:hover {\n",
              "      background-color: #E2EBFA;\n",
              "      box-shadow: 0px 1px 2px rgba(60, 64, 67, 0.3), 0px 1px 3px 1px rgba(60, 64, 67, 0.15);\n",
              "      fill: #174EA6;\n",
              "    }\n",
              "\n",
              "    [theme=dark] .colab-df-convert {\n",
              "      background-color: #3B4455;\n",
              "      fill: #D2E3FC;\n",
              "    }\n",
              "\n",
              "    [theme=dark] .colab-df-convert:hover {\n",
              "      background-color: #434B5C;\n",
              "      box-shadow: 0px 1px 3px 1px rgba(0, 0, 0, 0.15);\n",
              "      filter: drop-shadow(0px 1px 2px rgba(0, 0, 0, 0.3));\n",
              "      fill: #FFFFFF;\n",
              "    }\n",
              "  </style>\n",
              "\n",
              "      <script>\n",
              "        const buttonEl =\n",
              "          document.querySelector('#df-f99bced3-7d67-4d1e-84bb-e27adecf9b21 button.colab-df-convert');\n",
              "        buttonEl.style.display =\n",
              "          google.colab.kernel.accessAllowed ? 'block' : 'none';\n",
              "\n",
              "        async function convertToInteractive(key) {\n",
              "          const element = document.querySelector('#df-f99bced3-7d67-4d1e-84bb-e27adecf9b21');\n",
              "          const dataTable =\n",
              "            await google.colab.kernel.invokeFunction('convertToInteractive',\n",
              "                                                     [key], {});\n",
              "          if (!dataTable) return;\n",
              "\n",
              "          const docLinkHtml = 'Like what you see? Visit the ' +\n",
              "            '<a target=\"_blank\" href=https://colab.research.google.com/notebooks/data_table.ipynb>data table notebook</a>'\n",
              "            + ' to learn more about interactive tables.';\n",
              "          element.innerHTML = '';\n",
              "          dataTable['output_type'] = 'display_data';\n",
              "          await google.colab.output.renderOutput(dataTable, element);\n",
              "          const docLink = document.createElement('div');\n",
              "          docLink.innerHTML = docLinkHtml;\n",
              "          element.appendChild(docLink);\n",
              "        }\n",
              "      </script>\n",
              "    </div>\n",
              "  </div>\n",
              "  "
            ]
          },
          "metadata": {},
          "execution_count": 22
        }
      ]
    },
    {
      "cell_type": "code",
      "source": [
        "#last 3 months average business value for the drivers\n",
        "df3=df.groupby('Driver_ID')['Total Business Value'].mean().reset_index(name='avg_business_val')\n",
        "ola=pd.merge(ola,df3,on='Driver_ID',how='inner')\n",
        "ola[['Driver_ID','Income','avg_inc','Grade','avg_grade','Total Business Value','avg_business_val']]"
      ],
      "metadata": {
        "colab": {
          "base_uri": "https://localhost:8080/",
          "height": 424
        },
        "id": "s4cFeJyigqze",
        "outputId": "cfe0bdb5-3e1c-40c7-a24f-858c501fac5d"
      },
      "execution_count": 23,
      "outputs": [
        {
          "output_type": "execute_result",
          "data": {
            "text/plain": [
              "       Driver_ID  Income  avg_inc  Grade  avg_grade  Total Business Value  \\\n",
              "0              1   57387  57387.0      1        1.0               2381060   \n",
              "1              1   57387  57387.0      1        1.0               -665480   \n",
              "2              1   57387  57387.0      1        1.0                     0   \n",
              "3              2   67016  67016.0      2        2.0                     0   \n",
              "4              2   67016  67016.0      2        2.0                     0   \n",
              "...          ...     ...      ...    ...        ...                   ...   \n",
              "19099       2788   70254  70254.0      2        2.0                740280   \n",
              "19100       2788   70254  70254.0      2        2.0                448370   \n",
              "19101       2788   70254  70254.0      2        2.0                     0   \n",
              "19102       2788   70254  70254.0      2        2.0                200420   \n",
              "19103       2788   70254  70254.0      2        2.0                411480   \n",
              "\n",
              "       avg_business_val  \n",
              "0         571860.000000  \n",
              "1         571860.000000  \n",
              "2         571860.000000  \n",
              "3              0.000000  \n",
              "4              0.000000  \n",
              "...                 ...  \n",
              "19099     203966.666667  \n",
              "19100     203966.666667  \n",
              "19101     203966.666667  \n",
              "19102     203966.666667  \n",
              "19103     203966.666667  \n",
              "\n",
              "[19104 rows x 7 columns]"
            ],
            "text/html": [
              "\n",
              "  <div id=\"df-c083dbbd-524c-4351-bce7-8875a2b36b99\">\n",
              "    <div class=\"colab-df-container\">\n",
              "      <div>\n",
              "<style scoped>\n",
              "    .dataframe tbody tr th:only-of-type {\n",
              "        vertical-align: middle;\n",
              "    }\n",
              "\n",
              "    .dataframe tbody tr th {\n",
              "        vertical-align: top;\n",
              "    }\n",
              "\n",
              "    .dataframe thead th {\n",
              "        text-align: right;\n",
              "    }\n",
              "</style>\n",
              "<table border=\"1\" class=\"dataframe\">\n",
              "  <thead>\n",
              "    <tr style=\"text-align: right;\">\n",
              "      <th></th>\n",
              "      <th>Driver_ID</th>\n",
              "      <th>Income</th>\n",
              "      <th>avg_inc</th>\n",
              "      <th>Grade</th>\n",
              "      <th>avg_grade</th>\n",
              "      <th>Total Business Value</th>\n",
              "      <th>avg_business_val</th>\n",
              "    </tr>\n",
              "  </thead>\n",
              "  <tbody>\n",
              "    <tr>\n",
              "      <th>0</th>\n",
              "      <td>1</td>\n",
              "      <td>57387</td>\n",
              "      <td>57387.0</td>\n",
              "      <td>1</td>\n",
              "      <td>1.0</td>\n",
              "      <td>2381060</td>\n",
              "      <td>571860.000000</td>\n",
              "    </tr>\n",
              "    <tr>\n",
              "      <th>1</th>\n",
              "      <td>1</td>\n",
              "      <td>57387</td>\n",
              "      <td>57387.0</td>\n",
              "      <td>1</td>\n",
              "      <td>1.0</td>\n",
              "      <td>-665480</td>\n",
              "      <td>571860.000000</td>\n",
              "    </tr>\n",
              "    <tr>\n",
              "      <th>2</th>\n",
              "      <td>1</td>\n",
              "      <td>57387</td>\n",
              "      <td>57387.0</td>\n",
              "      <td>1</td>\n",
              "      <td>1.0</td>\n",
              "      <td>0</td>\n",
              "      <td>571860.000000</td>\n",
              "    </tr>\n",
              "    <tr>\n",
              "      <th>3</th>\n",
              "      <td>2</td>\n",
              "      <td>67016</td>\n",
              "      <td>67016.0</td>\n",
              "      <td>2</td>\n",
              "      <td>2.0</td>\n",
              "      <td>0</td>\n",
              "      <td>0.000000</td>\n",
              "    </tr>\n",
              "    <tr>\n",
              "      <th>4</th>\n",
              "      <td>2</td>\n",
              "      <td>67016</td>\n",
              "      <td>67016.0</td>\n",
              "      <td>2</td>\n",
              "      <td>2.0</td>\n",
              "      <td>0</td>\n",
              "      <td>0.000000</td>\n",
              "    </tr>\n",
              "    <tr>\n",
              "      <th>...</th>\n",
              "      <td>...</td>\n",
              "      <td>...</td>\n",
              "      <td>...</td>\n",
              "      <td>...</td>\n",
              "      <td>...</td>\n",
              "      <td>...</td>\n",
              "      <td>...</td>\n",
              "    </tr>\n",
              "    <tr>\n",
              "      <th>19099</th>\n",
              "      <td>2788</td>\n",
              "      <td>70254</td>\n",
              "      <td>70254.0</td>\n",
              "      <td>2</td>\n",
              "      <td>2.0</td>\n",
              "      <td>740280</td>\n",
              "      <td>203966.666667</td>\n",
              "    </tr>\n",
              "    <tr>\n",
              "      <th>19100</th>\n",
              "      <td>2788</td>\n",
              "      <td>70254</td>\n",
              "      <td>70254.0</td>\n",
              "      <td>2</td>\n",
              "      <td>2.0</td>\n",
              "      <td>448370</td>\n",
              "      <td>203966.666667</td>\n",
              "    </tr>\n",
              "    <tr>\n",
              "      <th>19101</th>\n",
              "      <td>2788</td>\n",
              "      <td>70254</td>\n",
              "      <td>70254.0</td>\n",
              "      <td>2</td>\n",
              "      <td>2.0</td>\n",
              "      <td>0</td>\n",
              "      <td>203966.666667</td>\n",
              "    </tr>\n",
              "    <tr>\n",
              "      <th>19102</th>\n",
              "      <td>2788</td>\n",
              "      <td>70254</td>\n",
              "      <td>70254.0</td>\n",
              "      <td>2</td>\n",
              "      <td>2.0</td>\n",
              "      <td>200420</td>\n",
              "      <td>203966.666667</td>\n",
              "    </tr>\n",
              "    <tr>\n",
              "      <th>19103</th>\n",
              "      <td>2788</td>\n",
              "      <td>70254</td>\n",
              "      <td>70254.0</td>\n",
              "      <td>2</td>\n",
              "      <td>2.0</td>\n",
              "      <td>411480</td>\n",
              "      <td>203966.666667</td>\n",
              "    </tr>\n",
              "  </tbody>\n",
              "</table>\n",
              "<p>19104 rows × 7 columns</p>\n",
              "</div>\n",
              "      <button class=\"colab-df-convert\" onclick=\"convertToInteractive('df-c083dbbd-524c-4351-bce7-8875a2b36b99')\"\n",
              "              title=\"Convert this dataframe to an interactive table.\"\n",
              "              style=\"display:none;\">\n",
              "        \n",
              "  <svg xmlns=\"http://www.w3.org/2000/svg\" height=\"24px\"viewBox=\"0 0 24 24\"\n",
              "       width=\"24px\">\n",
              "    <path d=\"M0 0h24v24H0V0z\" fill=\"none\"/>\n",
              "    <path d=\"M18.56 5.44l.94 2.06.94-2.06 2.06-.94-2.06-.94-.94-2.06-.94 2.06-2.06.94zm-11 1L8.5 8.5l.94-2.06 2.06-.94-2.06-.94L8.5 2.5l-.94 2.06-2.06.94zm10 10l.94 2.06.94-2.06 2.06-.94-2.06-.94-.94-2.06-.94 2.06-2.06.94z\"/><path d=\"M17.41 7.96l-1.37-1.37c-.4-.4-.92-.59-1.43-.59-.52 0-1.04.2-1.43.59L10.3 9.45l-7.72 7.72c-.78.78-.78 2.05 0 2.83L4 21.41c.39.39.9.59 1.41.59.51 0 1.02-.2 1.41-.59l7.78-7.78 2.81-2.81c.8-.78.8-2.07 0-2.86zM5.41 20L4 18.59l7.72-7.72 1.47 1.35L5.41 20z\"/>\n",
              "  </svg>\n",
              "      </button>\n",
              "      \n",
              "  <style>\n",
              "    .colab-df-container {\n",
              "      display:flex;\n",
              "      flex-wrap:wrap;\n",
              "      gap: 12px;\n",
              "    }\n",
              "\n",
              "    .colab-df-convert {\n",
              "      background-color: #E8F0FE;\n",
              "      border: none;\n",
              "      border-radius: 50%;\n",
              "      cursor: pointer;\n",
              "      display: none;\n",
              "      fill: #1967D2;\n",
              "      height: 32px;\n",
              "      padding: 0 0 0 0;\n",
              "      width: 32px;\n",
              "    }\n",
              "\n",
              "    .colab-df-convert:hover {\n",
              "      background-color: #E2EBFA;\n",
              "      box-shadow: 0px 1px 2px rgba(60, 64, 67, 0.3), 0px 1px 3px 1px rgba(60, 64, 67, 0.15);\n",
              "      fill: #174EA6;\n",
              "    }\n",
              "\n",
              "    [theme=dark] .colab-df-convert {\n",
              "      background-color: #3B4455;\n",
              "      fill: #D2E3FC;\n",
              "    }\n",
              "\n",
              "    [theme=dark] .colab-df-convert:hover {\n",
              "      background-color: #434B5C;\n",
              "      box-shadow: 0px 1px 3px 1px rgba(0, 0, 0, 0.15);\n",
              "      filter: drop-shadow(0px 1px 2px rgba(0, 0, 0, 0.3));\n",
              "      fill: #FFFFFF;\n",
              "    }\n",
              "  </style>\n",
              "\n",
              "      <script>\n",
              "        const buttonEl =\n",
              "          document.querySelector('#df-c083dbbd-524c-4351-bce7-8875a2b36b99 button.colab-df-convert');\n",
              "        buttonEl.style.display =\n",
              "          google.colab.kernel.accessAllowed ? 'block' : 'none';\n",
              "\n",
              "        async function convertToInteractive(key) {\n",
              "          const element = document.querySelector('#df-c083dbbd-524c-4351-bce7-8875a2b36b99');\n",
              "          const dataTable =\n",
              "            await google.colab.kernel.invokeFunction('convertToInteractive',\n",
              "                                                     [key], {});\n",
              "          if (!dataTable) return;\n",
              "\n",
              "          const docLinkHtml = 'Like what you see? Visit the ' +\n",
              "            '<a target=\"_blank\" href=https://colab.research.google.com/notebooks/data_table.ipynb>data table notebook</a>'\n",
              "            + ' to learn more about interactive tables.';\n",
              "          element.innerHTML = '';\n",
              "          dataTable['output_type'] = 'display_data';\n",
              "          await google.colab.output.renderOutput(dataTable, element);\n",
              "          const docLink = document.createElement('div');\n",
              "          docLink.innerHTML = docLinkHtml;\n",
              "          element.appendChild(docLink);\n",
              "        }\n",
              "      </script>\n",
              "    </div>\n",
              "  </div>\n",
              "  "
            ]
          },
          "metadata": {},
          "execution_count": 23
        }
      ]
    },
    {
      "cell_type": "code",
      "source": [
        "ola1=ola[ola['row_num']==1]\n",
        "ola1.shape"
      ],
      "metadata": {
        "colab": {
          "base_uri": "https://localhost:8080/"
        },
        "id": "A6d37iz-gVzu",
        "outputId": "2459f0b1-fd4e-4497-a276-05d6cd4323ea"
      },
      "execution_count": 24,
      "outputs": [
        {
          "output_type": "execute_result",
          "data": {
            "text/plain": [
              "(2381, 17)"
            ]
          },
          "metadata": {},
          "execution_count": 24
        }
      ]
    },
    {
      "cell_type": "code",
      "source": [
        "ola1.fillna(0,inplace=True)"
      ],
      "metadata": {
        "colab": {
          "base_uri": "https://localhost:8080/"
        },
        "id": "tjDzz0RMhre2",
        "outputId": "6309d9cd-fa9d-44c0-af1f-e55f44438fe5"
      },
      "execution_count": 25,
      "outputs": [
        {
          "output_type": "stream",
          "name": "stderr",
          "text": [
            "/usr/local/lib/python3.7/dist-packages/pandas/core/frame.py:5182: SettingWithCopyWarning: \n",
            "A value is trying to be set on a copy of a slice from a DataFrame\n",
            "\n",
            "See the caveats in the documentation: https://pandas.pydata.org/pandas-docs/stable/user_guide/indexing.html#returning-a-view-versus-a-copy\n",
            "  downcast=downcast,\n"
          ]
        }
      ]
    },
    {
      "cell_type": "code",
      "source": [
        "ola1['target_var']=list(map(lambda x:1 if x!=0 else x,ola1['LastWorkingDate']))\n",
        "ola1[['LastWorkingDate','target_var']]"
      ],
      "metadata": {
        "colab": {
          "base_uri": "https://localhost:8080/",
          "height": 528
        },
        "id": "5dDW5CSMh9xH",
        "outputId": "09ffa30a-577f-4194-8284-b5a929705bc8"
      },
      "execution_count": 26,
      "outputs": [
        {
          "output_type": "stream",
          "name": "stderr",
          "text": [
            "/usr/local/lib/python3.7/dist-packages/ipykernel_launcher.py:1: SettingWithCopyWarning: \n",
            "A value is trying to be set on a copy of a slice from a DataFrame.\n",
            "Try using .loc[row_indexer,col_indexer] = value instead\n",
            "\n",
            "See the caveats in the documentation: https://pandas.pydata.org/pandas-docs/stable/user_guide/indexing.html#returning-a-view-versus-a-copy\n",
            "  \"\"\"Entry point for launching an IPython kernel.\n"
          ]
        },
        {
          "output_type": "execute_result",
          "data": {
            "text/plain": [
              "           LastWorkingDate  target_var\n",
              "2      2019-03-11 00:00:00           1\n",
              "4                        0           0\n",
              "9      2020-04-27 00:00:00           1\n",
              "12     2019-03-07 00:00:00           1\n",
              "17                       0           0\n",
              "...                    ...         ...\n",
              "19078                    0           0\n",
              "19081  2020-10-28 00:00:00           1\n",
              "19090  2019-09-22 00:00:00           1\n",
              "19096  2019-06-20 00:00:00           1\n",
              "19103                    0           0\n",
              "\n",
              "[2381 rows x 2 columns]"
            ],
            "text/html": [
              "\n",
              "  <div id=\"df-bcee9f9a-99bc-4b85-9306-41d2e1d490a1\">\n",
              "    <div class=\"colab-df-container\">\n",
              "      <div>\n",
              "<style scoped>\n",
              "    .dataframe tbody tr th:only-of-type {\n",
              "        vertical-align: middle;\n",
              "    }\n",
              "\n",
              "    .dataframe tbody tr th {\n",
              "        vertical-align: top;\n",
              "    }\n",
              "\n",
              "    .dataframe thead th {\n",
              "        text-align: right;\n",
              "    }\n",
              "</style>\n",
              "<table border=\"1\" class=\"dataframe\">\n",
              "  <thead>\n",
              "    <tr style=\"text-align: right;\">\n",
              "      <th></th>\n",
              "      <th>LastWorkingDate</th>\n",
              "      <th>target_var</th>\n",
              "    </tr>\n",
              "  </thead>\n",
              "  <tbody>\n",
              "    <tr>\n",
              "      <th>2</th>\n",
              "      <td>2019-03-11 00:00:00</td>\n",
              "      <td>1</td>\n",
              "    </tr>\n",
              "    <tr>\n",
              "      <th>4</th>\n",
              "      <td>0</td>\n",
              "      <td>0</td>\n",
              "    </tr>\n",
              "    <tr>\n",
              "      <th>9</th>\n",
              "      <td>2020-04-27 00:00:00</td>\n",
              "      <td>1</td>\n",
              "    </tr>\n",
              "    <tr>\n",
              "      <th>12</th>\n",
              "      <td>2019-03-07 00:00:00</td>\n",
              "      <td>1</td>\n",
              "    </tr>\n",
              "    <tr>\n",
              "      <th>17</th>\n",
              "      <td>0</td>\n",
              "      <td>0</td>\n",
              "    </tr>\n",
              "    <tr>\n",
              "      <th>...</th>\n",
              "      <td>...</td>\n",
              "      <td>...</td>\n",
              "    </tr>\n",
              "    <tr>\n",
              "      <th>19078</th>\n",
              "      <td>0</td>\n",
              "      <td>0</td>\n",
              "    </tr>\n",
              "    <tr>\n",
              "      <th>19081</th>\n",
              "      <td>2020-10-28 00:00:00</td>\n",
              "      <td>1</td>\n",
              "    </tr>\n",
              "    <tr>\n",
              "      <th>19090</th>\n",
              "      <td>2019-09-22 00:00:00</td>\n",
              "      <td>1</td>\n",
              "    </tr>\n",
              "    <tr>\n",
              "      <th>19096</th>\n",
              "      <td>2019-06-20 00:00:00</td>\n",
              "      <td>1</td>\n",
              "    </tr>\n",
              "    <tr>\n",
              "      <th>19103</th>\n",
              "      <td>0</td>\n",
              "      <td>0</td>\n",
              "    </tr>\n",
              "  </tbody>\n",
              "</table>\n",
              "<p>2381 rows × 2 columns</p>\n",
              "</div>\n",
              "      <button class=\"colab-df-convert\" onclick=\"convertToInteractive('df-bcee9f9a-99bc-4b85-9306-41d2e1d490a1')\"\n",
              "              title=\"Convert this dataframe to an interactive table.\"\n",
              "              style=\"display:none;\">\n",
              "        \n",
              "  <svg xmlns=\"http://www.w3.org/2000/svg\" height=\"24px\"viewBox=\"0 0 24 24\"\n",
              "       width=\"24px\">\n",
              "    <path d=\"M0 0h24v24H0V0z\" fill=\"none\"/>\n",
              "    <path d=\"M18.56 5.44l.94 2.06.94-2.06 2.06-.94-2.06-.94-.94-2.06-.94 2.06-2.06.94zm-11 1L8.5 8.5l.94-2.06 2.06-.94-2.06-.94L8.5 2.5l-.94 2.06-2.06.94zm10 10l.94 2.06.94-2.06 2.06-.94-2.06-.94-.94-2.06-.94 2.06-2.06.94z\"/><path d=\"M17.41 7.96l-1.37-1.37c-.4-.4-.92-.59-1.43-.59-.52 0-1.04.2-1.43.59L10.3 9.45l-7.72 7.72c-.78.78-.78 2.05 0 2.83L4 21.41c.39.39.9.59 1.41.59.51 0 1.02-.2 1.41-.59l7.78-7.78 2.81-2.81c.8-.78.8-2.07 0-2.86zM5.41 20L4 18.59l7.72-7.72 1.47 1.35L5.41 20z\"/>\n",
              "  </svg>\n",
              "      </button>\n",
              "      \n",
              "  <style>\n",
              "    .colab-df-container {\n",
              "      display:flex;\n",
              "      flex-wrap:wrap;\n",
              "      gap: 12px;\n",
              "    }\n",
              "\n",
              "    .colab-df-convert {\n",
              "      background-color: #E8F0FE;\n",
              "      border: none;\n",
              "      border-radius: 50%;\n",
              "      cursor: pointer;\n",
              "      display: none;\n",
              "      fill: #1967D2;\n",
              "      height: 32px;\n",
              "      padding: 0 0 0 0;\n",
              "      width: 32px;\n",
              "    }\n",
              "\n",
              "    .colab-df-convert:hover {\n",
              "      background-color: #E2EBFA;\n",
              "      box-shadow: 0px 1px 2px rgba(60, 64, 67, 0.3), 0px 1px 3px 1px rgba(60, 64, 67, 0.15);\n",
              "      fill: #174EA6;\n",
              "    }\n",
              "\n",
              "    [theme=dark] .colab-df-convert {\n",
              "      background-color: #3B4455;\n",
              "      fill: #D2E3FC;\n",
              "    }\n",
              "\n",
              "    [theme=dark] .colab-df-convert:hover {\n",
              "      background-color: #434B5C;\n",
              "      box-shadow: 0px 1px 3px 1px rgba(0, 0, 0, 0.15);\n",
              "      filter: drop-shadow(0px 1px 2px rgba(0, 0, 0, 0.3));\n",
              "      fill: #FFFFFF;\n",
              "    }\n",
              "  </style>\n",
              "\n",
              "      <script>\n",
              "        const buttonEl =\n",
              "          document.querySelector('#df-bcee9f9a-99bc-4b85-9306-41d2e1d490a1 button.colab-df-convert');\n",
              "        buttonEl.style.display =\n",
              "          google.colab.kernel.accessAllowed ? 'block' : 'none';\n",
              "\n",
              "        async function convertToInteractive(key) {\n",
              "          const element = document.querySelector('#df-bcee9f9a-99bc-4b85-9306-41d2e1d490a1');\n",
              "          const dataTable =\n",
              "            await google.colab.kernel.invokeFunction('convertToInteractive',\n",
              "                                                     [key], {});\n",
              "          if (!dataTable) return;\n",
              "\n",
              "          const docLinkHtml = 'Like what you see? Visit the ' +\n",
              "            '<a target=\"_blank\" href=https://colab.research.google.com/notebooks/data_table.ipynb>data table notebook</a>'\n",
              "            + ' to learn more about interactive tables.';\n",
              "          element.innerHTML = '';\n",
              "          dataTable['output_type'] = 'display_data';\n",
              "          await google.colab.output.renderOutput(dataTable, element);\n",
              "          const docLink = document.createElement('div');\n",
              "          docLink.innerHTML = docLinkHtml;\n",
              "          element.appendChild(docLink);\n",
              "        }\n",
              "      </script>\n",
              "    </div>\n",
              "  </div>\n",
              "  "
            ]
          },
          "metadata": {},
          "execution_count": 26
        }
      ]
    },
    {
      "cell_type": "code",
      "source": [
        "ola1.info()"
      ],
      "metadata": {
        "colab": {
          "base_uri": "https://localhost:8080/"
        },
        "id": "qaOIRD8SjKKH",
        "outputId": "637058ce-f473-48dd-f178-c57813d5f1b3"
      },
      "execution_count": 27,
      "outputs": [
        {
          "output_type": "stream",
          "name": "stdout",
          "text": [
            "<class 'pandas.core.frame.DataFrame'>\n",
            "Int64Index: 2381 entries, 2 to 19103\n",
            "Data columns (total 18 columns):\n",
            " #   Column                Non-Null Count  Dtype         \n",
            "---  ------                --------------  -----         \n",
            " 0   MMM-YY                2381 non-null   datetime64[ns]\n",
            " 1   Driver_ID             2381 non-null   int64         \n",
            " 2   Age                   2381 non-null   float64       \n",
            " 3   Gender                2381 non-null   float64       \n",
            " 4   City                  2381 non-null   object        \n",
            " 5   Education_Level       2381 non-null   int64         \n",
            " 6   Income                2381 non-null   int64         \n",
            " 7   Dateofjoining         2381 non-null   datetime64[ns]\n",
            " 8   LastWorkingDate       2381 non-null   object        \n",
            " 9   Joining Designation   2381 non-null   int64         \n",
            " 10  Grade                 2381 non-null   int64         \n",
            " 11  Total Business Value  2381 non-null   int64         \n",
            " 12  Quarterly Rating      2381 non-null   int64         \n",
            " 13  row_num               2381 non-null   float64       \n",
            " 14  avg_inc               2381 non-null   float64       \n",
            " 15  avg_grade             2381 non-null   float64       \n",
            " 16  avg_business_val      2381 non-null   float64       \n",
            " 17  target_var            2381 non-null   int64         \n",
            "dtypes: datetime64[ns](2), float64(6), int64(8), object(2)\n",
            "memory usage: 353.4+ KB\n"
          ]
        }
      ]
    },
    {
      "cell_type": "code",
      "source": [
        "ola1.boxplot(by='target_var',column='Income',figsize=(10,10))\n",
        "plt.show()"
      ],
      "metadata": {
        "colab": {
          "base_uri": "https://localhost:8080/",
          "height": 715
        },
        "id": "9GcR_BXfkcMG",
        "outputId": "9ed47f3a-3449-43c6-9ecf-03922b6f4a21"
      },
      "execution_count": 28,
      "outputs": [
        {
          "output_type": "stream",
          "name": "stderr",
          "text": [
            "/usr/local/lib/python3.7/dist-packages/matplotlib/cbook/__init__.py:1376: VisibleDeprecationWarning: Creating an ndarray from ragged nested sequences (which is a list-or-tuple of lists-or-tuples-or ndarrays with different lengths or shapes) is deprecated. If you meant to do this, you must specify 'dtype=object' when creating the ndarray.\n",
            "  X = np.atleast_1d(X.T if isinstance(X, np.ndarray) else np.asarray(X))\n"
          ]
        },
        {
          "output_type": "display_data",
          "data": {
            "text/plain": [
              "<Figure size 720x720 with 1 Axes>"
            ],
            "image/png": "[encoded data removed]"
          },
          "metadata": {
            "needs_background": "light"
          }
        }
      ]
    },
    {
      "cell_type": "code",
      "source": [
        "df=(ola1.groupby(['target_var','Education_Level']).size()*100/ola1.groupby('Education_Level').size()).reset_index(name='percent')\n",
        "df.pivot(index='Education_Level',columns='target_var',values='percent').plot.bar(stacked=True)"
      ],
      "metadata": {
        "colab": {
          "base_uri": "https://localhost:8080/",
          "height": 294
        },
        "id": "F4k8fpHkW54I",
        "outputId": "bb88105d-0ceb-4d26-a868-a0e546510908"
      },
      "execution_count": 32,
      "outputs": [
        {
          "output_type": "execute_result",
          "data": {
            "text/plain": [
              "<matplotlib.axes._subplots.AxesSubplot at 0x7f04f6720f10>"
            ]
          },
          "metadata": {},
          "execution_count": 32
        },
        {
          "output_type": "display_data",
          "data": {
            "text/plain": [
              "<Figure size 432x288 with 1 Axes>"
            ],
            "image/png": "[encoded data removed]"
          },
          "metadata": {
            "needs_background": "light"
          }
        }
      ]
    },
    {
      "cell_type": "code",
      "source": [
        "ola1['Gender'].value_counts(normalize=True)"
      ],
      "metadata": {
        "colab": {
          "base_uri": "https://localhost:8080/"
        },
        "id": "o6MiBYRPY9zH",
        "outputId": "8139f958-52cc-42ab-fef4-6df15f3c321f"
      },
      "execution_count": 34,
      "outputs": [
        {
          "output_type": "execute_result",
          "data": {
            "text/plain": [
              "0.0    0.591348\n",
              "1.0    0.408652\n",
              "Name: Gender, dtype: float64"
            ]
          },
          "metadata": {},
          "execution_count": 34
        }
      ]
    },
    {
      "cell_type": "code",
      "source": [
        "df=(ola1.groupby(['target_var','Gender']).size()*100/ola1.groupby('Gender').size()).reset_index(name='percent')\n",
        "df.pivot(index='Gender',columns='target_var',values='percent').plot.bar(stacked=True)"
      ],
      "metadata": {
        "colab": {
          "base_uri": "https://localhost:8080/",
          "height": 302
        },
        "id": "Wcl0mW-DYkHD",
        "outputId": "e72f0a52-096c-4869-e69a-079b0c2f4b7d"
      },
      "execution_count": 33,
      "outputs": [
        {
          "output_type": "execute_result",
          "data": {
            "text/plain": [
              "<matplotlib.axes._subplots.AxesSubplot at 0x7f04f6246b10>"
            ]
          },
          "metadata": {},
          "execution_count": 33
        },
        {
          "output_type": "display_data",
          "data": {
            "text/plain": [
              "<Figure size 432x288 with 1 Axes>"
            ],
            "image/png": "[encoded data removed]"
          },
          "metadata": {
            "needs_background": "light"
          }
        }
      ]
    },
    {
      "cell_type": "code",
      "source": [
        "xs=ola1[[ 'Age', 'Gender', 'City', 'Education_Level','Joining Designation','Quarterly Rating',\n",
        "         'avg_inc', 'avg_grade', 'avg_business_val']]"
      ],
      "metadata": {
        "id": "7Bu90-5KkzH6"
      },
      "execution_count": null,
      "outputs": []
    },
    {
      "cell_type": "code",
      "source": [
        "y=ola1['target_var']"
      ],
      "metadata": {
        "id": "ePgC5N5clSUa"
      },
      "execution_count": null,
      "outputs": []
    },
    {
      "cell_type": "code",
      "source": [
        "xs.info()"
      ],
      "metadata": {
        "colab": {
          "base_uri": "https://localhost:8080/"
        },
        "id": "v-e0FqOMlYlD",
        "outputId": "a0d54822-b08b-4372-e02e-bd192ff9d822"
      },
      "execution_count": null,
      "outputs": [
        {
          "output_type": "stream",
          "name": "stdout",
          "text": [
            "<class 'pandas.core.frame.DataFrame'>\n",
            "Int64Index: 2381 entries, 2 to 19103\n",
            "Data columns (total 9 columns):\n",
            " #   Column               Non-Null Count  Dtype  \n",
            "---  ------               --------------  -----  \n",
            " 0   Age                  2381 non-null   float64\n",
            " 1   Gender               2381 non-null   float64\n",
            " 2   City                 2381 non-null   object \n",
            " 3   Education_Level      2381 non-null   int64  \n",
            " 4   Joining Designation  2381 non-null   int64  \n",
            " 5   Quarterly Rating     2381 non-null   int64  \n",
            " 6   avg_inc              2381 non-null   float64\n",
            " 7   avg_grade            2381 non-null   float64\n",
            " 8   avg_business_val     2381 non-null   float64\n",
            "dtypes: float64(5), int64(3), object(1)\n",
            "memory usage: 186.0+ KB\n"
          ]
        }
      ]
    },
    {
      "cell_type": "code",
      "source": [
        "from sklearn.model_selection import train_test_split"
      ],
      "metadata": {
        "id": "Gn3FDKS6lhwX"
      },
      "execution_count": null,
      "outputs": []
    },
    {
      "cell_type": "code",
      "source": [
        "x_trainn,x_test,y_trainn,y_test=train_test_split(xs,y,test_size=0.15,random_state=42)\n",
        "x_train,x_val,y_train,y_val=train_test_split(x_trainn,y_trainn,test_size=0.15,random_state=42)"
      ],
      "metadata": {
        "id": "186ljim-lnFv"
      },
      "execution_count": null,
      "outputs": []
    },
    {
      "cell_type": "code",
      "source": [
        "print(x_train.shape,x_val.shape,x_test.shape,y_train.shape,\n",
        "     y_val.shape,y_test.shape)"
      ],
      "metadata": {
        "colab": {
          "base_uri": "https://localhost:8080/"
        },
        "id": "5iG1p9pIl11h",
        "outputId": "4f3c4837-fb89-4f2e-bb92-5b21c98e30d5"
      },
      "execution_count": null,
      "outputs": [
        {
          "output_type": "stream",
          "name": "stdout",
          "text": [
            "(1719, 9) (304, 9) (358, 9) (1719,) (304,) (358,)\n"
          ]
        }
      ]
    },
    {
      "cell_type": "code",
      "source": [
        "pip install --upgrade category_encoders"
      ],
      "metadata": {
        "colab": {
          "base_uri": "https://localhost:8080/"
        },
        "id": "VXY1mx7Al6GK",
        "outputId": "3aa7237a-6562-4815-9270-1392a17993bd"
      },
      "execution_count": null,
      "outputs": [
        {
          "output_type": "stream",
          "name": "stdout",
          "text": [
            "Looking in indexes: https://pypi.org/simple, https://us-python.pkg.dev/colab-wheels/public/simple/\n",
            "Collecting category_encoders\n",
            "  Downloading category_encoders-2.5.0-py2.py3-none-any.whl (69 kB)\n",
            "\u001b[K     |████████████████████████████████| 69 kB 2.8 MB/s \n",
            "\u001b[?25hRequirement already satisfied: scipy>=1.0.0 in /usr/local/lib/python3.7/dist-packages (from category_encoders) (1.4.1)\n",
            "Requirement already satisfied: numpy>=1.14.0 in /usr/local/lib/python3.7/dist-packages (from category_encoders) (1.21.6)\n",
            "Requirement already satisfied: patsy>=0.5.1 in /usr/local/lib/python3.7/dist-packages (from category_encoders) (0.5.2)\n",
            "Requirement already satisfied: pandas>=1.0.5 in /usr/local/lib/python3.7/dist-packages (from category_encoders) (1.3.5)\n",
            "Requirement already satisfied: statsmodels>=0.9.0 in /usr/local/lib/python3.7/dist-packages (from category_encoders) (0.10.2)\n",
            "Requirement already satisfied: scikit-learn>=0.20.0 in /usr/local/lib/python3.7/dist-packages (from category_encoders) (1.0.2)\n",
            "Requirement already satisfied: python-dateutil>=2.7.3 in /usr/local/lib/python3.7/dist-packages (from pandas>=1.0.5->category_encoders) (2.8.2)\n",
            "Requirement already satisfied: pytz>=2017.3 in /usr/local/lib/python3.7/dist-packages (from pandas>=1.0.5->category_encoders) (2022.1)\n",
            "Requirement already satisfied: six in /usr/local/lib/python3.7/dist-packages (from patsy>=0.5.1->category_encoders) (1.15.0)\n",
            "Requirement already satisfied: joblib>=0.11 in /usr/local/lib/python3.7/dist-packages (from scikit-learn>=0.20.0->category_encoders) (1.1.0)\n",
            "Requirement already satisfied: threadpoolctl>=2.0.0 in /usr/local/lib/python3.7/dist-packages (from scikit-learn>=0.20.0->category_encoders) (3.1.0)\n",
            "Installing collected packages: category-encoders\n",
            "Successfully installed category-encoders-2.5.0\n"
          ]
        }
      ]
    },
    {
      "cell_type": "code",
      "source": [
        "import category_encoders as ce"
      ],
      "metadata": {
        "colab": {
          "base_uri": "https://localhost:8080/"
        },
        "id": "o2u0eyVumNzG",
        "outputId": "d3638e84-637f-45a5-bb18-92fdc2bdd103"
      },
      "execution_count": null,
      "outputs": [
        {
          "output_type": "stream",
          "name": "stderr",
          "text": [
            "/usr/local/lib/python3.7/dist-packages/statsmodels/tools/_testing.py:19: FutureWarning: pandas.util.testing is deprecated. Use the functions in the public API at pandas.testing instead.\n",
            "  import pandas.util.testing as tm\n"
          ]
        }
      ]
    },
    {
      "cell_type": "code",
      "source": [
        "xs.columns"
      ],
      "metadata": {
        "colab": {
          "base_uri": "https://localhost:8080/"
        },
        "id": "7y7l2eeXmTTZ",
        "outputId": "28a5e5dc-c6e2-4811-8197-4b3e3037e7dd"
      },
      "execution_count": null,
      "outputs": [
        {
          "output_type": "execute_result",
          "data": {
            "text/plain": [
              "Index(['Age', 'Gender', 'City', 'Education_Level', 'Joining Designation',\n",
              "       'Quarterly Rating', 'avg_inc', 'avg_grade', 'avg_business_val'],\n",
              "      dtype='object')"
            ]
          },
          "metadata": {},
          "execution_count": 130
        }
      ]
    },
    {
      "cell_type": "markdown",
      "source": [
        "Performing target encoding on City"
      ],
      "metadata": {
        "id": "OxmtyEvUmmrr"
      }
    },
    {
      "cell_type": "code",
      "source": [
        "ce_target=ce.TargetEncoder(cols=['City'])\n",
        "x_train=ce_target.fit_transform(x_train,y_train)\n",
        "x_val=ce_target.transform(x_val)\n",
        "x_test=ce_target.transform(x_test)"
      ],
      "metadata": {
        "colab": {
          "base_uri": "https://localhost:8080/"
        },
        "id": "ubKTGI07mrf4",
        "outputId": "9624e7b3-630d-41bc-9b81-45d669e3dfde"
      },
      "execution_count": null,
      "outputs": [
        {
          "output_type": "stream",
          "name": "stderr",
          "text": [
            "/usr/local/lib/python3.7/dist-packages/category_encoders/target_encoder.py:94: FutureWarning: Default parameter min_samples_leaf will change in version 2.6.See https://github.com/scikit-learn-contrib/category_encoders/issues/327\n",
            "  category=FutureWarning)\n",
            "/usr/local/lib/python3.7/dist-packages/category_encoders/target_encoder.py:99: FutureWarning: Default parameter smoothing will change in version 2.6.See https://github.com/scikit-learn-contrib/category_encoders/issues/327\n",
            "  category=FutureWarning)\n"
          ]
        }
      ]
    },
    {
      "cell_type": "code",
      "source": [
        "x_train"
      ],
      "metadata": {
        "colab": {
          "base_uri": "https://localhost:8080/",
          "height": 424
        },
        "id": "byfg_Cotm-M3",
        "outputId": "639b6941-c705-4c0e-b6af-04c4cfa5a68f"
      },
      "execution_count": null,
      "outputs": [
        {
          "output_type": "execute_result",
          "data": {
            "text/plain": [
              "        Age  Gender      City  Education_Level  Joining Designation  \\\n",
              "18587  35.0     1.0  0.688679                2                    1   \n",
              "4231   23.0     1.0  0.725806                1                    1   \n",
              "762    52.0     0.0  0.867925                1                    2   \n",
              "7726   31.0     0.0  0.634921                2                    1   \n",
              "972    38.0     0.0  0.728814                1                    1   \n",
              "...     ...     ...       ...              ...                  ...   \n",
              "659    29.0     1.0  0.741379                2                    3   \n",
              "6474   38.0     0.0  0.685185                0                    3   \n",
              "17900  31.0     0.0  0.513889                2                    1   \n",
              "8776   37.0     0.0  0.703704                2                    1   \n",
              "5244   35.0     1.0  0.717391                2                    1   \n",
              "\n",
              "       Quarterly Rating  avg_inc  avg_grade  avg_business_val  \n",
              "18587                 1  61569.0        1.0      1.527500e+05  \n",
              "4231                  1  36474.0        1.0      0.000000e+00  \n",
              "762                   1  73769.0        3.0      1.561500e+05  \n",
              "7726                  1  57356.0        1.0      0.000000e+00  \n",
              "972                   3  72253.0        2.0      6.405467e+05  \n",
              "...                 ...      ...        ...               ...  \n",
              "659                   1  60874.0        3.0      0.000000e+00  \n",
              "6474                  1  83350.0        3.0      0.000000e+00  \n",
              "17900                 3  98935.0        4.0      1.774063e+06  \n",
              "8776                  2  39644.0        1.0      5.278600e+05  \n",
              "5244                  1  23182.0        1.0      0.000000e+00  \n",
              "\n",
              "[1719 rows x 9 columns]"
            ],
            "text/html": [
              "\n",
              "  <div id=\"df-8ad7094f-920d-43c4-84b4-3312ce4e90bb\">\n",
              "    <div class=\"colab-df-container\">\n",
              "      <div>\n",
              "<style scoped>\n",
              "    .dataframe tbody tr th:only-of-type {\n",
              "        vertical-align: middle;\n",
              "    }\n",
              "\n",
              "    .dataframe tbody tr th {\n",
              "        vertical-align: top;\n",
              "    }\n",
              "\n",
              "    .dataframe thead th {\n",
              "        text-align: right;\n",
              "    }\n",
              "</style>\n",
              "<table border=\"1\" class=\"dataframe\">\n",
              "  <thead>\n",
              "    <tr style=\"text-align: right;\">\n",
              "      <th></th>\n",
              "      <th>Age</th>\n",
              "      <th>Gender</th>\n",
              "      <th>City</th>\n",
              "      <th>Education_Level</th>\n",
              "      <th>Joining Designation</th>\n",
              "      <th>Quarterly Rating</th>\n",
              "      <th>avg_inc</th>\n",
              "      <th>avg_grade</th>\n",
              "      <th>avg_business_val</th>\n",
              "    </tr>\n",
              "  </thead>\n",
              "  <tbody>\n",
              "    <tr>\n",
              "      <th>18587</th>\n",
              "      <td>35.0</td>\n",
              "      <td>1.0</td>\n",
              "      <td>0.688679</td>\n",
              "      <td>2</td>\n",
              "      <td>1</td>\n",
              "      <td>1</td>\n",
              "      <td>61569.0</td>\n",
              "      <td>1.0</td>\n",
              "      <td>1.527500e+05</td>\n",
              "    </tr>\n",
              "    <tr>\n",
              "      <th>4231</th>\n",
              "      <td>23.0</td>\n",
              "      <td>1.0</td>\n",
              "      <td>0.725806</td>\n",
              "      <td>1</td>\n",
              "      <td>1</td>\n",
              "      <td>1</td>\n",
              "      <td>36474.0</td>\n",
              "      <td>1.0</td>\n",
              "      <td>0.000000e+00</td>\n",
              "    </tr>\n",
              "    <tr>\n",
              "      <th>762</th>\n",
              "      <td>52.0</td>\n",
              "      <td>0.0</td>\n",
              "      <td>0.867925</td>\n",
              "      <td>1</td>\n",
              "      <td>2</td>\n",
              "      <td>1</td>\n",
              "      <td>73769.0</td>\n",
              "      <td>3.0</td>\n",
              "      <td>1.561500e+05</td>\n",
              "    </tr>\n",
              "    <tr>\n",
              "      <th>7726</th>\n",
              "      <td>31.0</td>\n",
              "      <td>0.0</td>\n",
              "      <td>0.634921</td>\n",
              "      <td>2</td>\n",
              "      <td>1</td>\n",
              "      <td>1</td>\n",
              "      <td>57356.0</td>\n",
              "      <td>1.0</td>\n",
              "      <td>0.000000e+00</td>\n",
              "    </tr>\n",
              "    <tr>\n",
              "      <th>972</th>\n",
              "      <td>38.0</td>\n",
              "      <td>0.0</td>\n",
              "      <td>0.728814</td>\n",
              "      <td>1</td>\n",
              "      <td>1</td>\n",
              "      <td>3</td>\n",
              "      <td>72253.0</td>\n",
              "      <td>2.0</td>\n",
              "      <td>6.405467e+05</td>\n",
              "    </tr>\n",
              "    <tr>\n",
              "      <th>...</th>\n",
              "      <td>...</td>\n",
              "      <td>...</td>\n",
              "      <td>...</td>\n",
              "      <td>...</td>\n",
              "      <td>...</td>\n",
              "      <td>...</td>\n",
              "      <td>...</td>\n",
              "      <td>...</td>\n",
              "      <td>...</td>\n",
              "    </tr>\n",
              "    <tr>\n",
              "      <th>659</th>\n",
              "      <td>29.0</td>\n",
              "      <td>1.0</td>\n",
              "      <td>0.741379</td>\n",
              "      <td>2</td>\n",
              "      <td>3</td>\n",
              "      <td>1</td>\n",
              "      <td>60874.0</td>\n",
              "      <td>3.0</td>\n",
              "      <td>0.000000e+00</td>\n",
              "    </tr>\n",
              "    <tr>\n",
              "      <th>6474</th>\n",
              "      <td>38.0</td>\n",
              "      <td>0.0</td>\n",
              "      <td>0.685185</td>\n",
              "      <td>0</td>\n",
              "      <td>3</td>\n",
              "      <td>1</td>\n",
              "      <td>83350.0</td>\n",
              "      <td>3.0</td>\n",
              "      <td>0.000000e+00</td>\n",
              "    </tr>\n",
              "    <tr>\n",
              "      <th>17900</th>\n",
              "      <td>31.0</td>\n",
              "      <td>0.0</td>\n",
              "      <td>0.513889</td>\n",
              "      <td>2</td>\n",
              "      <td>1</td>\n",
              "      <td>3</td>\n",
              "      <td>98935.0</td>\n",
              "      <td>4.0</td>\n",
              "      <td>1.774063e+06</td>\n",
              "    </tr>\n",
              "    <tr>\n",
              "      <th>8776</th>\n",
              "      <td>37.0</td>\n",
              "      <td>0.0</td>\n",
              "      <td>0.703704</td>\n",
              "      <td>2</td>\n",
              "      <td>1</td>\n",
              "      <td>2</td>\n",
              "      <td>39644.0</td>\n",
              "      <td>1.0</td>\n",
              "      <td>5.278600e+05</td>\n",
              "    </tr>\n",
              "    <tr>\n",
              "      <th>5244</th>\n",
              "      <td>35.0</td>\n",
              "      <td>1.0</td>\n",
              "      <td>0.717391</td>\n",
              "      <td>2</td>\n",
              "      <td>1</td>\n",
              "      <td>1</td>\n",
              "      <td>23182.0</td>\n",
              "      <td>1.0</td>\n",
              "      <td>0.000000e+00</td>\n",
              "    </tr>\n",
              "  </tbody>\n",
              "</table>\n",
              "<p>1719 rows × 9 columns</p>\n",
              "</div>\n",
              "      <button class=\"colab-df-convert\" onclick=\"convertToInteractive('df-8ad7094f-920d-43c4-84b4-3312ce4e90bb')\"\n",
              "              title=\"Convert this dataframe to an interactive table.\"\n",
              "              style=\"display:none;\">\n",
              "        \n",
              "  <svg xmlns=\"http://www.w3.org/2000/svg\" height=\"24px\"viewBox=\"0 0 24 24\"\n",
              "       width=\"24px\">\n",
              "    <path d=\"M0 0h24v24H0V0z\" fill=\"none\"/>\n",
              "    <path d=\"M18.56 5.44l.94 2.06.94-2.06 2.06-.94-2.06-.94-.94-2.06-.94 2.06-2.06.94zm-11 1L8.5 8.5l.94-2.06 2.06-.94-2.06-.94L8.5 2.5l-.94 2.06-2.06.94zm10 10l.94 2.06.94-2.06 2.06-.94-2.06-.94-.94-2.06-.94 2.06-2.06.94z\"/><path d=\"M17.41 7.96l-1.37-1.37c-.4-.4-.92-.59-1.43-.59-.52 0-1.04.2-1.43.59L10.3 9.45l-7.72 7.72c-.78.78-.78 2.05 0 2.83L4 21.41c.39.39.9.59 1.41.59.51 0 1.02-.2 1.41-.59l7.78-7.78 2.81-2.81c.8-.78.8-2.07 0-2.86zM5.41 20L4 18.59l7.72-7.72 1.47 1.35L5.41 20z\"/>\n",
              "  </svg>\n",
              "      </button>\n",
              "      \n",
              "  <style>\n",
              "    .colab-df-container {\n",
              "      display:flex;\n",
              "      flex-wrap:wrap;\n",
              "      gap: 12px;\n",
              "    }\n",
              "\n",
              "    .colab-df-convert {\n",
              "      background-color: #E8F0FE;\n",
              "      border: none;\n",
              "      border-radius: 50%;\n",
              "      cursor: pointer;\n",
              "      display: none;\n",
              "      fill: #1967D2;\n",
              "      height: 32px;\n",
              "      padding: 0 0 0 0;\n",
              "      width: 32px;\n",
              "    }\n",
              "\n",
              "    .colab-df-convert:hover {\n",
              "      background-color: #E2EBFA;\n",
              "      box-shadow: 0px 1px 2px rgba(60, 64, 67, 0.3), 0px 1px 3px 1px rgba(60, 64, 67, 0.15);\n",
              "      fill: #174EA6;\n",
              "    }\n",
              "\n",
              "    [theme=dark] .colab-df-convert {\n",
              "      background-color: #3B4455;\n",
              "      fill: #D2E3FC;\n",
              "    }\n",
              "\n",
              "    [theme=dark] .colab-df-convert:hover {\n",
              "      background-color: #434B5C;\n",
              "      box-shadow: 0px 1px 3px 1px rgba(0, 0, 0, 0.15);\n",
              "      filter: drop-shadow(0px 1px 2px rgba(0, 0, 0, 0.3));\n",
              "      fill: #FFFFFF;\n",
              "    }\n",
              "  </style>\n",
              "\n",
              "      <script>\n",
              "        const buttonEl =\n",
              "          document.querySelector('#df-8ad7094f-920d-43c4-84b4-3312ce4e90bb button.colab-df-convert');\n",
              "        buttonEl.style.display =\n",
              "          google.colab.kernel.accessAllowed ? 'block' : 'none';\n",
              "\n",
              "        async function convertToInteractive(key) {\n",
              "          const element = document.querySelector('#df-8ad7094f-920d-43c4-84b4-3312ce4e90bb');\n",
              "          const dataTable =\n",
              "            await google.colab.kernel.invokeFunction('convertToInteractive',\n",
              "                                                     [key], {});\n",
              "          if (!dataTable) return;\n",
              "\n",
              "          const docLinkHtml = 'Like what you see? Visit the ' +\n",
              "            '<a target=\"_blank\" href=https://colab.research.google.com/notebooks/data_table.ipynb>data table notebook</a>'\n",
              "            + ' to learn more about interactive tables.';\n",
              "          element.innerHTML = '';\n",
              "          dataTable['output_type'] = 'display_data';\n",
              "          await google.colab.output.renderOutput(dataTable, element);\n",
              "          const docLink = document.createElement('div');\n",
              "          docLink.innerHTML = docLinkHtml;\n",
              "          element.appendChild(docLink);\n",
              "        }\n",
              "      </script>\n",
              "    </div>\n",
              "  </div>\n",
              "  "
            ]
          },
          "metadata": {},
          "execution_count": 132
        }
      ]
    },
    {
      "cell_type": "markdown",
      "source": [
        "Standardization of the features"
      ],
      "metadata": {
        "id": "lTI2rMVwnJAd"
      }
    },
    {
      "cell_type": "code",
      "source": [
        "cols=['Age', 'Education_Level', 'Joining Designation',\n",
        "       'Quarterly Rating', 'avg_inc', 'avg_grade', 'avg_business_val']\n",
        "d={}\n",
        "for i in cols:\n",
        "    mean_i=x_train[i].mean()\n",
        "    std_i=x_train[i].std()\n",
        "    x_train[i]=(x_train[i]-mean_i)/std_i\n",
        "    d[i]=[mean_i,std_i]\n",
        "x_train"
      ],
      "metadata": {
        "colab": {
          "base_uri": "https://localhost:8080/",
          "height": 424
        },
        "id": "iAJDmi8gnMjd",
        "outputId": "ab5e18cc-866e-4256-89f7-ef154502c0f2"
      },
      "execution_count": null,
      "outputs": [
        {
          "output_type": "execute_result",
          "data": {
            "text/plain": [
              "            Age  Gender      City  Education_Level  Joining Designation  \\\n",
              "18587  0.197399     1.0  0.688679         1.240928            -0.993330   \n",
              "4231  -1.821419     1.0  0.725806         0.014272            -0.993330   \n",
              "762    3.057392     0.0  0.867925         0.014272             0.188355   \n",
              "7726  -0.475540     0.0  0.634921         1.240928            -0.993330   \n",
              "972    0.702104     0.0  0.728814         0.014272            -0.993330   \n",
              "...         ...     ...       ...              ...                  ...   \n",
              "659   -0.812010     1.0  0.741379         1.240928             1.370039   \n",
              "6474   0.702104     0.0  0.685185        -1.212384             1.370039   \n",
              "17900 -0.475540     0.0  0.513889         1.240928            -0.993330   \n",
              "8776   0.533869     0.0  0.703704         1.240928            -0.993330   \n",
              "5244   0.197399     1.0  0.717391         1.240928            -0.993330   \n",
              "\n",
              "       Quarterly Rating   avg_inc  avg_grade  avg_business_val  \n",
              "18587         -0.537095  0.065654  -1.179972         -0.209497  \n",
              "4231          -0.537095 -0.812298  -1.179972         -0.462201  \n",
              "762           -0.537095  0.492472   0.943977         -0.203872  \n",
              "7726          -0.537095 -0.081739  -1.179972         -0.462201  \n",
              "972            1.797333  0.439435  -0.117997          0.597496  \n",
              "...                 ...       ...        ...               ...  \n",
              "659           -0.537095  0.041339   0.943977         -0.462201  \n",
              "6474          -0.537095  0.827664   0.943977         -0.462201  \n",
              "17900          1.797333  1.372907   2.005952          2.472744  \n",
              "8776           0.630119 -0.701395  -1.179972          0.411071  \n",
              "5244          -0.537095 -1.277320  -1.179972         -0.462201  \n",
              "\n",
              "[1719 rows x 9 columns]"
            ],
            "text/html": [
              "\n",
              "  <div id=\"df-90e0d524-d25a-487f-a7a4-58eb1ed36b85\">\n",
              "    <div class=\"colab-df-container\">\n",
              "      <div>\n",
              "<style scoped>\n",
              "    .dataframe tbody tr th:only-of-type {\n",
              "        vertical-align: middle;\n",
              "    }\n",
              "\n",
              "    .dataframe tbody tr th {\n",
              "        vertical-align: top;\n",
              "    }\n",
              "\n",
              "    .dataframe thead th {\n",
              "        text-align: right;\n",
              "    }\n",
              "</style>\n",
              "<table border=\"1\" class=\"dataframe\">\n",
              "  <thead>\n",
              "    <tr style=\"text-align: right;\">\n",
              "      <th></th>\n",
              "      <th>Age</th>\n",
              "      <th>Gender</th>\n",
              "      <th>City</th>\n",
              "      <th>Education_Level</th>\n",
              "      <th>Joining Designation</th>\n",
              "      <th>Quarterly Rating</th>\n",
              "      <th>avg_inc</th>\n",
              "      <th>avg_grade</th>\n",
              "      <th>avg_business_val</th>\n",
              "    </tr>\n",
              "  </thead>\n",
              "  <tbody>\n",
              "    <tr>\n",
              "      <th>18587</th>\n",
              "      <td>0.197399</td>\n",
              "      <td>1.0</td>\n",
              "      <td>0.688679</td>\n",
              "      <td>1.240928</td>\n",
              "      <td>-0.993330</td>\n",
              "      <td>-0.537095</td>\n",
              "      <td>0.065654</td>\n",
              "      <td>-1.179972</td>\n",
              "      <td>-0.209497</td>\n",
              "    </tr>\n",
              "    <tr>\n",
              "      <th>4231</th>\n",
              "      <td>-1.821419</td>\n",
              "      <td>1.0</td>\n",
              "      <td>0.725806</td>\n",
              "      <td>0.014272</td>\n",
              "      <td>-0.993330</td>\n",
              "      <td>-0.537095</td>\n",
              "      <td>-0.812298</td>\n",
              "      <td>-1.179972</td>\n",
              "      <td>-0.462201</td>\n",
              "    </tr>\n",
              "    <tr>\n",
              "      <th>762</th>\n",
              "      <td>3.057392</td>\n",
              "      <td>0.0</td>\n",
              "      <td>0.867925</td>\n",
              "      <td>0.014272</td>\n",
              "      <td>0.188355</td>\n",
              "      <td>-0.537095</td>\n",
              "      <td>0.492472</td>\n",
              "      <td>0.943977</td>\n",
              "      <td>-0.203872</td>\n",
              "    </tr>\n",
              "    <tr>\n",
              "      <th>7726</th>\n",
              "      <td>-0.475540</td>\n",
              "      <td>0.0</td>\n",
              "      <td>0.634921</td>\n",
              "      <td>1.240928</td>\n",
              "      <td>-0.993330</td>\n",
              "      <td>-0.537095</td>\n",
              "      <td>-0.081739</td>\n",
              "      <td>-1.179972</td>\n",
              "      <td>-0.462201</td>\n",
              "    </tr>\n",
              "    <tr>\n",
              "      <th>972</th>\n",
              "      <td>0.702104</td>\n",
              "      <td>0.0</td>\n",
              "      <td>0.728814</td>\n",
              "      <td>0.014272</td>\n",
              "      <td>-0.993330</td>\n",
              "      <td>1.797333</td>\n",
              "      <td>0.439435</td>\n",
              "      <td>-0.117997</td>\n",
              "      <td>0.597496</td>\n",
              "    </tr>\n",
              "    <tr>\n",
              "      <th>...</th>\n",
              "      <td>...</td>\n",
              "      <td>...</td>\n",
              "      <td>...</td>\n",
              "      <td>...</td>\n",
              "      <td>...</td>\n",
              "      <td>...</td>\n",
              "      <td>...</td>\n",
              "      <td>...</td>\n",
              "      <td>...</td>\n",
              "    </tr>\n",
              "    <tr>\n",
              "      <th>659</th>\n",
              "      <td>-0.812010</td>\n",
              "      <td>1.0</td>\n",
              "      <td>0.741379</td>\n",
              "      <td>1.240928</td>\n",
              "      <td>1.370039</td>\n",
              "      <td>-0.537095</td>\n",
              "      <td>0.041339</td>\n",
              "      <td>0.943977</td>\n",
              "      <td>-0.462201</td>\n",
              "    </tr>\n",
              "    <tr>\n",
              "      <th>6474</th>\n",
              "      <td>0.702104</td>\n",
              "      <td>0.0</td>\n",
              "      <td>0.685185</td>\n",
              "      <td>-1.212384</td>\n",
              "      <td>1.370039</td>\n",
              "      <td>-0.537095</td>\n",
              "      <td>0.827664</td>\n",
              "      <td>0.943977</td>\n",
              "      <td>-0.462201</td>\n",
              "    </tr>\n",
              "    <tr>\n",
              "      <th>17900</th>\n",
              "      <td>-0.475540</td>\n",
              "      <td>0.0</td>\n",
              "      <td>0.513889</td>\n",
              "      <td>1.240928</td>\n",
              "      <td>-0.993330</td>\n",
              "      <td>1.797333</td>\n",
              "      <td>1.372907</td>\n",
              "      <td>2.005952</td>\n",
              "      <td>2.472744</td>\n",
              "    </tr>\n",
              "    <tr>\n",
              "      <th>8776</th>\n",
              "      <td>0.533869</td>\n",
              "      <td>0.0</td>\n",
              "      <td>0.703704</td>\n",
              "      <td>1.240928</td>\n",
              "      <td>-0.993330</td>\n",
              "      <td>0.630119</td>\n",
              "      <td>-0.701395</td>\n",
              "      <td>-1.179972</td>\n",
              "      <td>0.411071</td>\n",
              "    </tr>\n",
              "    <tr>\n",
              "      <th>5244</th>\n",
              "      <td>0.197399</td>\n",
              "      <td>1.0</td>\n",
              "      <td>0.717391</td>\n",
              "      <td>1.240928</td>\n",
              "      <td>-0.993330</td>\n",
              "      <td>-0.537095</td>\n",
              "      <td>-1.277320</td>\n",
              "      <td>-1.179972</td>\n",
              "      <td>-0.462201</td>\n",
              "    </tr>\n",
              "  </tbody>\n",
              "</table>\n",
              "<p>1719 rows × 9 columns</p>\n",
              "</div>\n",
              "      <button class=\"colab-df-convert\" onclick=\"convertToInteractive('df-90e0d524-d25a-487f-a7a4-58eb1ed36b85')\"\n",
              "              title=\"Convert this dataframe to an interactive table.\"\n",
              "              style=\"display:none;\">\n",
              "        \n",
              "  <svg xmlns=\"http://www.w3.org/2000/svg\" height=\"24px\"viewBox=\"0 0 24 24\"\n",
              "       width=\"24px\">\n",
              "    <path d=\"M0 0h24v24H0V0z\" fill=\"none\"/>\n",
              "    <path d=\"M18.56 5.44l.94 2.06.94-2.06 2.06-.94-2.06-.94-.94-2.06-.94 2.06-2.06.94zm-11 1L8.5 8.5l.94-2.06 2.06-.94-2.06-.94L8.5 2.5l-.94 2.06-2.06.94zm10 10l.94 2.06.94-2.06 2.06-.94-2.06-.94-.94-2.06-.94 2.06-2.06.94z\"/><path d=\"M17.41 7.96l-1.37-1.37c-.4-.4-.92-.59-1.43-.59-.52 0-1.04.2-1.43.59L10.3 9.45l-7.72 7.72c-.78.78-.78 2.05 0 2.83L4 21.41c.39.39.9.59 1.41.59.51 0 1.02-.2 1.41-.59l7.78-7.78 2.81-2.81c.8-.78.8-2.07 0-2.86zM5.41 20L4 18.59l7.72-7.72 1.47 1.35L5.41 20z\"/>\n",
              "  </svg>\n",
              "      </button>\n",
              "      \n",
              "  <style>\n",
              "    .colab-df-container {\n",
              "      display:flex;\n",
              "      flex-wrap:wrap;\n",
              "      gap: 12px;\n",
              "    }\n",
              "\n",
              "    .colab-df-convert {\n",
              "      background-color: #E8F0FE;\n",
              "      border: none;\n",
              "      border-radius: 50%;\n",
              "      cursor: pointer;\n",
              "      display: none;\n",
              "      fill: #1967D2;\n",
              "      height: 32px;\n",
              "      padding: 0 0 0 0;\n",
              "      width: 32px;\n",
              "    }\n",
              "\n",
              "    .colab-df-convert:hover {\n",
              "      background-color: #E2EBFA;\n",
              "      box-shadow: 0px 1px 2px rgba(60, 64, 67, 0.3), 0px 1px 3px 1px rgba(60, 64, 67, 0.15);\n",
              "      fill: #174EA6;\n",
              "    }\n",
              "\n",
              "    [theme=dark] .colab-df-convert {\n",
              "      background-color: #3B4455;\n",
              "      fill: #D2E3FC;\n",
              "    }\n",
              "\n",
              "    [theme=dark] .colab-df-convert:hover {\n",
              "      background-color: #434B5C;\n",
              "      box-shadow: 0px 1px 3px 1px rgba(0, 0, 0, 0.15);\n",
              "      filter: drop-shadow(0px 1px 2px rgba(0, 0, 0, 0.3));\n",
              "      fill: #FFFFFF;\n",
              "    }\n",
              "  </style>\n",
              "\n",
              "      <script>\n",
              "        const buttonEl =\n",
              "          document.querySelector('#df-90e0d524-d25a-487f-a7a4-58eb1ed36b85 button.colab-df-convert');\n",
              "        buttonEl.style.display =\n",
              "          google.colab.kernel.accessAllowed ? 'block' : 'none';\n",
              "\n",
              "        async function convertToInteractive(key) {\n",
              "          const element = document.querySelector('#df-90e0d524-d25a-487f-a7a4-58eb1ed36b85');\n",
              "          const dataTable =\n",
              "            await google.colab.kernel.invokeFunction('convertToInteractive',\n",
              "                                                     [key], {});\n",
              "          if (!dataTable) return;\n",
              "\n",
              "          const docLinkHtml = 'Like what you see? Visit the ' +\n",
              "            '<a target=\"_blank\" href=https://colab.research.google.com/notebooks/data_table.ipynb>data table notebook</a>'\n",
              "            + ' to learn more about interactive tables.';\n",
              "          element.innerHTML = '';\n",
              "          dataTable['output_type'] = 'display_data';\n",
              "          await google.colab.output.renderOutput(dataTable, element);\n",
              "          const docLink = document.createElement('div');\n",
              "          docLink.innerHTML = docLinkHtml;\n",
              "          element.appendChild(docLink);\n",
              "        }\n",
              "      </script>\n",
              "    </div>\n",
              "  </div>\n",
              "  "
            ]
          },
          "metadata": {},
          "execution_count": 133
        }
      ]
    },
    {
      "cell_type": "code",
      "source": [
        "for i in cols:\n",
        "  x_val[i]=(x_val[i]-d[i][0])/d[i][1]\n",
        "  x_test[i]=(x_test[i]-d[i][0])/d[i][1]\n",
        "x_test"
      ],
      "metadata": {
        "colab": {
          "base_uri": "https://localhost:8080/",
          "height": 424
        },
        "id": "APo1poAioQSZ",
        "outputId": "4fc8f850-cf09-4c5f-ecd0-29b3f534aaed"
      },
      "execution_count": null,
      "outputs": [
        {
          "output_type": "execute_result",
          "data": {
            "text/plain": [
              "            Age  Gender      City  Education_Level  Joining Designation  \\\n",
              "11171  0.365634     0.0  0.655172         1.240928             0.188355   \n",
              "8558  -1.148479     1.0  0.533333         1.240928            -0.993330   \n",
              "10838 -0.812010     0.0  0.703704         0.014272             0.188355   \n",
              "15832 -0.475540     0.0  0.655172         1.240928            -0.993330   \n",
              "8826   0.197399     0.0  0.533333         1.240928            -0.993330   \n",
              "...         ...     ...       ...              ...                  ...   \n",
              "16312 -0.475540     0.0  0.671233         0.014272            -0.993330   \n",
              "13642 -0.307305     1.0  0.614035        -1.212384             0.188355   \n",
              "6586   0.197399     0.0  0.725806         0.014272             1.370039   \n",
              "1330   1.711513     0.0  0.741379         0.014272             1.370039   \n",
              "7229   1.038574     0.0  0.688679        -1.212384             1.370039   \n",
              "\n",
              "       Quarterly Rating   avg_inc  avg_grade  avg_business_val  \n",
              "11171         -0.537095 -0.007395  -0.117997         -0.462201  \n",
              "8558          -0.537095  0.618418   0.943977          0.355430  \n",
              "10838         -0.537095 -0.094718  -0.117997         -0.462201  \n",
              "15832         -0.537095 -0.999468  -1.179972         -0.462201  \n",
              "8826          -0.537095 -0.695133  -1.179972         -0.462201  \n",
              "...                 ...       ...        ...               ...  \n",
              "16312         -0.537095 -1.470928  -1.179972         -0.462201  \n",
              "13642         -0.537095 -0.591717  -0.117997         -0.462201  \n",
              "6586          -0.537095  0.038645   0.943977         -0.462201  \n",
              "1330           0.630119  0.535574   0.943977          0.089254  \n",
              "7229          -0.537095  0.880947   0.943977         -0.379119  \n",
              "\n",
              "[358 rows x 9 columns]"
            ],
            "text/html": [
              "\n",
              "  <div id=\"df-804fb1fe-74a2-4656-8bb7-7a892754ad36\">\n",
              "    <div class=\"colab-df-container\">\n",
              "      <div>\n",
              "<style scoped>\n",
              "    .dataframe tbody tr th:only-of-type {\n",
              "        vertical-align: middle;\n",
              "    }\n",
              "\n",
              "    .dataframe tbody tr th {\n",
              "        vertical-align: top;\n",
              "    }\n",
              "\n",
              "    .dataframe thead th {\n",
              "        text-align: right;\n",
              "    }\n",
              "</style>\n",
              "<table border=\"1\" class=\"dataframe\">\n",
              "  <thead>\n",
              "    <tr style=\"text-align: right;\">\n",
              "      <th></th>\n",
              "      <th>Age</th>\n",
              "      <th>Gender</th>\n",
              "      <th>City</th>\n",
              "      <th>Education_Level</th>\n",
              "      <th>Joining Designation</th>\n",
              "      <th>Quarterly Rating</th>\n",
              "      <th>avg_inc</th>\n",
              "      <th>avg_grade</th>\n",
              "      <th>avg_business_val</th>\n",
              "    </tr>\n",
              "  </thead>\n",
              "  <tbody>\n",
              "    <tr>\n",
              "      <th>11171</th>\n",
              "      <td>0.365634</td>\n",
              "      <td>0.0</td>\n",
              "      <td>0.655172</td>\n",
              "      <td>1.240928</td>\n",
              "      <td>0.188355</td>\n",
              "      <td>-0.537095</td>\n",
              "      <td>-0.007395</td>\n",
              "      <td>-0.117997</td>\n",
              "      <td>-0.462201</td>\n",
              "    </tr>\n",
              "    <tr>\n",
              "      <th>8558</th>\n",
              "      <td>-1.148479</td>\n",
              "      <td>1.0</td>\n",
              "      <td>0.533333</td>\n",
              "      <td>1.240928</td>\n",
              "      <td>-0.993330</td>\n",
              "      <td>-0.537095</td>\n",
              "      <td>0.618418</td>\n",
              "      <td>0.943977</td>\n",
              "      <td>0.355430</td>\n",
              "    </tr>\n",
              "    <tr>\n",
              "      <th>10838</th>\n",
              "      <td>-0.812010</td>\n",
              "      <td>0.0</td>\n",
              "      <td>0.703704</td>\n",
              "      <td>0.014272</td>\n",
              "      <td>0.188355</td>\n",
              "      <td>-0.537095</td>\n",
              "      <td>-0.094718</td>\n",
              "      <td>-0.117997</td>\n",
              "      <td>-0.462201</td>\n",
              "    </tr>\n",
              "    <tr>\n",
              "      <th>15832</th>\n",
              "      <td>-0.475540</td>\n",
              "      <td>0.0</td>\n",
              "      <td>0.655172</td>\n",
              "      <td>1.240928</td>\n",
              "      <td>-0.993330</td>\n",
              "      <td>-0.537095</td>\n",
              "      <td>-0.999468</td>\n",
              "      <td>-1.179972</td>\n",
              "      <td>-0.462201</td>\n",
              "    </tr>\n",
              "    <tr>\n",
              "      <th>8826</th>\n",
              "      <td>0.197399</td>\n",
              "      <td>0.0</td>\n",
              "      <td>0.533333</td>\n",
              "      <td>1.240928</td>\n",
              "      <td>-0.993330</td>\n",
              "      <td>-0.537095</td>\n",
              "      <td>-0.695133</td>\n",
              "      <td>-1.179972</td>\n",
              "      <td>-0.462201</td>\n",
              "    </tr>\n",
              "    <tr>\n",
              "      <th>...</th>\n",
              "      <td>...</td>\n",
              "      <td>...</td>\n",
              "      <td>...</td>\n",
              "      <td>...</td>\n",
              "      <td>...</td>\n",
              "      <td>...</td>\n",
              "      <td>...</td>\n",
              "      <td>...</td>\n",
              "      <td>...</td>\n",
              "    </tr>\n",
              "    <tr>\n",
              "      <th>16312</th>\n",
              "      <td>-0.475540</td>\n",
              "      <td>0.0</td>\n",
              "      <td>0.671233</td>\n",
              "      <td>0.014272</td>\n",
              "      <td>-0.993330</td>\n",
              "      <td>-0.537095</td>\n",
              "      <td>-1.470928</td>\n",
              "      <td>-1.179972</td>\n",
              "      <td>-0.462201</td>\n",
              "    </tr>\n",
              "    <tr>\n",
              "      <th>13642</th>\n",
              "      <td>-0.307305</td>\n",
              "      <td>1.0</td>\n",
              "      <td>0.614035</td>\n",
              "      <td>-1.212384</td>\n",
              "      <td>0.188355</td>\n",
              "      <td>-0.537095</td>\n",
              "      <td>-0.591717</td>\n",
              "      <td>-0.117997</td>\n",
              "      <td>-0.462201</td>\n",
              "    </tr>\n",
              "    <tr>\n",
              "      <th>6586</th>\n",
              "      <td>0.197399</td>\n",
              "      <td>0.0</td>\n",
              "      <td>0.725806</td>\n",
              "      <td>0.014272</td>\n",
              "      <td>1.370039</td>\n",
              "      <td>-0.537095</td>\n",
              "      <td>0.038645</td>\n",
              "      <td>0.943977</td>\n",
              "      <td>-0.462201</td>\n",
              "    </tr>\n",
              "    <tr>\n",
              "      <th>1330</th>\n",
              "      <td>1.711513</td>\n",
              "      <td>0.0</td>\n",
              "      <td>0.741379</td>\n",
              "      <td>0.014272</td>\n",
              "      <td>1.370039</td>\n",
              "      <td>0.630119</td>\n",
              "      <td>0.535574</td>\n",
              "      <td>0.943977</td>\n",
              "      <td>0.089254</td>\n",
              "    </tr>\n",
              "    <tr>\n",
              "      <th>7229</th>\n",
              "      <td>1.038574</td>\n",
              "      <td>0.0</td>\n",
              "      <td>0.688679</td>\n",
              "      <td>-1.212384</td>\n",
              "      <td>1.370039</td>\n",
              "      <td>-0.537095</td>\n",
              "      <td>0.880947</td>\n",
              "      <td>0.943977</td>\n",
              "      <td>-0.379119</td>\n",
              "    </tr>\n",
              "  </tbody>\n",
              "</table>\n",
              "<p>358 rows × 9 columns</p>\n",
              "</div>\n",
              "      <button class=\"colab-df-convert\" onclick=\"convertToInteractive('df-804fb1fe-74a2-4656-8bb7-7a892754ad36')\"\n",
              "              title=\"Convert this dataframe to an interactive table.\"\n",
              "              style=\"display:none;\">\n",
              "        \n",
              "  <svg xmlns=\"http://www.w3.org/2000/svg\" height=\"24px\"viewBox=\"0 0 24 24\"\n",
              "       width=\"24px\">\n",
              "    <path d=\"M0 0h24v24H0V0z\" fill=\"none\"/>\n",
              "    <path d=\"M18.56 5.44l.94 2.06.94-2.06 2.06-.94-2.06-.94-.94-2.06-.94 2.06-2.06.94zm-11 1L8.5 8.5l.94-2.06 2.06-.94-2.06-.94L8.5 2.5l-.94 2.06-2.06.94zm10 10l.94 2.06.94-2.06 2.06-.94-2.06-.94-.94-2.06-.94 2.06-2.06.94z\"/><path d=\"M17.41 7.96l-1.37-1.37c-.4-.4-.92-.59-1.43-.59-.52 0-1.04.2-1.43.59L10.3 9.45l-7.72 7.72c-.78.78-.78 2.05 0 2.83L4 21.41c.39.39.9.59 1.41.59.51 0 1.02-.2 1.41-.59l7.78-7.78 2.81-2.81c.8-.78.8-2.07 0-2.86zM5.41 20L4 18.59l7.72-7.72 1.47 1.35L5.41 20z\"/>\n",
              "  </svg>\n",
              "      </button>\n",
              "      \n",
              "  <style>\n",
              "    .colab-df-container {\n",
              "      display:flex;\n",
              "      flex-wrap:wrap;\n",
              "      gap: 12px;\n",
              "    }\n",
              "\n",
              "    .colab-df-convert {\n",
              "      background-color: #E8F0FE;\n",
              "      border: none;\n",
              "      border-radius: 50%;\n",
              "      cursor: pointer;\n",
              "      display: none;\n",
              "      fill: #1967D2;\n",
              "      height: 32px;\n",
              "      padding: 0 0 0 0;\n",
              "      width: 32px;\n",
              "    }\n",
              "\n",
              "    .colab-df-convert:hover {\n",
              "      background-color: #E2EBFA;\n",
              "      box-shadow: 0px 1px 2px rgba(60, 64, 67, 0.3), 0px 1px 3px 1px rgba(60, 64, 67, 0.15);\n",
              "      fill: #174EA6;\n",
              "    }\n",
              "\n",
              "    [theme=dark] .colab-df-convert {\n",
              "      background-color: #3B4455;\n",
              "      fill: #D2E3FC;\n",
              "    }\n",
              "\n",
              "    [theme=dark] .colab-df-convert:hover {\n",
              "      background-color: #434B5C;\n",
              "      box-shadow: 0px 1px 3px 1px rgba(0, 0, 0, 0.15);\n",
              "      filter: drop-shadow(0px 1px 2px rgba(0, 0, 0, 0.3));\n",
              "      fill: #FFFFFF;\n",
              "    }\n",
              "  </style>\n",
              "\n",
              "      <script>\n",
              "        const buttonEl =\n",
              "          document.querySelector('#df-804fb1fe-74a2-4656-8bb7-7a892754ad36 button.colab-df-convert');\n",
              "        buttonEl.style.display =\n",
              "          google.colab.kernel.accessAllowed ? 'block' : 'none';\n",
              "\n",
              "        async function convertToInteractive(key) {\n",
              "          const element = document.querySelector('#df-804fb1fe-74a2-4656-8bb7-7a892754ad36');\n",
              "          const dataTable =\n",
              "            await google.colab.kernel.invokeFunction('convertToInteractive',\n",
              "                                                     [key], {});\n",
              "          if (!dataTable) return;\n",
              "\n",
              "          const docLinkHtml = 'Like what you see? Visit the ' +\n",
              "            '<a target=\"_blank\" href=https://colab.research.google.com/notebooks/data_table.ipynb>data table notebook</a>'\n",
              "            + ' to learn more about interactive tables.';\n",
              "          element.innerHTML = '';\n",
              "          dataTable['output_type'] = 'display_data';\n",
              "          await google.colab.output.renderOutput(dataTable, element);\n",
              "          const docLink = document.createElement('div');\n",
              "          docLink.innerHTML = docLinkHtml;\n",
              "          element.appendChild(docLink);\n",
              "        }\n",
              "      </script>\n",
              "    </div>\n",
              "  </div>\n",
              "  "
            ]
          },
          "metadata": {},
          "execution_count": 134
        }
      ]
    },
    {
      "cell_type": "code",
      "source": [
        "from sklearn.linear_model import LogisticRegression"
      ],
      "metadata": {
        "id": "pTLgwP1IoRTX"
      },
      "execution_count": null,
      "outputs": []
    },
    {
      "cell_type": "code",
      "source": [
        "y_train.value_counts(normalize=True)"
      ],
      "metadata": {
        "colab": {
          "base_uri": "https://localhost:8080/"
        },
        "id": "uhF9xzCvoZXf",
        "outputId": "b695d137-df85-497c-d8b3-7be9db2be78b"
      },
      "execution_count": null,
      "outputs": [
        {
          "output_type": "execute_result",
          "data": {
            "text/plain": [
              "1    0.669575\n",
              "0    0.330425\n",
              "Name: target_var, dtype: float64"
            ]
          },
          "metadata": {},
          "execution_count": 136
        }
      ]
    },
    {
      "cell_type": "code",
      "source": [
        "from sklearn import metrics"
      ],
      "metadata": {
        "id": "USTCJPNpoic1"
      },
      "execution_count": null,
      "outputs": []
    },
    {
      "cell_type": "markdown",
      "source": [
        "Making a LogisticRegression Model"
      ],
      "metadata": {
        "id": "KbbWwkKiokV-"
      }
    },
    {
      "cell_type": "code",
      "source": [
        "train_cost=[]\n",
        "val_cost=[]\n",
        "lambdaa=[]\n",
        "l=0.01\n",
        "while l<=100:\n",
        "  lambdaa.append(l)\n",
        "  model=LogisticRegression(C=1/l,class_weight={0:0.1,1:0.1},max_iter=100)\n",
        "  model.fit(x_train,y_train)\n",
        "  y_train_probs=model.predict_proba(x_train)\n",
        "  y_val_probs=model.predict_proba(x_val)\n",
        "  train_loss=metrics.log_loss(y_train,y_train_probs)\n",
        "  val_loss=metrics.log_loss(y_val,y_val_probs)\n",
        "  train_cost.append(train_loss)\n",
        "  val_cost.append(val_loss)\n",
        "  l*=2\n",
        "plt.plot(lambdaa,train_cost,label='train')\n",
        "plt.plot(lambdaa,val_cost,label='val')\n",
        "plt.legend()\n",
        "plt.show()\n"
      ],
      "metadata": {
        "colab": {
          "base_uri": "https://localhost:8080/",
          "height": 265
        },
        "id": "BLjHezV9opUZ",
        "outputId": "1c1a3f03-0566-4bef-f026-3f60618034a9"
      },
      "execution_count": null,
      "outputs": [
        {
          "output_type": "display_data",
          "data": {
            "text/plain": [
              "<Figure size 432x288 with 1 Axes>"
            ],
            "image/png": "[encoded data removed]"
          },
          "metadata": {
            "needs_background": "light"
          }
        }
      ]
    },
    {
      "cell_type": "code",
      "source": [
        "z=np.argmin(val_cost)\n",
        "lbest=0.01*(2**z)\n",
        "lbest"
      ],
      "metadata": {
        "colab": {
          "base_uri": "https://localhost:8080/"
        },
        "id": "TaNpI9zBpf1s",
        "outputId": "1a6ccef9-7766-49de-fe96-163d6f47f909"
      },
      "execution_count": null,
      "outputs": [
        {
          "output_type": "execute_result",
          "data": {
            "text/plain": [
              "1.28"
            ]
          },
          "metadata": {},
          "execution_count": 139
        }
      ]
    },
    {
      "cell_type": "code",
      "source": [
        "model=LogisticRegression(C=1/lbest,class_weight={0:0.1,1:0.1},max_iter=100)\n",
        "model.fit(x_train,y_train)\n",
        "print(model.score(x_train,y_train))\n",
        "print(model.score(x_val,y_val))\n",
        "print(model.score(x_test,y_test))\n"
      ],
      "metadata": {
        "colab": {
          "base_uri": "https://localhost:8080/"
        },
        "id": "k9tk3SjQpAQc",
        "outputId": "a5a5cf73-9e32-4a9c-ee8d-ea0012dc3393"
      },
      "execution_count": null,
      "outputs": [
        {
          "output_type": "stream",
          "name": "stdout",
          "text": [
            "0.8091913903432228\n",
            "0.7861842105263158\n",
            "0.7877094972067039\n"
          ]
        }
      ]
    },
    {
      "cell_type": "code",
      "source": [
        "from sklearn.metrics import confusion_matrix, precision_score, recall_score\n",
        "ypred=model.predict(x_test)\n",
        "confusion_matrix(y_test,ypred)"
      ],
      "metadata": {
        "colab": {
          "base_uri": "https://localhost:8080/"
        },
        "id": "A-WuW7xppozl",
        "outputId": "3265c354-cb15-4155-8fd4-1dfae497f52a"
      },
      "execution_count": null,
      "outputs": [
        {
          "output_type": "execute_result",
          "data": {
            "text/plain": [
              "array([[ 51,  58],\n",
              "       [ 18, 231]])"
            ]
          },
          "metadata": {},
          "execution_count": 141
        }
      ]
    },
    {
      "cell_type": "code",
      "source": [
        "print(precision_score(y_test,ypred))\n",
        "print(recall_score(y_test,ypred))"
      ],
      "metadata": {
        "colab": {
          "base_uri": "https://localhost:8080/"
        },
        "id": "X7ukivQ4p4uS",
        "outputId": "24c39433-a4a1-4514-ccac-3f88fe52f074"
      },
      "execution_count": null,
      "outputs": [
        {
          "output_type": "stream",
          "name": "stdout",
          "text": [
            "0.7993079584775087\n",
            "0.927710843373494\n"
          ]
        }
      ]
    },
    {
      "cell_type": "code",
      "source": [
        "y_pred = model.predict_proba(x_test)"
      ],
      "metadata": {
        "id": "hJuP_az42Hnj"
      },
      "execution_count": null,
      "outputs": []
    },
    {
      "cell_type": "code",
      "source": [
        "from sklearn.metrics import roc_curve\n",
        "from sklearn.metrics import auc\n",
        "fpr, tpr, thresholds = roc_curve(y_test, y_pred[:,1], pos_label=1)\n",
        "roc_auc = auc(fpr, tpr)\n",
        "roc_auc"
      ],
      "metadata": {
        "colab": {
          "base_uri": "https://localhost:8080/"
        },
        "id": "plTj1nF_08WE",
        "outputId": "96eb21bf-67ad-4246-d4e9-8c0235c57228"
      },
      "execution_count": null,
      "outputs": [
        {
          "output_type": "execute_result",
          "data": {
            "text/plain": [
              "0.774179285951144"
            ]
          },
          "metadata": {},
          "execution_count": 145
        }
      ]
    },
    {
      "cell_type": "markdown",
      "source": [
        "DecisionTreeClassifier"
      ],
      "metadata": {
        "id": "aErst7AYqIjy"
      }
    },
    {
      "cell_type": "code",
      "source": [
        "from sklearn.tree import DecisionTreeClassifier"
      ],
      "metadata": {
        "id": "Vf767TVHqL3h"
      },
      "execution_count": null,
      "outputs": []
    },
    {
      "cell_type": "code",
      "source": [
        "x_trainn,x_test,y_trainn,y_test=train_test_split(xs,y,test_size=0.15,random_state=42)\n",
        "x_train,x_val,y_train,y_val=train_test_split(x_trainn,y_trainn,test_size=0.15,random_state=42)"
      ],
      "metadata": {
        "id": "hKzHrn6IpzS-"
      },
      "execution_count": null,
      "outputs": []
    },
    {
      "cell_type": "code",
      "source": [
        "print(x_train.shape,x_val.shape,x_test.shape,y_train.shape,\n",
        "     y_val.shape,y_test.shape)"
      ],
      "metadata": {
        "colab": {
          "base_uri": "https://localhost:8080/"
        },
        "id": "Clo7MS5mqUt8",
        "outputId": "fd92f454-9ade-42fb-b50b-1663ec679f95"
      },
      "execution_count": null,
      "outputs": [
        {
          "output_type": "stream",
          "name": "stdout",
          "text": [
            "(1719, 9) (304, 9) (358, 9) (1719,) (304,) (358,)\n"
          ]
        }
      ]
    },
    {
      "cell_type": "code",
      "source": [
        "ce_target=ce.TargetEncoder(cols=['City'])\n",
        "x_train=ce_target.fit_transform(x_train,y_train)\n",
        "x_val=ce_target.transform(x_val)\n",
        "x_test=ce_target.transform(x_test)"
      ],
      "metadata": {
        "colab": {
          "base_uri": "https://localhost:8080/"
        },
        "id": "_s_SoVORqkAj",
        "outputId": "6cdcf81d-1f60-4171-e37f-e7605009eaf2"
      },
      "execution_count": null,
      "outputs": [
        {
          "output_type": "stream",
          "name": "stderr",
          "text": [
            "/usr/local/lib/python3.7/dist-packages/category_encoders/target_encoder.py:94: FutureWarning: Default parameter min_samples_leaf will change in version 2.6.See https://github.com/scikit-learn-contrib/category_encoders/issues/327\n",
            "  category=FutureWarning)\n",
            "/usr/local/lib/python3.7/dist-packages/category_encoders/target_encoder.py:99: FutureWarning: Default parameter smoothing will change in version 2.6.See https://github.com/scikit-learn-contrib/category_encoders/issues/327\n",
            "  category=FutureWarning)\n"
          ]
        }
      ]
    },
    {
      "cell_type": "code",
      "source": [
        "x_train"
      ],
      "metadata": {
        "colab": {
          "base_uri": "https://localhost:8080/",
          "height": 424
        },
        "id": "prB-j8riqxPW",
        "outputId": "8753ac23-a332-4c3b-8661-c7151dc5ab75"
      },
      "execution_count": null,
      "outputs": [
        {
          "output_type": "execute_result",
          "data": {
            "text/plain": [
              "        Age  Gender      City  Education_Level  Joining Designation  \\\n",
              "18587  35.0     1.0  0.688679                2                    1   \n",
              "4231   23.0     1.0  0.725806                1                    1   \n",
              "762    52.0     0.0  0.867925                1                    2   \n",
              "7726   31.0     0.0  0.634921                2                    1   \n",
              "972    38.0     0.0  0.728814                1                    1   \n",
              "...     ...     ...       ...              ...                  ...   \n",
              "659    29.0     1.0  0.741379                2                    3   \n",
              "6474   38.0     0.0  0.685185                0                    3   \n",
              "17900  31.0     0.0  0.513889                2                    1   \n",
              "8776   37.0     0.0  0.703704                2                    1   \n",
              "5244   35.0     1.0  0.717391                2                    1   \n",
              "\n",
              "       Quarterly Rating  avg_inc  avg_grade  avg_business_val  \n",
              "18587                 1  61569.0        1.0      1.527500e+05  \n",
              "4231                  1  36474.0        1.0      0.000000e+00  \n",
              "762                   1  73769.0        3.0      1.561500e+05  \n",
              "7726                  1  57356.0        1.0      0.000000e+00  \n",
              "972                   3  72253.0        2.0      6.405467e+05  \n",
              "...                 ...      ...        ...               ...  \n",
              "659                   1  60874.0        3.0      0.000000e+00  \n",
              "6474                  1  83350.0        3.0      0.000000e+00  \n",
              "17900                 3  98935.0        4.0      1.774063e+06  \n",
              "8776                  2  39644.0        1.0      5.278600e+05  \n",
              "5244                  1  23182.0        1.0      0.000000e+00  \n",
              "\n",
              "[1719 rows x 9 columns]"
            ],
            "text/html": [
              "\n",
              "  <div id=\"df-b046d715-495c-44f7-b67a-434347e139c9\">\n",
              "    <div class=\"colab-df-container\">\n",
              "      <div>\n",
              "<style scoped>\n",
              "    .dataframe tbody tr th:only-of-type {\n",
              "        vertical-align: middle;\n",
              "    }\n",
              "\n",
              "    .dataframe tbody tr th {\n",
              "        vertical-align: top;\n",
              "    }\n",
              "\n",
              "    .dataframe thead th {\n",
              "        text-align: right;\n",
              "    }\n",
              "</style>\n",
              "<table border=\"1\" class=\"dataframe\">\n",
              "  <thead>\n",
              "    <tr style=\"text-align: right;\">\n",
              "      <th></th>\n",
              "      <th>Age</th>\n",
              "      <th>Gender</th>\n",
              "      <th>City</th>\n",
              "      <th>Education_Level</th>\n",
              "      <th>Joining Designation</th>\n",
              "      <th>Quarterly Rating</th>\n",
              "      <th>avg_inc</th>\n",
              "      <th>avg_grade</th>\n",
              "      <th>avg_business_val</th>\n",
              "    </tr>\n",
              "  </thead>\n",
              "  <tbody>\n",
              "    <tr>\n",
              "      <th>18587</th>\n",
              "      <td>35.0</td>\n",
              "      <td>1.0</td>\n",
              "      <td>0.688679</td>\n",
              "      <td>2</td>\n",
              "      <td>1</td>\n",
              "      <td>1</td>\n",
              "      <td>61569.0</td>\n",
              "      <td>1.0</td>\n",
              "      <td>1.527500e+05</td>\n",
              "    </tr>\n",
              "    <tr>\n",
              "      <th>4231</th>\n",
              "      <td>23.0</td>\n",
              "      <td>1.0</td>\n",
              "      <td>0.725806</td>\n",
              "      <td>1</td>\n",
              "      <td>1</td>\n",
              "      <td>1</td>\n",
              "      <td>36474.0</td>\n",
              "      <td>1.0</td>\n",
              "      <td>0.000000e+00</td>\n",
              "    </tr>\n",
              "    <tr>\n",
              "      <th>762</th>\n",
              "      <td>52.0</td>\n",
              "      <td>0.0</td>\n",
              "      <td>0.867925</td>\n",
              "      <td>1</td>\n",
              "      <td>2</td>\n",
              "      <td>1</td>\n",
              "      <td>73769.0</td>\n",
              "      <td>3.0</td>\n",
              "      <td>1.561500e+05</td>\n",
              "    </tr>\n",
              "    <tr>\n",
              "      <th>7726</th>\n",
              "      <td>31.0</td>\n",
              "      <td>0.0</td>\n",
              "      <td>0.634921</td>\n",
              "      <td>2</td>\n",
              "      <td>1</td>\n",
              "      <td>1</td>\n",
              "      <td>57356.0</td>\n",
              "      <td>1.0</td>\n",
              "      <td>0.000000e+00</td>\n",
              "    </tr>\n",
              "    <tr>\n",
              "      <th>972</th>\n",
              "      <td>38.0</td>\n",
              "      <td>0.0</td>\n",
              "      <td>0.728814</td>\n",
              "      <td>1</td>\n",
              "      <td>1</td>\n",
              "      <td>3</td>\n",
              "      <td>72253.0</td>\n",
              "      <td>2.0</td>\n",
              "      <td>6.405467e+05</td>\n",
              "    </tr>\n",
              "    <tr>\n",
              "      <th>...</th>\n",
              "      <td>...</td>\n",
              "      <td>...</td>\n",
              "      <td>...</td>\n",
              "      <td>...</td>\n",
              "      <td>...</td>\n",
              "      <td>...</td>\n",
              "      <td>...</td>\n",
              "      <td>...</td>\n",
              "      <td>...</td>\n",
              "    </tr>\n",
              "    <tr>\n",
              "      <th>659</th>\n",
              "      <td>29.0</td>\n",
              "      <td>1.0</td>\n",
              "      <td>0.741379</td>\n",
              "      <td>2</td>\n",
              "      <td>3</td>\n",
              "      <td>1</td>\n",
              "      <td>60874.0</td>\n",
              "      <td>3.0</td>\n",
              "      <td>0.000000e+00</td>\n",
              "    </tr>\n",
              "    <tr>\n",
              "      <th>6474</th>\n",
              "      <td>38.0</td>\n",
              "      <td>0.0</td>\n",
              "      <td>0.685185</td>\n",
              "      <td>0</td>\n",
              "      <td>3</td>\n",
              "      <td>1</td>\n",
              "      <td>83350.0</td>\n",
              "      <td>3.0</td>\n",
              "      <td>0.000000e+00</td>\n",
              "    </tr>\n",
              "    <tr>\n",
              "      <th>17900</th>\n",
              "      <td>31.0</td>\n",
              "      <td>0.0</td>\n",
              "      <td>0.513889</td>\n",
              "      <td>2</td>\n",
              "      <td>1</td>\n",
              "      <td>3</td>\n",
              "      <td>98935.0</td>\n",
              "      <td>4.0</td>\n",
              "      <td>1.774063e+06</td>\n",
              "    </tr>\n",
              "    <tr>\n",
              "      <th>8776</th>\n",
              "      <td>37.0</td>\n",
              "      <td>0.0</td>\n",
              "      <td>0.703704</td>\n",
              "      <td>2</td>\n",
              "      <td>1</td>\n",
              "      <td>2</td>\n",
              "      <td>39644.0</td>\n",
              "      <td>1.0</td>\n",
              "      <td>5.278600e+05</td>\n",
              "    </tr>\n",
              "    <tr>\n",
              "      <th>5244</th>\n",
              "      <td>35.0</td>\n",
              "      <td>1.0</td>\n",
              "      <td>0.717391</td>\n",
              "      <td>2</td>\n",
              "      <td>1</td>\n",
              "      <td>1</td>\n",
              "      <td>23182.0</td>\n",
              "      <td>1.0</td>\n",
              "      <td>0.000000e+00</td>\n",
              "    </tr>\n",
              "  </tbody>\n",
              "</table>\n",
              "<p>1719 rows × 9 columns</p>\n",
              "</div>\n",
              "      <button class=\"colab-df-convert\" onclick=\"convertToInteractive('df-b046d715-495c-44f7-b67a-434347e139c9')\"\n",
              "              title=\"Convert this dataframe to an interactive table.\"\n",
              "              style=\"display:none;\">\n",
              "        \n",
              "  <svg xmlns=\"http://www.w3.org/2000/svg\" height=\"24px\"viewBox=\"0 0 24 24\"\n",
              "       width=\"24px\">\n",
              "    <path d=\"M0 0h24v24H0V0z\" fill=\"none\"/>\n",
              "    <path d=\"M18.56 5.44l.94 2.06.94-2.06 2.06-.94-2.06-.94-.94-2.06-.94 2.06-2.06.94zm-11 1L8.5 8.5l.94-2.06 2.06-.94-2.06-.94L8.5 2.5l-.94 2.06-2.06.94zm10 10l.94 2.06.94-2.06 2.06-.94-2.06-.94-.94-2.06-.94 2.06-2.06.94z\"/><path d=\"M17.41 7.96l-1.37-1.37c-.4-.4-.92-.59-1.43-.59-.52 0-1.04.2-1.43.59L10.3 9.45l-7.72 7.72c-.78.78-.78 2.05 0 2.83L4 21.41c.39.39.9.59 1.41.59.51 0 1.02-.2 1.41-.59l7.78-7.78 2.81-2.81c.8-.78.8-2.07 0-2.86zM5.41 20L4 18.59l7.72-7.72 1.47 1.35L5.41 20z\"/>\n",
              "  </svg>\n",
              "      </button>\n",
              "      \n",
              "  <style>\n",
              "    .colab-df-container {\n",
              "      display:flex;\n",
              "      flex-wrap:wrap;\n",
              "      gap: 12px;\n",
              "    }\n",
              "\n",
              "    .colab-df-convert {\n",
              "      background-color: #E8F0FE;\n",
              "      border: none;\n",
              "      border-radius: 50%;\n",
              "      cursor: pointer;\n",
              "      display: none;\n",
              "      fill: #1967D2;\n",
              "      height: 32px;\n",
              "      padding: 0 0 0 0;\n",
              "      width: 32px;\n",
              "    }\n",
              "\n",
              "    .colab-df-convert:hover {\n",
              "      background-color: #E2EBFA;\n",
              "      box-shadow: 0px 1px 2px rgba(60, 64, 67, 0.3), 0px 1px 3px 1px rgba(60, 64, 67, 0.15);\n",
              "      fill: #174EA6;\n",
              "    }\n",
              "\n",
              "    [theme=dark] .colab-df-convert {\n",
              "      background-color: #3B4455;\n",
              "      fill: #D2E3FC;\n",
              "    }\n",
              "\n",
              "    [theme=dark] .colab-df-convert:hover {\n",
              "      background-color: #434B5C;\n",
              "      box-shadow: 0px 1px 3px 1px rgba(0, 0, 0, 0.15);\n",
              "      filter: drop-shadow(0px 1px 2px rgba(0, 0, 0, 0.3));\n",
              "      fill: #FFFFFF;\n",
              "    }\n",
              "  </style>\n",
              "\n",
              "      <script>\n",
              "        const buttonEl =\n",
              "          document.querySelector('#df-b046d715-495c-44f7-b67a-434347e139c9 button.colab-df-convert');\n",
              "        buttonEl.style.display =\n",
              "          google.colab.kernel.accessAllowed ? 'block' : 'none';\n",
              "\n",
              "        async function convertToInteractive(key) {\n",
              "          const element = document.querySelector('#df-b046d715-495c-44f7-b67a-434347e139c9');\n",
              "          const dataTable =\n",
              "            await google.colab.kernel.invokeFunction('convertToInteractive',\n",
              "                                                     [key], {});\n",
              "          if (!dataTable) return;\n",
              "\n",
              "          const docLinkHtml = 'Like what you see? Visit the ' +\n",
              "            '<a target=\"_blank\" href=https://colab.research.google.com/notebooks/data_table.ipynb>data table notebook</a>'\n",
              "            + ' to learn more about interactive tables.';\n",
              "          element.innerHTML = '';\n",
              "          dataTable['output_type'] = 'display_data';\n",
              "          await google.colab.output.renderOutput(dataTable, element);\n",
              "          const docLink = document.createElement('div');\n",
              "          docLink.innerHTML = docLinkHtml;\n",
              "          element.appendChild(docLink);\n",
              "        }\n",
              "      </script>\n",
              "    </div>\n",
              "  </div>\n",
              "  "
            ]
          },
          "metadata": {},
          "execution_count": 150
        }
      ]
    },
    {
      "cell_type": "code",
      "source": [
        "\n",
        "train_cost=[]\n",
        "val_cost=[]\n",
        "depth=1\n",
        "maxdepth=[]\n",
        "while depth<=15:\n",
        "    model=DecisionTreeClassifier(random_state=0,max_depth=depth,class_weight={0:0.1,1:0.2})\n",
        "    model.fit(x_train,y_train)\n",
        "    y_train_probs=model.predict_proba(x_train)\n",
        "    y_val_probs=model.predict_proba(x_val)\n",
        "    train_loss=metrics.log_loss(y_train,y_train_probs)\n",
        "    val_loss=metrics.log_loss(y_val,y_val_probs)\n",
        "    train_cost.append(train_loss)\n",
        "    val_cost.append(val_loss)\n",
        "    maxdepth.append(depth)\n",
        "    depth+=1\n",
        "plt.plot(maxdepth,train_cost,label='train_data')\n",
        "plt.plot(maxdepth,val_cost,label='val_data')\n",
        "plt.xlabel('Max_Depth')\n",
        "plt.ylabel('Loss Function')\n",
        "plt.title('Loss Function Vs Max_Depth')\n",
        "plt.legend()\n",
        "plt.show()"
      ],
      "metadata": {
        "colab": {
          "base_uri": "https://localhost:8080/",
          "height": 296
        },
        "id": "tfo5uWd1rDQx",
        "outputId": "0b55be63-9331-462d-ad2f-0152b8c971eb"
      },
      "execution_count": null,
      "outputs": [
        {
          "output_type": "display_data",
          "data": {
            "text/plain": [
              "<Figure size 432x288 with 1 Axes>"
            ],
            "image/png": "[encoded data removed]"
          },
          "metadata": {
            "needs_background": "light"
          }
        }
      ]
    },
    {
      "cell_type": "code",
      "source": [
        "model=DecisionTreeClassifier(max_depth=2,class_weight={0:0.1,1:0.2})\n",
        "model.fit(x_train,y_train)\n",
        "print(model.score(x_train,y_train))\n",
        "print(model.score(x_val,y_val))\n",
        "print(model.score(x_test,y_test))"
      ],
      "metadata": {
        "colab": {
          "base_uri": "https://localhost:8080/"
        },
        "id": "EbuVmrE5sVbI",
        "outputId": "1451e252-a748-435f-835e-a772fb28a320"
      },
      "execution_count": null,
      "outputs": [
        {
          "output_type": "stream",
          "name": "stdout",
          "text": [
            "0.8033740546829552\n",
            "0.7664473684210527\n",
            "0.7821229050279329\n"
          ]
        }
      ]
    },
    {
      "cell_type": "code",
      "source": [
        "from sklearn.metrics import confusion_matrix, precision_score, recall_score\n",
        "ypred=model.predict(x_test)\n",
        "confusion_matrix(y_test,ypred)"
      ],
      "metadata": {
        "colab": {
          "base_uri": "https://localhost:8080/"
        },
        "id": "0znZ5OD_tBG4",
        "outputId": "33950500-a7e0-47c9-e6b4-be0f773377f7"
      },
      "execution_count": null,
      "outputs": [
        {
          "output_type": "execute_result",
          "data": {
            "text/plain": [
              "array([[ 47,  62],\n",
              "       [ 16, 233]])"
            ]
          },
          "metadata": {},
          "execution_count": 154
        }
      ]
    },
    {
      "cell_type": "code",
      "source": [
        "print(precision_score(y_test,ypred))\n",
        "print(recall_score(y_test,ypred))"
      ],
      "metadata": {
        "colab": {
          "base_uri": "https://localhost:8080/"
        },
        "id": "p22rT1G6tG3G",
        "outputId": "5d54a695-1b17-4cc5-e958-82d0c89fcc6f"
      },
      "execution_count": null,
      "outputs": [
        {
          "output_type": "stream",
          "name": "stdout",
          "text": [
            "0.7898305084745763\n",
            "0.9357429718875502\n"
          ]
        }
      ]
    },
    {
      "cell_type": "code",
      "source": [
        "y_score=model.predict_proba(x_test)\n",
        "fpr,tpr,threshold=roc_curve(y_test,y_score[:,1])\n",
        "auc(fpr,tpr)"
      ],
      "metadata": {
        "colab": {
          "base_uri": "https://localhost:8080/"
        },
        "id": "xR-S6Uoq2wi8",
        "outputId": "c5053969-1ec7-43ce-d4e2-82f9aaa00795"
      },
      "execution_count": null,
      "outputs": [
        {
          "output_type": "execute_result",
          "data": {
            "text/plain": [
              "0.758446630558933"
            ]
          },
          "metadata": {},
          "execution_count": 156
        }
      ]
    },
    {
      "cell_type": "code",
      "source": [
        "# Feature importance\n",
        "importances = model.feature_importances_\n",
        "indices = np.argsort(importances)[::-1] \n",
        "names = [x_train.columns[i] for i in indices] \n",
        "plt.figure(figsize=(15, 7)) \n",
        "plt.title(\"Feature Importance\") \n",
        "plt.bar(range(x_train.shape[1]), importances[indices]) \n",
        "plt.xticks(range(x_train.shape[1]), names, rotation=90)\n",
        "plt.show()"
      ],
      "metadata": {
        "colab": {
          "base_uri": "https://localhost:8080/",
          "height": 531
        },
        "id": "a8n7_uUEtMpZ",
        "outputId": "adf289f0-d152-42cc-a66c-a04f63168417"
      },
      "execution_count": null,
      "outputs": [
        {
          "output_type": "display_data",
          "data": {
            "text/plain": [
              "<Figure size 1080x504 with 1 Axes>"
            ],
            "image/png": "[encoded data removed]"
          },
          "metadata": {
            "needs_background": "light"
          }
        }
      ]
    },
    {
      "cell_type": "markdown",
      "source": [
        "RandomForestClassifier"
      ],
      "metadata": {
        "id": "GQZMG8hntWBg"
      }
    },
    {
      "cell_type": "code",
      "source": [
        "from sklearn.model_selection import train_test_split"
      ],
      "metadata": {
        "id": "ySwIHoL_taUz"
      },
      "execution_count": null,
      "outputs": []
    },
    {
      "cell_type": "code",
      "source": [
        "x_train,x_test,y_train,y_test=train_test_split(xs,y,test_size=0.15,random_state=42)"
      ],
      "metadata": {
        "id": "IqRxN-zPte4Z"
      },
      "execution_count": null,
      "outputs": []
    },
    {
      "cell_type": "code",
      "source": [
        "print(x_train.shape,x_test.shape,y_train.shape,y_test.shape)"
      ],
      "metadata": {
        "colab": {
          "base_uri": "https://localhost:8080/"
        },
        "id": "klI-ds8btjHj",
        "outputId": "812cbc79-7229-47c2-c5d2-424c618b2844"
      },
      "execution_count": null,
      "outputs": [
        {
          "output_type": "stream",
          "name": "stdout",
          "text": [
            "(2023, 9) (358, 9) (2023,) (358,)\n"
          ]
        }
      ]
    },
    {
      "cell_type": "code",
      "source": [
        "ce_target=ce.TargetEncoder(cols=['City'])\n",
        "x_train=ce_target.fit_transform(x_train,y_train)\n",
        "x_val=ce_target.transform(x_val)\n",
        "x_test=ce_target.transform(x_test)"
      ],
      "metadata": {
        "colab": {
          "base_uri": "https://localhost:8080/"
        },
        "id": "DkBwyVX5tpV9",
        "outputId": "9b2c7df6-cce3-4b20-ac5b-8c687236c49e"
      },
      "execution_count": null,
      "outputs": [
        {
          "output_type": "stream",
          "name": "stderr",
          "text": [
            "/usr/local/lib/python3.7/dist-packages/category_encoders/target_encoder.py:94: FutureWarning: Default parameter min_samples_leaf will change in version 2.6.See https://github.com/scikit-learn-contrib/category_encoders/issues/327\n",
            "  category=FutureWarning)\n",
            "/usr/local/lib/python3.7/dist-packages/category_encoders/target_encoder.py:99: FutureWarning: Default parameter smoothing will change in version 2.6.See https://github.com/scikit-learn-contrib/category_encoders/issues/327\n",
            "  category=FutureWarning)\n"
          ]
        }
      ]
    },
    {
      "cell_type": "code",
      "source": [
        "x_train"
      ],
      "metadata": {
        "colab": {
          "base_uri": "https://localhost:8080/",
          "height": 424
        },
        "id": "v_VNZ9Pctt8Z",
        "outputId": "6a149fa8-267f-4163-b926-4954148f07ad"
      },
      "execution_count": null,
      "outputs": [
        {
          "output_type": "execute_result",
          "data": {
            "text/plain": [
              "        Age  Gender      City  Education_Level  Joining Designation  \\\n",
              "17031  23.0     1.0  0.716418                1                    1   \n",
              "9598   26.0     0.0  0.626667                0                    1   \n",
              "15855  40.0     0.0  0.710145                1                    2   \n",
              "1702   24.0     0.0  0.716418                0                    1   \n",
              "4648   27.0     1.0  0.739130                0                    3   \n",
              "...     ...     ...       ...              ...                  ...   \n",
              "12971  27.0     0.0  0.661538                1                    2   \n",
              "8753   26.0     1.0  0.716667                1                    1   \n",
              "9008   39.0     1.0  0.716667                1                    1   \n",
              "10216  31.0     0.0  0.709924                1                    1   \n",
              "6747   31.0     0.0  0.626866                2                    2   \n",
              "\n",
              "       Quarterly Rating  avg_inc  avg_grade  avg_business_val  \n",
              "17031                 4  43876.0        1.0     807186.666667  \n",
              "9598                  1  37613.0        1.0     221440.000000  \n",
              "15855                 1  59097.0        2.0     200000.000000  \n",
              "1702                  1  19170.0        1.0      96500.000000  \n",
              "4648                  1  79461.0        3.0          0.000000  \n",
              "...                 ...      ...        ...               ...  \n",
              "12971                 1  63402.0        2.0          0.000000  \n",
              "8753                  1  52789.0        1.0     104843.333333  \n",
              "9008                  1  17493.0        1.0          0.000000  \n",
              "10216                 1  31401.0        1.0          0.000000  \n",
              "6747                  1  76776.0        2.0     185050.000000  \n",
              "\n",
              "[2023 rows x 9 columns]"
            ],
            "text/html": [
              "\n",
              "  <div id=\"df-f3417cee-092e-4467-8219-0616fce9573b\">\n",
              "    <div class=\"colab-df-container\">\n",
              "      <div>\n",
              "<style scoped>\n",
              "    .dataframe tbody tr th:only-of-type {\n",
              "        vertical-align: middle;\n",
              "    }\n",
              "\n",
              "    .dataframe tbody tr th {\n",
              "        vertical-align: top;\n",
              "    }\n",
              "\n",
              "    .dataframe thead th {\n",
              "        text-align: right;\n",
              "    }\n",
              "</style>\n",
              "<table border=\"1\" class=\"dataframe\">\n",
              "  <thead>\n",
              "    <tr style=\"text-align: right;\">\n",
              "      <th></th>\n",
              "      <th>Age</th>\n",
              "      <th>Gender</th>\n",
              "      <th>City</th>\n",
              "      <th>Education_Level</th>\n",
              "      <th>Joining Designation</th>\n",
              "      <th>Quarterly Rating</th>\n",
              "      <th>avg_inc</th>\n",
              "      <th>avg_grade</th>\n",
              "      <th>avg_business_val</th>\n",
              "    </tr>\n",
              "  </thead>\n",
              "  <tbody>\n",
              "    <tr>\n",
              "      <th>17031</th>\n",
              "      <td>23.0</td>\n",
              "      <td>1.0</td>\n",
              "      <td>0.716418</td>\n",
              "      <td>1</td>\n",
              "      <td>1</td>\n",
              "      <td>4</td>\n",
              "      <td>43876.0</td>\n",
              "      <td>1.0</td>\n",
              "      <td>807186.666667</td>\n",
              "    </tr>\n",
              "    <tr>\n",
              "      <th>9598</th>\n",
              "      <td>26.0</td>\n",
              "      <td>0.0</td>\n",
              "      <td>0.626667</td>\n",
              "      <td>0</td>\n",
              "      <td>1</td>\n",
              "      <td>1</td>\n",
              "      <td>37613.0</td>\n",
              "      <td>1.0</td>\n",
              "      <td>221440.000000</td>\n",
              "    </tr>\n",
              "    <tr>\n",
              "      <th>15855</th>\n",
              "      <td>40.0</td>\n",
              "      <td>0.0</td>\n",
              "      <td>0.710145</td>\n",
              "      <td>1</td>\n",
              "      <td>2</td>\n",
              "      <td>1</td>\n",
              "      <td>59097.0</td>\n",
              "      <td>2.0</td>\n",
              "      <td>200000.000000</td>\n",
              "    </tr>\n",
              "    <tr>\n",
              "      <th>1702</th>\n",
              "      <td>24.0</td>\n",
              "      <td>0.0</td>\n",
              "      <td>0.716418</td>\n",
              "      <td>0</td>\n",
              "      <td>1</td>\n",
              "      <td>1</td>\n",
              "      <td>19170.0</td>\n",
              "      <td>1.0</td>\n",
              "      <td>96500.000000</td>\n",
              "    </tr>\n",
              "    <tr>\n",
              "      <th>4648</th>\n",
              "      <td>27.0</td>\n",
              "      <td>1.0</td>\n",
              "      <td>0.739130</td>\n",
              "      <td>0</td>\n",
              "      <td>3</td>\n",
              "      <td>1</td>\n",
              "      <td>79461.0</td>\n",
              "      <td>3.0</td>\n",
              "      <td>0.000000</td>\n",
              "    </tr>\n",
              "    <tr>\n",
              "      <th>...</th>\n",
              "      <td>...</td>\n",
              "      <td>...</td>\n",
              "      <td>...</td>\n",
              "      <td>...</td>\n",
              "      <td>...</td>\n",
              "      <td>...</td>\n",
              "      <td>...</td>\n",
              "      <td>...</td>\n",
              "      <td>...</td>\n",
              "    </tr>\n",
              "    <tr>\n",
              "      <th>12971</th>\n",
              "      <td>27.0</td>\n",
              "      <td>0.0</td>\n",
              "      <td>0.661538</td>\n",
              "      <td>1</td>\n",
              "      <td>2</td>\n",
              "      <td>1</td>\n",
              "      <td>63402.0</td>\n",
              "      <td>2.0</td>\n",
              "      <td>0.000000</td>\n",
              "    </tr>\n",
              "    <tr>\n",
              "      <th>8753</th>\n",
              "      <td>26.0</td>\n",
              "      <td>1.0</td>\n",
              "      <td>0.716667</td>\n",
              "      <td>1</td>\n",
              "      <td>1</td>\n",
              "      <td>1</td>\n",
              "      <td>52789.0</td>\n",
              "      <td>1.0</td>\n",
              "      <td>104843.333333</td>\n",
              "    </tr>\n",
              "    <tr>\n",
              "      <th>9008</th>\n",
              "      <td>39.0</td>\n",
              "      <td>1.0</td>\n",
              "      <td>0.716667</td>\n",
              "      <td>1</td>\n",
              "      <td>1</td>\n",
              "      <td>1</td>\n",
              "      <td>17493.0</td>\n",
              "      <td>1.0</td>\n",
              "      <td>0.000000</td>\n",
              "    </tr>\n",
              "    <tr>\n",
              "      <th>10216</th>\n",
              "      <td>31.0</td>\n",
              "      <td>0.0</td>\n",
              "      <td>0.709924</td>\n",
              "      <td>1</td>\n",
              "      <td>1</td>\n",
              "      <td>1</td>\n",
              "      <td>31401.0</td>\n",
              "      <td>1.0</td>\n",
              "      <td>0.000000</td>\n",
              "    </tr>\n",
              "    <tr>\n",
              "      <th>6747</th>\n",
              "      <td>31.0</td>\n",
              "      <td>0.0</td>\n",
              "      <td>0.626866</td>\n",
              "      <td>2</td>\n",
              "      <td>2</td>\n",
              "      <td>1</td>\n",
              "      <td>76776.0</td>\n",
              "      <td>2.0</td>\n",
              "      <td>185050.000000</td>\n",
              "    </tr>\n",
              "  </tbody>\n",
              "</table>\n",
              "<p>2023 rows × 9 columns</p>\n",
              "</div>\n",
              "      <button class=\"colab-df-convert\" onclick=\"convertToInteractive('df-f3417cee-092e-4467-8219-0616fce9573b')\"\n",
              "              title=\"Convert this dataframe to an interactive table.\"\n",
              "              style=\"display:none;\">\n",
              "        \n",
              "  <svg xmlns=\"http://www.w3.org/2000/svg\" height=\"24px\"viewBox=\"0 0 24 24\"\n",
              "       width=\"24px\">\n",
              "    <path d=\"M0 0h24v24H0V0z\" fill=\"none\"/>\n",
              "    <path d=\"M18.56 5.44l.94 2.06.94-2.06 2.06-.94-2.06-.94-.94-2.06-.94 2.06-2.06.94zm-11 1L8.5 8.5l.94-2.06 2.06-.94-2.06-.94L8.5 2.5l-.94 2.06-2.06.94zm10 10l.94 2.06.94-2.06 2.06-.94-2.06-.94-.94-2.06-.94 2.06-2.06.94z\"/><path d=\"M17.41 7.96l-1.37-1.37c-.4-.4-.92-.59-1.43-.59-.52 0-1.04.2-1.43.59L10.3 9.45l-7.72 7.72c-.78.78-.78 2.05 0 2.83L4 21.41c.39.39.9.59 1.41.59.51 0 1.02-.2 1.41-.59l7.78-7.78 2.81-2.81c.8-.78.8-2.07 0-2.86zM5.41 20L4 18.59l7.72-7.72 1.47 1.35L5.41 20z\"/>\n",
              "  </svg>\n",
              "      </button>\n",
              "      \n",
              "  <style>\n",
              "    .colab-df-container {\n",
              "      display:flex;\n",
              "      flex-wrap:wrap;\n",
              "      gap: 12px;\n",
              "    }\n",
              "\n",
              "    .colab-df-convert {\n",
              "      background-color: #E8F0FE;\n",
              "      border: none;\n",
              "      border-radius: 50%;\n",
              "      cursor: pointer;\n",
              "      display: none;\n",
              "      fill: #1967D2;\n",
              "      height: 32px;\n",
              "      padding: 0 0 0 0;\n",
              "      width: 32px;\n",
              "    }\n",
              "\n",
              "    .colab-df-convert:hover {\n",
              "      background-color: #E2EBFA;\n",
              "      box-shadow: 0px 1px 2px rgba(60, 64, 67, 0.3), 0px 1px 3px 1px rgba(60, 64, 67, 0.15);\n",
              "      fill: #174EA6;\n",
              "    }\n",
              "\n",
              "    [theme=dark] .colab-df-convert {\n",
              "      background-color: #3B4455;\n",
              "      fill: #D2E3FC;\n",
              "    }\n",
              "\n",
              "    [theme=dark] .colab-df-convert:hover {\n",
              "      background-color: #434B5C;\n",
              "      box-shadow: 0px 1px 3px 1px rgba(0, 0, 0, 0.15);\n",
              "      filter: drop-shadow(0px 1px 2px rgba(0, 0, 0, 0.3));\n",
              "      fill: #FFFFFF;\n",
              "    }\n",
              "  </style>\n",
              "\n",
              "      <script>\n",
              "        const buttonEl =\n",
              "          document.querySelector('#df-f3417cee-092e-4467-8219-0616fce9573b button.colab-df-convert');\n",
              "        buttonEl.style.display =\n",
              "          google.colab.kernel.accessAllowed ? 'block' : 'none';\n",
              "\n",
              "        async function convertToInteractive(key) {\n",
              "          const element = document.querySelector('#df-f3417cee-092e-4467-8219-0616fce9573b');\n",
              "          const dataTable =\n",
              "            await google.colab.kernel.invokeFunction('convertToInteractive',\n",
              "                                                     [key], {});\n",
              "          if (!dataTable) return;\n",
              "\n",
              "          const docLinkHtml = 'Like what you see? Visit the ' +\n",
              "            '<a target=\"_blank\" href=https://colab.research.google.com/notebooks/data_table.ipynb>data table notebook</a>'\n",
              "            + ' to learn more about interactive tables.';\n",
              "          element.innerHTML = '';\n",
              "          dataTable['output_type'] = 'display_data';\n",
              "          await google.colab.output.renderOutput(dataTable, element);\n",
              "          const docLink = document.createElement('div');\n",
              "          docLink.innerHTML = docLinkHtml;\n",
              "          element.appendChild(docLink);\n",
              "        }\n",
              "      </script>\n",
              "    </div>\n",
              "  </div>\n",
              "  "
            ]
          },
          "metadata": {},
          "execution_count": 162
        }
      ]
    },
    {
      "cell_type": "code",
      "source": [
        "from sklearn.model_selection import GridSearchCV,RandomizedSearchCV\n",
        "from sklearn.model_selection import KFold,cross_validate"
      ],
      "metadata": {
        "id": "HDFBOCBnt2ly"
      },
      "execution_count": null,
      "outputs": []
    },
    {
      "cell_type": "code",
      "source": [
        "from sklearn.ensemble import GradientBoostingClassifier, RandomForestClassifier"
      ],
      "metadata": {
        "id": "yF9s4YuGuWk4"
      },
      "execution_count": null,
      "outputs": []
    },
    {
      "cell_type": "code",
      "source": [
        "rf_model=RandomForestClassifier(random_state=1,class_weight={0:0.1,1:0.2})\n",
        "fold=KFold(n_splits=5)\n",
        "params={'n_estimators':[51,71,101],\n",
        "        'max_depth':[5,8,12,15,20],\n",
        "        'max_samples':[0.60,0.80],\n",
        "        'max_features':[0.60,0.80]}"
      ],
      "metadata": {
        "id": "CYsqD6jkt78Z"
      },
      "execution_count": null,
      "outputs": []
    },
    {
      "cell_type": "code",
      "source": [
        "clf=RandomizedSearchCV(rf_model,params,cv=fold,scoring='roc_auc',n_jobs=-1)"
      ],
      "metadata": {
        "id": "z8wUUZlwuQWu"
      },
      "execution_count": null,
      "outputs": []
    },
    {
      "cell_type": "code",
      "source": [
        "clf.fit(x_train,y_train)\n"
      ],
      "metadata": {
        "colab": {
          "base_uri": "https://localhost:8080/"
        },
        "id": "qLDPzNdhudby",
        "outputId": "36c5b6ba-f997-4d8e-cb25-12867f4e63a5"
      },
      "execution_count": null,
      "outputs": [
        {
          "output_type": "execute_result",
          "data": {
            "text/plain": [
              "RandomizedSearchCV(cv=KFold(n_splits=5, random_state=None, shuffle=False),\n",
              "                   estimator=RandomForestClassifier(class_weight={0: 0.1,\n",
              "                                                                  1: 0.2},\n",
              "                                                    random_state=1),\n",
              "                   n_jobs=-1,\n",
              "                   param_distributions={'max_depth': [5, 8, 12, 15, 20],\n",
              "                                        'max_features': [0.6, 0.8],\n",
              "                                        'max_samples': [0.6, 0.8],\n",
              "                                        'n_estimators': [51, 71, 101]},\n",
              "                   scoring='roc_auc')"
            ]
          },
          "metadata": {},
          "execution_count": 166
        }
      ]
    },
    {
      "cell_type": "code",
      "source": [
        "clf.best_estimator_"
      ],
      "metadata": {
        "colab": {
          "base_uri": "https://localhost:8080/"
        },
        "id": "yWEa6A25uiGc",
        "outputId": "d7b7a8af-25e5-4cd6-812d-5ac0adaaf918"
      },
      "execution_count": null,
      "outputs": [
        {
          "output_type": "execute_result",
          "data": {
            "text/plain": [
              "RandomForestClassifier(class_weight={0: 0.1, 1: 0.2}, max_depth=5,\n",
              "                       max_features=0.8, max_samples=0.8, n_estimators=101,\n",
              "                       random_state=1)"
            ]
          },
          "metadata": {},
          "execution_count": 167
        }
      ]
    },
    {
      "cell_type": "code",
      "source": [
        "rf_model=RandomForestClassifier(class_weight={0:0.1,1:0.2},max_depth=5,max_features=0.8,max_samples=0.8,n_estimators=101)\n",
        "rf_model.fit(x_train,y_train)\n",
        "print(rf_model.score(x_train,y_train))\n",
        "print(rf_model.score(x_test,y_test))"
      ],
      "metadata": {
        "colab": {
          "base_uri": "https://localhost:8080/"
        },
        "id": "MWOkFduluwuO",
        "outputId": "f31e5b65-c01a-4738-c030-17525f4fe432"
      },
      "execution_count": null,
      "outputs": [
        {
          "output_type": "stream",
          "name": "stdout",
          "text": [
            "0.8284725654967869\n",
            "0.7932960893854749\n"
          ]
        }
      ]
    },
    {
      "cell_type": "code",
      "source": [
        "ypred=rf_model.predict(x_test)\n",
        "confusion_matrix(y_test,ypred)"
      ],
      "metadata": {
        "colab": {
          "base_uri": "https://localhost:8080/"
        },
        "id": "jcrU4Zc2u8V_",
        "outputId": "87ec95e5-c394-4f69-a945-9768061625bf"
      },
      "execution_count": null,
      "outputs": [
        {
          "output_type": "execute_result",
          "data": {
            "text/plain": [
              "array([[ 49,  60],\n",
              "       [ 14, 235]])"
            ]
          },
          "metadata": {},
          "execution_count": 169
        }
      ]
    },
    {
      "cell_type": "code",
      "source": [
        "print(precision_score(y_test,ypred))\n",
        "print(recall_score(y_test,ypred))"
      ],
      "metadata": {
        "colab": {
          "base_uri": "https://localhost:8080/"
        },
        "id": "KPw6UsOcvCFb",
        "outputId": "c4ef9451-a03d-48c4-8015-63fe7438edde"
      },
      "execution_count": null,
      "outputs": [
        {
          "output_type": "stream",
          "name": "stdout",
          "text": [
            "0.7966101694915254\n",
            "0.9437751004016064\n"
          ]
        }
      ]
    },
    {
      "cell_type": "code",
      "source": [
        "y_score=rf_model.predict_proba(x_test)\n",
        "fpr,tpr,threshold=roc_curve(y_test,y_score[:,1])\n",
        "auc(fpr,tpr)"
      ],
      "metadata": {
        "colab": {
          "base_uri": "https://localhost:8080/"
        },
        "id": "kPdZKAkM4DjM",
        "outputId": "fecfa775-bfc6-48de-a5fc-e61bb95c6433"
      },
      "execution_count": null,
      "outputs": [
        {
          "output_type": "execute_result",
          "data": {
            "text/plain": [
              "0.7826167053535242"
            ]
          },
          "metadata": {},
          "execution_count": 171
        }
      ]
    },
    {
      "cell_type": "code",
      "source": [
        "# Feature importance\n",
        "importances = rf_model.feature_importances_\n",
        "indices = np.argsort(importances)[::-1] \n",
        "names = [x_train.columns[i] for i in indices] \n",
        "plt.figure(figsize=(15, 7)) \n",
        "plt.title(\"Feature Importance\") \n",
        "plt.bar(range(x_train.shape[1]), importances[indices]) \n",
        "plt.xticks(range(x_train.shape[1]), names, rotation=90)\n",
        "plt.show()"
      ],
      "metadata": {
        "colab": {
          "base_uri": "https://localhost:8080/",
          "height": 531
        },
        "id": "AkQqomIFvEVs",
        "outputId": "8f300419-16f9-42a4-d070-b5abca136903"
      },
      "execution_count": null,
      "outputs": [
        {
          "output_type": "display_data",
          "data": {
            "text/plain": [
              "<Figure size 1080x504 with 1 Axes>"
            ],
            "image/png": "[encoded data removed]"
          },
          "metadata": {
            "needs_background": "light"
          }
        }
      ]
    },
    {
      "cell_type": "markdown",
      "source": [
        "GBDTs"
      ],
      "metadata": {
        "id": "KvsrmAexvOnc"
      }
    },
    {
      "cell_type": "code",
      "source": [
        "from xgboost import XGBClassifier"
      ],
      "metadata": {
        "id": "3SetIGHovQ0C"
      },
      "execution_count": null,
      "outputs": []
    },
    {
      "cell_type": "code",
      "source": [
        "xgb=XGBClassifier(random_state=1)\n",
        "fold=KFold(n_splits=5)\n",
        "params={'n_estimators':[51,71,101],\n",
        "        'max_depth':[4,5,7],\n",
        "        'subsamples':[0.60,0.80],\n",
        "        'colsample_bytree':[0.60,0.80],\n",
        "        'learning_rate':[0.1,0.5,0.8]}"
      ],
      "metadata": {
        "id": "4e-26afBvVBx"
      },
      "execution_count": null,
      "outputs": []
    },
    {
      "cell_type": "code",
      "source": [
        "clf=RandomizedSearchCV(xgb,params,cv=fold,scoring='f1',n_jobs=-1)"
      ],
      "metadata": {
        "id": "ztDT6-WKvjvE"
      },
      "execution_count": null,
      "outputs": []
    },
    {
      "cell_type": "code",
      "source": [
        "clf.fit(x_train,y_train)"
      ],
      "metadata": {
        "colab": {
          "base_uri": "https://localhost:8080/"
        },
        "id": "nvH3a-sBvniy",
        "outputId": "be491fff-6d62-4b27-990a-81d901d731d0"
      },
      "execution_count": null,
      "outputs": [
        {
          "output_type": "execute_result",
          "data": {
            "text/plain": [
              "RandomizedSearchCV(cv=KFold(n_splits=5, random_state=None, shuffle=False),\n",
              "                   estimator=XGBClassifier(random_state=1), n_jobs=-1,\n",
              "                   param_distributions={'colsample_bytree': [0.6, 0.8],\n",
              "                                        'learning_rate': [0.1, 0.5, 0.8],\n",
              "                                        'max_depth': [4, 5, 7],\n",
              "                                        'n_estimators': [51, 71, 101],\n",
              "                                        'subsamples': [0.6, 0.8]},\n",
              "                   scoring='f1')"
            ]
          },
          "metadata": {},
          "execution_count": 176
        }
      ]
    },
    {
      "cell_type": "code",
      "source": [
        "clf.best_estimator_"
      ],
      "metadata": {
        "colab": {
          "base_uri": "https://localhost:8080/"
        },
        "id": "b7T1qAQVvu1w",
        "outputId": "8f61631e-71dc-4854-86fb-574db7398bf6"
      },
      "execution_count": null,
      "outputs": [
        {
          "output_type": "execute_result",
          "data": {
            "text/plain": [
              "XGBClassifier(colsample_bytree=0.6, learning_rate=0.5, max_depth=4,\n",
              "              n_estimators=51, random_state=1, subsamples=0.6)"
            ]
          },
          "metadata": {},
          "execution_count": 177
        }
      ]
    },
    {
      "cell_type": "code",
      "source": [
        "xgb=XGBClassifier(max_depth=4,colsample_bytree=0.6,subsamples=0.6,learning_rate=0.5,n_estimators=51)\n",
        "xgb.fit(x_train,y_train)\n",
        "print(xgb.score(x_train,y_train))\n",
        "print(xgb.score(x_test,y_test))"
      ],
      "metadata": {
        "colab": {
          "base_uri": "https://localhost:8080/"
        },
        "id": "yxN7cXPcv3bZ",
        "outputId": "32a27eff-60c6-4c5e-e41b-242c5c11c488"
      },
      "execution_count": null,
      "outputs": [
        {
          "output_type": "stream",
          "name": "stdout",
          "text": [
            "0.893227879387049\n",
            "0.7737430167597765\n"
          ]
        }
      ]
    },
    {
      "cell_type": "code",
      "source": [
        "ypred=xgb.predict(x_test)\n",
        "confusion_matrix(y_test,ypred)"
      ],
      "metadata": {
        "colab": {
          "base_uri": "https://localhost:8080/"
        },
        "id": "B9eEraC0vsD-",
        "outputId": "8312ce7d-67f1-4a18-bf33-266351c64298"
      },
      "execution_count": null,
      "outputs": [
        {
          "output_type": "execute_result",
          "data": {
            "text/plain": [
              "array([[ 53,  56],\n",
              "       [ 25, 224]])"
            ]
          },
          "metadata": {},
          "execution_count": 179
        }
      ]
    },
    {
      "cell_type": "code",
      "source": [
        "print(precision_score(y_test,ypred))\n",
        "print(recall_score(y_test,ypred))"
      ],
      "metadata": {
        "colab": {
          "base_uri": "https://localhost:8080/"
        },
        "id": "iRvNfMiMwbFY",
        "outputId": "021e81cf-202f-4560-dcb1-ddcc839a5643"
      },
      "execution_count": null,
      "outputs": [
        {
          "output_type": "stream",
          "name": "stdout",
          "text": [
            "0.8\n",
            "0.8995983935742972\n"
          ]
        }
      ]
    },
    {
      "cell_type": "code",
      "source": [
        "y_score=xgb.predict_proba(x_test)\n",
        "fpr,tpr,threshold=roc_curve(y_test,y_score[:,1])\n",
        "auc(fpr,tpr)"
      ],
      "metadata": {
        "colab": {
          "base_uri": "https://localhost:8080/"
        },
        "id": "eOyk-YzJwVd1",
        "outputId": "835fcb4b-0d16-41f3-fba9-71a532d8f156"
      },
      "execution_count": null,
      "outputs": [
        {
          "output_type": "execute_result",
          "data": {
            "text/plain": [
              "0.7425665966618769"
            ]
          },
          "metadata": {},
          "execution_count": 181
        }
      ]
    },
    {
      "cell_type": "markdown",
      "source": [
        "Insights:\n",
        "1)Monthly Income for the drivers who are still working is higher than the monthly Income for the drivers who have left.Median monthly income for the drivers who have left is 51000 while the median monthly income for the drivers who are still working is 61000.\n",
        "2)Almost same proportion of drivers have left at very Education level.Therefore it seems that Education level has no impact on the driver's attrition rate.\n",
        "3)There are 60% male drivers and 40% female drivers.The attrition rate for both males and females is very high(around 65%).\n",
        "4)Since it is an imbalanced dataset with 66% positives and 34% negatives,I have chosen AUC_ROC as the best performance metric.The area under roc curve is highest for the Random Forest Classifier(0.78).\n",
        "5)The most significant features which will determine whether a driver will leave or not are Quaterly Rating,last 3 months average  business value,last 3 months average Income while the least 3 contributing features are last 3 months average grade,education level and gender."
      ],
      "metadata": {
        "id": "MS0eLWZ1ZnKs"
      }
    },
    {
      "cell_type": "code",
      "source": [
        ""
      ],
      "metadata": {
        "id": "Os49nvZsbqJW"
      },
      "execution_count": null,
      "outputs": []
    }
  ]
}